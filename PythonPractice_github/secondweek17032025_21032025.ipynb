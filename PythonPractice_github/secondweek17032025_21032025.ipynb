{
 "cells": [
  {
   "cell_type": "code",
   "execution_count": null,
   "id": "db6623f9-7895-425d-bb91-921105b3c698",
   "metadata": {},
   "outputs": [],
   "source": [
    "#17/03/2025\n",
    "#if and if else\n",
    "#started with loops and iteration topic"
   ]
  },
  {
   "cell_type": "code",
   "execution_count": 18,
   "id": "912eaf7e-63f2-42e1-b0a5-05bae0a8a469",
   "metadata": {},
   "outputs": [
    {
     "name": "stdin",
     "output_type": "stream",
     "text": [
      "Enter a age: 15\n"
     ]
    },
    {
     "name": "stdout",
     "output_type": "stream",
     "text": [
      "You are not eligble \n",
      "Thanks for checking the voting rights eligibilty\n"
     ]
    }
   ],
   "source": [
    "a = int(input(\"Enter a age:\"))\n",
    "\n",
    "if a >= 18:\n",
    "    print(f\"You are eligible for voting since your are {a} years old \")\n",
    "else: \n",
    "    print(\"You are not eligble \")\n",
    "print(\"Thanks for checking the voting rights eligibilty\")"
   ]
  },
  {
   "cell_type": "code",
   "execution_count": 23,
   "id": "ad388702-0380-46e7-9b3d-4a4f8be84a53",
   "metadata": {},
   "outputs": [
    {
     "name": "stdout",
     "output_type": "stream",
     "text": [
      "***** The Menu *****\n",
      "1 . Pizza\n",
      "2 . Burger\n",
      "3 . Frenchfries\n",
      "4 . Salad\n",
      "***** Pizza and Frenchfries Categories *****\n",
      "1 . Large\n",
      "2 . Medium\n",
      "3 . Small\n",
      "***** Burger and Salad Categories *****\n",
      "1 . 1pcs\n",
      "2 . 2pcs\n",
      "3 . 3pcs\n",
      "4 . 4pcs\n",
      "5 . 5pcs\n"
     ]
    }
   ],
   "source": [
    "items = [\"Pizza\", \"Burger\", \"Frenchfries\", \"Salad\"]\n",
    "pfsize = [\"Large\", \"Medium\", \"Small\"]\n",
    "BScount = [\"1pcs\",\"2pcs\",\"3pcs\",\"4pcs\",\"5pcs\"]\n",
    "print(\"***** The Menu *****\")\n",
    "for i, j in enumerate(items):\n",
    "    print(f\"{i+1} . {j}\")\n",
    "print(\"***** Pizza and Frenchfries Categories *****\")\n",
    "for i, j in enumerate(pfsize):\n",
    "    print(f\"{i+1} . {j}\")\n",
    "print(\"***** Burger and Salad Categories *****\")\n",
    "for i, j in enumerate(BScount):\n",
    "    print(f\"{i+1} . {j}\")"
   ]
  },
  {
   "cell_type": "code",
   "execution_count": 34,
   "id": "d38b7195-f47c-49f0-ac39-32e93339b000",
   "metadata": {},
   "outputs": [
    {
     "name": "stdin",
     "output_type": "stream",
     "text": [
      "Enter your order Burger\n"
     ]
    },
    {
     "name": "stdout",
     "output_type": "stream",
     "text": [
      " So your order is Burger. Please select the category from menu \n"
     ]
    },
    {
     "name": "stdin",
     "output_type": "stream",
     "text": [
      "Your choice please: 5\n"
     ]
    },
    {
     "name": "stdout",
     "output_type": "stream",
     "text": [
      "Order for 5pcs of Burger is confirmed\n"
     ]
    }
   ],
   "source": [
    "order = input(\"Enter your order\")\n",
    "\n",
    "if order == items[0]:\n",
    "    print(f\" So your order is {order}. Please select the category from menu \")\n",
    "    size = input(\"Your choice please:\")\n",
    "    count = int(input(\"Enter your Count:\"))\n",
    "    if size == pfsize[0] or pfsize[1] or pfsize[2]:\n",
    "        print(f\"Order for {count} {size} {order} is confirmed\")\n",
    "elif order == items[2]:\n",
    "    print(f\" So your order is {order}. Please select the category from menu \")\n",
    "    size = input(\"Your choice please:\")\n",
    "    count = int(input(\"Enter your Count:\"))\n",
    "    if size == pfsize[0] or pfsize[1] or pfsize[2]:\n",
    "        print(f\"Order for {count} {size} {order} is confirmed\")\n",
    "elif order == items[1]:\n",
    "    print(f\" So your order is {order}. Please select the category from menu \")\n",
    "    size = input(\"Your choice please:\")\n",
    "    if size == BScount[0] or BScount[1] or BScount[2] or BScount[3] or BScount[4]:\n",
    "        print(f\"Order for {size}pcs of {order} is confirmed\")\n",
    "elif order == items[3]:\n",
    "    print(f\" So your order is {order}. Please select the category from menu \")\n",
    "    size = input(\"Your choice please:\")\n",
    "    if size == BScount[0] or BScount[1] or BScount[2] or BScount[3] or BScount[4]:\n",
    "        print(f\"Order for {size}pcs of {order} is confirmed\")\n",
    "else:\n",
    "    print(\"Order after seeing the Menu CLearly.\")\n",
    "\n",
    "        "
   ]
  },
  {
   "cell_type": "code",
   "execution_count": 43,
   "id": "866c9927-ae20-4868-93f3-feb163e4d021",
   "metadata": {},
   "outputs": [
    {
     "name": "stdout",
     "output_type": "stream",
     "text": [
      "Expected Answer.\n"
     ]
    }
   ],
   "source": [
    "# assert - used for testing purposes\n",
    "a= 2*2\n",
    "assert 2*2 == 4 ,\"The answer should be 4 but its giving {a} \"\n",
    "print(\"Expected Answer.\")"
   ]
  },
  {
   "cell_type": "code",
   "execution_count": 44,
   "id": "5a98bbc2-3d30-4b7d-be76-5481d36888e3",
   "metadata": {},
   "outputs": [
    {
     "ename": "AssertionError",
     "evalue": "The answer should be 4 but its giving {a} ",
     "output_type": "error",
     "traceback": [
      "\u001b[31m---------------------------------------------------------------------------\u001b[39m",
      "\u001b[31mAssertionError\u001b[39m                            Traceback (most recent call last)",
      "\u001b[36mCell\u001b[39m\u001b[36m \u001b[39m\u001b[32mIn[44]\u001b[39m\u001b[32m, line 2\u001b[39m\n\u001b[32m      1\u001b[39m a= \u001b[32m2\u001b[39m*\u001b[32m2\u001b[39m\n\u001b[32m----> \u001b[39m\u001b[32m2\u001b[39m \u001b[38;5;28;01massert\u001b[39;00m \u001b[32m2\u001b[39m*\u001b[32m2\u001b[39m == \u001b[32m8\u001b[39m ,\u001b[33m\"\u001b[39m\u001b[33mThe answer should be 4 but its giving \u001b[39m\u001b[38;5;132;01m{a}\u001b[39;00m\u001b[33m \u001b[39m\u001b[33m\"\u001b[39m\n\u001b[32m      3\u001b[39m \u001b[38;5;28mprint\u001b[39m(\u001b[33m\"\u001b[39m\u001b[33mExpected Answer.\u001b[39m\u001b[33m\"\u001b[39m)\n",
      "\u001b[31mAssertionError\u001b[39m: The answer should be 4 but its giving {a} "
     ]
    }
   ],
   "source": [
    "a= 2*2\n",
    "assert 2*2 == 8 ,\"The answer should be 4 but its giving {a} \"\n",
    "print(\"Expected Answer.\")"
   ]
  },
  {
   "cell_type": "code",
   "execution_count": null,
   "id": "86e4c7b8-eb32-4185-9cc7-466e9e8d03ec",
   "metadata": {},
   "outputs": [],
   "source": [
    "#18/03/2025\n",
    "#while loop\n",
    "#for loop\n",
    "#enumerate\n",
    "#comprehension\n"
   ]
  },
  {
   "cell_type": "code",
   "execution_count": 3,
   "id": "c1b0e960-3ff5-4407-9dc6-e35e3f149584",
   "metadata": {},
   "outputs": [
    {
     "name": "stdout",
     "output_type": "stream",
     "text": [
      "0\n",
      "1\n",
      "2\n",
      "3\n",
      "4\n",
      "5\n",
      "6\n",
      "7\n"
     ]
    }
   ],
   "source": [
    "#while loop\n",
    "\n",
    "# it is conditional based loop as far as if the given condition\n",
    "#stays as true, while loop will run Once the converted into false the loop will be terminated instantly\n",
    "\n",
    "i = 0\n",
    "\n",
    "while i < 8:\n",
    "    print(i)\n",
    "    i+=1\n",
    "\n",
    "\n",
    "\n"
   ]
  },
  {
   "cell_type": "code",
   "execution_count": 5,
   "id": "9b27da03-d1e8-4aee-8414-355359245f5f",
   "metadata": {},
   "outputs": [
    {
     "name": "stdout",
     "output_type": "stream",
     "text": [
      "0\n",
      "1\n",
      "2\n",
      "3\n",
      "4\n",
      "5\n"
     ]
    }
   ],
   "source": [
    "# break - willingly, prematurely, conditionally if we insist to terminate or stop a loop from running further\n",
    "\n",
    "i = 0\n",
    "\n",
    "while i < 8:\n",
    "    print(i)\n",
    "    if i == 5:\n",
    "        break\n",
    "    i+=1"
   ]
  },
  {
   "cell_type": "code",
   "execution_count": 5,
   "id": "2ba19cfc-0e54-48a3-8dbd-156c3b646691",
   "metadata": {},
   "outputs": [
    {
     "name": "stdout",
     "output_type": "stream",
     "text": [
      "1\n",
      "3\n",
      "5\n",
      "7\n"
     ]
    }
   ],
   "source": [
    "#continue - skipping , ignoring, the following ,from printinng certain values \n",
    "\n",
    "i = 0\n",
    "\n",
    "while i < 8:\n",
    "    i+=1\n",
    "\n",
    "    if i%2 == 0:\n",
    "        continue\n",
    "    print(i)"
   ]
  },
  {
   "cell_type": "code",
   "execution_count": 9,
   "id": "23308856-49f3-4c4d-b5db-91f494fa3835",
   "metadata": {},
   "outputs": [
    {
     "name": "stdout",
     "output_type": "stream",
     "text": [
      "[1, 2, 3]\n",
      "################\n",
      "[4, 5, 6]\n",
      "################\n",
      "[7, 8, 9]\n",
      "################\n"
     ]
    }
   ],
   "source": [
    "a = [\n",
    "    [1,2,3],\n",
    "    [4,5,6],\n",
    "    [7,8,9]\n",
    "]\n",
    "\n",
    "i = 0\n",
    "\n",
    "while i < len(a):\n",
    "    print(a[i])\n",
    "    i+=1\n",
    "\n",
    "    print(\"################\")"
   ]
  },
  {
   "cell_type": "code",
   "execution_count": 11,
   "id": "7a1c19f7-c44e-4add-806e-ec6f701faf34",
   "metadata": {},
   "outputs": [
    {
     "name": "stdout",
     "output_type": "stream",
     "text": [
      "31\n",
      "34\n",
      "35\n",
      "38\n",
      "End of Loop\n"
     ]
    }
   ],
   "source": [
    "#for loop - it is an iteration loop\n",
    "\n",
    "l1 = [31, 34, 35, 38]\n",
    "\n",
    "for i in l1:\n",
    "    print(i)\n",
    "print(\"End of Loop\")"
   ]
  },
  {
   "cell_type": "code",
   "execution_count": 14,
   "id": "d013b32b-6f99-4d76-a4ba-eec0cfb346fc",
   "metadata": {},
   "outputs": [
    {
     "name": "stdout",
     "output_type": "stream",
     "text": [
      "(0, 'apple')\n",
      "(1, 'orange')\n",
      "(2, 'banana')\n"
     ]
    }
   ],
   "source": [
    "# enumerate - inbuilt function that returns the elements 0f the passed sequence along with their position\n",
    "for i in enumerate((\"apple\", \"orange\", \"banana\")):\n",
    "    print(i)"
   ]
  },
  {
   "cell_type": "code",
   "execution_count": 16,
   "id": "fccd7807-9543-4a6f-a3fd-209d825fce3e",
   "metadata": {},
   "outputs": [
    {
     "name": "stdout",
     "output_type": "stream",
     "text": [
      "in the position 0 we have apple\n",
      "in the position 1 we have orange\n",
      "in the position 2 we have banana\n"
     ]
    }
   ],
   "source": [
    "#unpacking concept with enumerate\n",
    "\n",
    "for i , j in enumerate((\"apple\", \"orange\", \"banana\")):\n",
    "    print(f\"in the position {i} we have {j}\")"
   ]
  },
  {
   "cell_type": "code",
   "execution_count": 6,
   "id": "7af52bc5-7d9b-450d-b8d6-257ec5e1d477",
   "metadata": {},
   "outputs": [
    {
     "name": "stdout",
     "output_type": "stream",
     "text": [
      "[2, 4, 6, 8, 10, 12, 14, 16, 18, 20]\n",
      "[1, 2, 3, 4, 5, 6, 7, 8, 9]\n"
     ]
    }
   ],
   "source": [
    "#comprehension\n",
    "\n",
    "listc = [x*2 for x in range (1,11)]\n",
    "print(listc)\n",
    "a=[\n",
    "    [1,2,3],\n",
    "    [4,5,6],\n",
    "    [7,8,9]\n",
    "]\n",
    "flatten = [x for row in a for x in row]\n",
    "print(flatten)"
   ]
  },
  {
   "cell_type": "code",
   "execution_count": null,
   "id": "e1991335-d471-47a5-826d-434cb138e785",
   "metadata": {},
   "outputs": [],
   "source": [
    "#19/03/2025\n",
    "#function\n",
    "#\n",
    "#"
   ]
  },
  {
   "cell_type": "code",
   "execution_count": 7,
   "id": "71472b09-77ad-4289-9d56-8a755acd0704",
   "metadata": {},
   "outputs": [
    {
     "name": "stdout",
     "output_type": "stream",
     "text": [
      "hello\n",
      "None\n"
     ]
    }
   ],
   "source": [
    "#function\n",
    "\n",
    "def hello():\n",
    "    print(\"hello\")\n",
    "\n",
    "obj = hello()\n",
    "\n",
    "print(obj)"
   ]
  },
  {
   "cell_type": "code",
   "execution_count": 14,
   "id": "0bec59ed-d5be-4194-bebe-9a151181735d",
   "metadata": {},
   "outputs": [
    {
     "name": "stdout",
     "output_type": "stream",
     "text": [
      "hello Senthil Kumar.B\n"
     ]
    }
   ],
   "source": [
    "def hello():\n",
    "    return \"hello\"\n",
    "obj = hello()\n",
    "print(obj + \" Senthil Kumar.B\")"
   ]
  },
  {
   "cell_type": "code",
   "execution_count": 16,
   "id": "43135d45-ebae-46d3-9b94-19ec032b8f79",
   "metadata": {},
   "outputs": [
    {
     "name": "stdout",
     "output_type": "stream",
     "text": [
      "('hello Senthil Kumar of age ', 22.6)\n",
      "('hello Senthil Kumar of age ', 22.6)\n"
     ]
    }
   ],
   "source": [
    "def world():\n",
    "    a = 15\n",
    "    b = 7.6\n",
    "\n",
    "    return \"hello Senthil Kumar of age \", a+b\n",
    "\n",
    "print(world())\n",
    "obj = world()\n",
    "print(obj)"
   ]
  },
  {
   "cell_type": "code",
   "execution_count": 17,
   "id": "2987da61-3a26-4509-a9b4-e7dba0e1fb44",
   "metadata": {},
   "outputs": [
    {
     "name": "stdout",
     "output_type": "stream",
     "text": [
      "8\n",
      "4\n",
      "12\n"
     ]
    }
   ],
   "source": [
    "def add(a,b): # a and b are parameters\n",
    "    print(a)\n",
    "    print(b)\n",
    "\n",
    "    return a + b\n",
    "\n",
    "ans = add(8, 4) # a and b are arguments\n",
    "print (ans)"
   ]
  },
  {
   "cell_type": "code",
   "execution_count": 18,
   "id": "da1775a0-57a4-433c-be71-0728418ade69",
   "metadata": {},
   "outputs": [
    {
     "name": "stdout",
     "output_type": "stream",
     "text": [
      "Hello, Senthil!\n",
      "Hello, Guest!\n"
     ]
    }
   ],
   "source": [
    "#mytry\n",
    "\n",
    "#with default param\n",
    "\n",
    "def greet(name = \"Guest\"):\n",
    "    return f\"Hello, {name}!\"\n",
    "\n",
    "print(greet(\"Senthil\"))\n",
    "print(greet())"
   ]
  },
  {
   "cell_type": "code",
   "execution_count": 19,
   "id": "f9670909-1af8-4929-8bcc-d62d841ed1f5",
   "metadata": {},
   "outputs": [
    {
     "name": "stdout",
     "output_type": "stream",
     "text": [
      "20\n"
     ]
    }
   ],
   "source": [
    "#with multiple param\n",
    "\n",
    "def area(len, wid):\n",
    "    return len * wid\n",
    "\n",
    "calarea = area(4,5)\n",
    "print(calarea)"
   ]
  },
  {
   "cell_type": "code",
   "execution_count": 11,
   "id": "1a43d7cd-61ed-4d15-b21c-d664a9f75422",
   "metadata": {},
   "outputs": [
    {
     "name": "stdout",
     "output_type": "stream",
     "text": [
      "Using *args: 15\n",
      "****** Using *kwargs ******\n",
      "name: senthil\n",
      "age: 22\n",
      "country: india\n",
      "None\n"
     ]
    }
   ],
   "source": [
    "#with variable number of arguments (*args) (**kwargs):\n",
    "\n",
    "def cal_sum(*args):\n",
    "    return sum(args)\n",
    "\n",
    "print(\"Using *args:\",cal_sum(1,2,3,4,5))\n",
    "\n",
    "def print_val(**kwargs):\n",
    "    for key, value in kwargs.items():\n",
    "        print(f\"{key}: {value}\")\n",
    "\n",
    "print(\"****** Using *kwargs ******\")\n",
    "print(print_val(name=\"senthil\", age = 22, country = \"india\"))\n",
    "\n",
    "\n",
    "\n"
   ]
  },
  {
   "cell_type": "code",
   "execution_count": 9,
   "id": "2779bc56-1fbe-4f29-8799-3c6466116243",
   "metadata": {},
   "outputs": [
    {
     "name": "stdout",
     "output_type": "stream",
     "text": [
      "name: Alice\n",
      "age: 30\n",
      "country: USA\n"
     ]
    }
   ],
   "source": [
    "def print_info(**kwargs):\n",
    "    for key, value in kwargs.items():\n",
    "        print(f\"{key}: {value}\")\n",
    "\n",
    "print_info(name=\"Alice\", age=30, country=\"USA\")"
   ]
  },
  {
   "cell_type": "code",
   "execution_count": 12,
   "id": "7826358c-add8-406c-ae84-c10d83e42bf1",
   "metadata": {},
   "outputs": [
    {
     "name": "stdout",
     "output_type": "stream",
     "text": [
      "4\n"
     ]
    }
   ],
   "source": [
    "#lambda \n",
    "\n",
    "add = lambda x, y: x*y\n",
    "print(add(2,2))"
   ]
  },
  {
   "cell_type": "code",
   "execution_count": 17,
   "id": "1afa142a-1b1b-4445-a9ae-ec2d419e0d01",
   "metadata": {},
   "outputs": [
    {
     "name": "stdout",
     "output_type": "stream",
     "text": [
      "[1, 4, 9, 16, 25]\n"
     ]
    }
   ],
   "source": [
    "numbers = [1,2,3,4,5]\n",
    "sum = list(map(lambda x: x **2, numbers))\n",
    "print(sum)"
   ]
  },
  {
   "cell_type": "code",
   "execution_count": 18,
   "id": "e7a2493e-bb4d-4283-86a1-70775a397d5e",
   "metadata": {},
   "outputs": [
    {
     "name": "stdout",
     "output_type": "stream",
     "text": [
      "120\n"
     ]
    }
   ],
   "source": [
    "def factorial(n):\n",
    "    if n == 0 or n == 1:\n",
    "        return 1\n",
    "    else:\n",
    "        return n* factorial(n-1)\n",
    "print(factorial(5))"
   ]
  },
  {
   "cell_type": "code",
   "execution_count": null,
   "id": "a8ebca5b-62ab-4564-9af8-2d15a9663ef3",
   "metadata": {},
   "outputs": [],
   "source": [
    "# 20/03/2025 \n",
    "\n",
    "# arbitary argument functions\n",
    "# local and global variable\n",
    "# using documentation string within function\n",
    "# outer function and inner function"
   ]
  },
  {
   "cell_type": "code",
   "execution_count": 1,
   "id": "52f0b23e-510f-490e-b92a-cd1d2dca6e59",
   "metadata": {},
   "outputs": [
    {
     "name": "stdout",
     "output_type": "stream",
     "text": [
      "<class 'tuple'>\n",
      "5\n",
      "15\n"
     ]
    },
    {
     "data": {
      "text/plain": [
       "(1, 2, 3, 4, 5)"
      ]
     },
     "execution_count": 1,
     "metadata": {},
     "output_type": "execute_result"
    }
   ],
   "source": [
    "#arbitary argument function\n",
    "\n",
    "def fun(*args):\n",
    "    print(type(args))\n",
    "    print(len(args))\n",
    "    print(sum(args))\n",
    "    return args\n",
    "\n",
    "    "
   ]
  },
  {
   "cell_type": "code",
   "execution_count": 3,
   "id": "a9f05d34-586e-4de7-ba33-02bfa0f3c961",
   "metadata": {},
   "outputs": [
    {
     "name": "stdout",
     "output_type": "stream",
     "text": [
      "<class 'tuple'>\n",
      "5\n",
      "15\n",
      "(1, 2, 3, 4, 5)\n"
     ]
    }
   ],
   "source": [
    "print(fun(1,2,3,4,5))"
   ]
  },
  {
   "cell_type": "code",
   "execution_count": 7,
   "id": "43a551dd-0af3-4384-b885-fcea54644f44",
   "metadata": {},
   "outputs": [
    {
     "name": "stdout",
     "output_type": "stream",
     "text": [
      "<class 'dict'>\n",
      "3\n",
      "{'a': 'Apple', 'b': 'banana', 'c': 'cute'}\n"
     ]
    }
   ],
   "source": [
    "def fun1(**kwargs):\n",
    "    print(type(kwargs))\n",
    "    print(len(kwargs))\n",
    "    return kwargs\n",
    "print(fun1(a = \"Apple\", b = \"banana\", c = \"cute\"))"
   ]
  },
  {
   "cell_type": "code",
   "execution_count": 8,
   "id": "4f38b222-cd21-4523-8975-584d1ca95262",
   "metadata": {},
   "outputs": [
    {
     "name": "stdout",
     "output_type": "stream",
     "text": [
      "coukoo coukoo\n"
     ]
    }
   ],
   "source": [
    "def ringtone(ring):\n",
    "    print(ring, ring)\n",
    "\n",
    "ringtone(\"coukoo\")"
   ]
  },
  {
   "cell_type": "code",
   "execution_count": 12,
   "id": "cf51ca9b-f195-4ca4-9a3e-eac772009345",
   "metadata": {},
   "outputs": [
    {
     "name": "stdout",
     "output_type": "stream",
     "text": [
      "kuwa kuwa\n"
     ]
    }
   ],
   "source": [
    "def ringtone(ring = \"kuwa\"):\n",
    "    print(ring, ring)\n",
    "\n",
    "ringtone()\n"
   ]
  },
  {
   "cell_type": "code",
   "execution_count": 11,
   "id": "011e2349-878d-4acf-955a-9750d78a12da",
   "metadata": {},
   "outputs": [
    {
     "name": "stdout",
     "output_type": "stream",
     "text": [
      "cuckoo cuckoo\n"
     ]
    }
   ],
   "source": [
    "ringtone(\"cuckoo\")"
   ]
  },
  {
   "cell_type": "code",
   "execution_count": 26,
   "id": "273fe8d2-6b03-4769-977e-3df7751b690f",
   "metadata": {},
   "outputs": [],
   "source": [
    "#local and global variable\n",
    "# x=56 #global variable\n",
    "# def trys():\n",
    "#   x=45 # local variable\n",
    "#   print(x)\n",
    "# print(x)\n",
    "# trys()"
   ]
  },
  {
   "cell_type": "code",
   "execution_count": 27,
   "id": "d9a14aba-3861-4253-86fe-7072cf5fde6f",
   "metadata": {},
   "outputs": [
    {
     "name": "stdout",
     "output_type": "stream",
     "text": [
      "45\n",
      "45\n"
     ]
    }
   ],
   "source": [
    "def tryss():\n",
    "    global x\n",
    "    x = 45\n",
    "    print(x)\n",
    "tryss()\n",
    "print(x)"
   ]
  },
  {
   "cell_type": "code",
   "execution_count": 35,
   "id": "df6e710b-4ccd-4961-b2b1-0317b8aad038",
   "metadata": {},
   "outputs": [
    {
     "data": {
      "text/plain": [
       "4"
      ]
     },
     "execution_count": 35,
     "metadata": {},
     "output_type": "execute_result"
    }
   ],
   "source": [
    "# using documentation string within function\n",
    "def trysss(a, b):\n",
    "    \"\"\"\n",
    "    This code is just simple code that adds the two \n",
    "    values for example 1 + 3 = 4\n",
    "    \n",
    "    \"\"\"\n",
    "    return a+b\n",
    "trysss(1,3)"
   ]
  },
  {
   "cell_type": "code",
   "execution_count": 34,
   "id": "9ba88987-1673-469f-a787-705bc73196d4",
   "metadata": {},
   "outputs": [
    {
     "name": "stdout",
     "output_type": "stream",
     "text": [
      "\n",
      "This code is just simple code that adds the two \n",
      "values for example 1 + 3 = 4\n",
      "\n",
      "\n"
     ]
    }
   ],
   "source": [
    "print(trysss.__doc__)"
   ]
  },
  {
   "cell_type": "code",
   "execution_count": 51,
   "id": "ab53625c-f26b-4a57-b8a9-2c1c76a5be52",
   "metadata": {},
   "outputs": [],
   "source": [
    "def outer():\n",
    "    def inner():\n",
    "        return 1+3\n",
    "    return inner\n",
    "    \n",
    "obj = outer()\n",
    "\n"
   ]
  },
  {
   "cell_type": "code",
   "execution_count": 53,
   "id": "2e8843ac-030e-4bf7-879b-bd0c564b9447",
   "metadata": {},
   "outputs": [
    {
     "name": "stdout",
     "output_type": "stream",
     "text": [
      "4\n"
     ]
    }
   ],
   "source": [
    "print(obj())"
   ]
  },
  {
   "cell_type": "code",
   "execution_count": 65,
   "id": "d4f751b9-5dd8-4e11-a38b-0d44bc0f20cc",
   "metadata": {},
   "outputs": [
    {
     "name": "stdout",
     "output_type": "stream",
     "text": [
      "6\n",
      "3\n"
     ]
    },
    {
     "data": {
      "text/plain": [
       "9"
      ]
     },
     "execution_count": 65,
     "metadata": {},
     "output_type": "execute_result"
    }
   ],
   "source": [
    "def outer(m):\n",
    "    print(m)\n",
    "    def inner(n):\n",
    "        print(n)\n",
    "        return m + n\n",
    "    return inner\n",
    "obj = outer(6)\n",
    "obj(3)"
   ]
  },
  {
   "cell_type": "code",
   "execution_count": null,
   "id": "22d1b5f2-6c5a-4d2b-a9bb-ca032519f29c",
   "metadata": {},
   "outputs": [],
   "source": [
    "# 21/03/2025 \n",
    "\n",
    "# decorators\n",
    "# lambda function - filter,map,reduce\n",
    "# file handling - read and write\n"
   ]
  },
  {
   "cell_type": "code",
   "execution_count": 69,
   "id": "ac50cd7b-d066-43d0-ba56-1ca1914fef1a",
   "metadata": {},
   "outputs": [
    {
     "name": "stdout",
     "output_type": "stream",
     "text": [
      "wraaping code around the passing function\n",
      "hello world\n",
      "end of inner decoration\n"
     ]
    }
   ],
   "source": [
    "#decorators\n",
    "\n",
    "def decoration(hello):\n",
    "    def wrapper():\n",
    "        print(\"wraaping code around the passing function\")\n",
    "        print(hello())\n",
    "        print(\"end of inner decoration\")\n",
    "    return wrapper\n",
    "\n",
    "@decoration\n",
    "def hello():\n",
    "    return \"hello world\"\n",
    "\n",
    "hello()"
   ]
  },
  {
   "cell_type": "code",
   "execution_count": 88,
   "id": "11eee2c3-e90d-4b6c-b0b4-de61f1e91f67",
   "metadata": {},
   "outputs": [
    {
     "name": "stdout",
     "output_type": "stream",
     "text": [
      "a is 4 and b is 2\n",
      "2.0\n"
     ]
    }
   ],
   "source": [
    "def zero_eval(fun):\n",
    "    def wrapper(a,b):\n",
    "        if b == 0:\n",
    "            print(\"division zero is not a good way as it leads to error\")\n",
    "            b = int(input(\"Enter a whole numer other than 0:\"))\n",
    "            print(f\"Also remember the b = {b} should be less than a = {a}\")\n",
    "            print(fun(a, b))\n",
    "        else:\n",
    "            print(f\"a is {a} and b is {b}\")\n",
    "            print(fun(a,b))\n",
    "    return wrapper\n",
    "\n",
    "@zero_eval\n",
    "def div(a,b):\n",
    "    return a/b\n",
    "\n",
    "div(4,2)"
   ]
  },
  {
   "cell_type": "code",
   "execution_count": 74,
   "id": "83dd7a24-4037-4744-a495-70c21b0c1d68",
   "metadata": {},
   "outputs": [
    {
     "data": {
      "text/plain": [
       "5"
      ]
     },
     "execution_count": 74,
     "metadata": {},
     "output_type": "execute_result"
    }
   ],
   "source": [
    "# lambda function = is a nameless function which can takes numerous arguments\n",
    "\n",
    "add = lambda x,y: x+y\n",
    "\n",
    "add(3,2)"
   ]
  },
  {
   "cell_type": "code",
   "execution_count": 75,
   "id": "3ff10a6b-d6af-4e76-bb36-82f765e214c1",
   "metadata": {},
   "outputs": [],
   "source": [
    "l1 = [\"apple\", \"orange\", \"kiwi\", \"banana\" ]\n",
    "l1.sort()"
   ]
  },
  {
   "cell_type": "code",
   "execution_count": 76,
   "id": "ad053cac-74fb-4e62-b888-0ef30dc178ea",
   "metadata": {},
   "outputs": [
    {
     "data": {
      "text/plain": [
       "['apple', 'banana', 'kiwi', 'orange']"
      ]
     },
     "execution_count": 76,
     "metadata": {},
     "output_type": "execute_result"
    }
   ],
   "source": [
    "l1"
   ]
  },
  {
   "cell_type": "code",
   "execution_count": 77,
   "id": "a9dd7a60-aebd-438f-9e6d-d93a0e66a168",
   "metadata": {},
   "outputs": [
    {
     "data": {
      "text/plain": [
       "['kiwi', 'apple', 'banana', 'orange']"
      ]
     },
     "execution_count": 77,
     "metadata": {},
     "output_type": "execute_result"
    }
   ],
   "source": [
    "l1.sort(key = lambda x: len(x))\n",
    "l1"
   ]
  },
  {
   "cell_type": "code",
   "execution_count": 85,
   "id": "1937f501-5127-4405-b819-ca768bbef73e",
   "metadata": {},
   "outputs": [
    {
     "name": "stdout",
     "output_type": "stream",
     "text": [
      "apple\n",
      "banana\n",
      "orange\n"
     ]
    }
   ],
   "source": [
    "for i in filter(lambda x : \"a\" in x, l1):\n",
    "    print(i)"
   ]
  },
  {
   "cell_type": "code",
   "execution_count": 91,
   "id": "e588aa98-231e-4421-9630-142c89bf7dfc",
   "metadata": {},
   "outputs": [
    {
     "name": "stdout",
     "output_type": "stream",
     "text": [
      "['apple', 'banana', 'orange']\n"
     ]
    }
   ],
   "source": [
    "ans = list(filter(lambda x: \"a\" in x,l1))\n",
    "print(ans)"
   ]
  },
  {
   "cell_type": "code",
   "execution_count": 96,
   "id": "5558fae9-0cf3-419c-ad4e-29e05c52153d",
   "metadata": {},
   "outputs": [
    {
     "name": "stdout",
     "output_type": "stream",
     "text": [
      "['kiwi cake', 'apple cake', 'banana cake', 'orange cake']\n"
     ]
    }
   ],
   "source": [
    "\n",
    "ans = list(map(lambda x: x + \" cake\",l1))\n",
    "print(ans)"
   ]
  },
  {
   "cell_type": "code",
   "execution_count": 97,
   "id": "bec49026-b322-4535-8234-9587b0ee6568",
   "metadata": {},
   "outputs": [
    {
     "data": {
      "text/plain": [
       "347"
      ]
     },
     "execution_count": 97,
     "metadata": {},
     "output_type": "execute_result"
    }
   ],
   "source": [
    "from functools import reduce\n",
    "\n",
    "l1 = [400,12,7,34]\n",
    "ans = reduce(lambda x,y:x-y,l1)\n",
    "ans"
   ]
  },
  {
   "cell_type": "code",
   "execution_count": 98,
   "id": "1fefe825-bf20-40a5-b4a1-705aede9cf26",
   "metadata": {},
   "outputs": [
    {
     "data": {
      "text/plain": [
       "453"
      ]
     },
     "execution_count": 98,
     "metadata": {},
     "output_type": "execute_result"
    }
   ],
   "source": [
    "l1 = [400,12,7,34]\n",
    "ans = reduce(lambda x,y:x+y,l1)\n",
    "ans"
   ]
  },
  {
   "cell_type": "code",
   "execution_count": 100,
   "id": "a38e2055-0ae9-422c-a41d-5afa54dc4439",
   "metadata": {},
   "outputs": [
    {
     "name": "stdout",
     "output_type": "stream",
     "text": [
      "1. learn python basics\n",
      "2. practice simple codes for every topic \n",
      "3.practice in platforms like leetcode ,hackerrank etc\n"
     ]
    }
   ],
   "source": [
    "file_data = open(\"sample.txt.txt\",\"r\")\n",
    "print(file_data.read())"
   ]
  },
  {
   "cell_type": "code",
   "execution_count": 101,
   "id": "d2c11d47-1dc0-41be-aae8-bedf8eb3d987",
   "metadata": {},
   "outputs": [
    {
     "name": "stdout",
     "output_type": "stream",
     "text": [
      "1. learn python basics\n",
      "\n"
     ]
    }
   ],
   "source": [
    "file_data = open(\"sample.txt.txt\",\"r\")\n",
    "print(file_data.readline())"
   ]
  },
  {
   "cell_type": "code",
   "execution_count": 102,
   "id": "2ba5ca5c-2342-42ad-accb-0cdda5cca3aa",
   "metadata": {},
   "outputs": [
    {
     "name": "stdout",
     "output_type": "stream",
     "text": [
      "2. practice simple codes for every topic \n",
      "\n"
     ]
    }
   ],
   "source": [
    "print(file_data.readline())"
   ]
  },
  {
   "cell_type": "code",
   "execution_count": 103,
   "id": "f4801c7a-0e40-41f7-9379-de57712865e9",
   "metadata": {},
   "outputs": [
    {
     "name": "stdout",
     "output_type": "stream",
     "text": [
      "3.practice in platforms like leetcode ,hackerrank etc\n"
     ]
    }
   ],
   "source": [
    "print(file_data.readline())"
   ]
  },
  {
   "cell_type": "code",
   "execution_count": 104,
   "id": "51b34108-5a3b-476e-ae56-952d27c7831a",
   "metadata": {},
   "outputs": [
    {
     "name": "stdout",
     "output_type": "stream",
     "text": [
      "1. learn python basics\n",
      "\n",
      "2. practice simple codes for every topic \n",
      "\n",
      "3.practice in platforms like leetcode ,hackerrank etc\n"
     ]
    }
   ],
   "source": [
    "for lines in open(\"sample.txt.txt\", \"r\"):\n",
    "    print(lines)"
   ]
  },
  {
   "cell_type": "code",
   "execution_count": 105,
   "id": "59f6b85f-8fe8-470e-b921-ab33ad4e8efc",
   "metadata": {},
   "outputs": [],
   "source": [
    "write_file = open(\"sample.txt\",\"w\")\n",
    "write_file.write(\"this file is newly created\")\n",
    "write_file.close()"
   ]
  },
  {
   "cell_type": "code",
   "execution_count": 107,
   "id": "0d3adfdd-c031-41d5-be41-c29ac5190367",
   "metadata": {},
   "outputs": [],
   "source": [
    "write_file = open(\"sample.txt\",\"w\")\n",
    "write_file.writelines(\"this file is added new line.\")\n",
    "write_file.close()"
   ]
  },
  {
   "cell_type": "code",
   "execution_count": 109,
   "id": "7571e6b7-708c-406f-b79f-1507ad23107e",
   "metadata": {},
   "outputs": [],
   "source": [
    "lines = ['Different programming languages\\n',\n",
    "          '1.python\\n',\n",
    "          '2.c\\n',\n",
    "           '3.c++\\n',\n",
    "           '4.Java\\n']\n",
    "\n",
    "write_file = open(\"sample.txt\", \"w\")\n",
    "\n",
    "write_file.writelines(lines)\n",
    "\n",
    "write_file.close()"
   ]
  }
 ],
 "metadata": {
  "kernelspec": {
   "display_name": "Python 3 (ipykernel)",
   "language": "python",
   "name": "python3"
  },
  "language_info": {
   "codemirror_mode": {
    "name": "ipython",
    "version": 3
   },
   "file_extension": ".py",
   "mimetype": "text/x-python",
   "name": "python",
   "nbconvert_exporter": "python",
   "pygments_lexer": "ipython3",
   "version": "3.13.2"
  }
 },
 "nbformat": 4,
 "nbformat_minor": 5
}

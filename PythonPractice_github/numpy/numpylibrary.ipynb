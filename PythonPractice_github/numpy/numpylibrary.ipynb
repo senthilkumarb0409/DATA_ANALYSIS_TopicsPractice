{
 "cells": [
  {
   "cell_type": "code",
   "execution_count": null,
   "id": "724a1e96-9132-443a-b943-7e1975a0886b",
   "metadata": {},
   "outputs": [],
   "source": [
    "#27-03-2025 : started with basics of numpy and some practices"
   ]
  },
  {
   "cell_type": "code",
   "execution_count": 1,
   "id": "a181211c-ab64-4696-aaa5-31fb024f8e07",
   "metadata": {},
   "outputs": [],
   "source": [
    "import numpy as np"
   ]
  },
  {
   "cell_type": "code",
   "execution_count": 2,
   "id": "beb1a715-93ab-4e2d-ae1e-8b21e0198071",
   "metadata": {},
   "outputs": [
    {
     "name": "stdout",
     "output_type": "stream",
     "text": [
      "[1, 2, 3, 4, 5]\n"
     ]
    }
   ],
   "source": [
    "lst = [1,2,3,4,5]\n",
    "print(lst)"
   ]
  },
  {
   "cell_type": "code",
   "execution_count": 11,
   "id": "b2344132-d41a-4252-ba6e-bd282edb8a5d",
   "metadata": {},
   "outputs": [
    {
     "name": "stdout",
     "output_type": "stream",
     "text": [
      "1D ARRAY\n",
      "[1 2 3 4 5]\n",
      "5\n",
      "(5,)\n"
     ]
    }
   ],
   "source": [
    "print('1D ARRAY')\n",
    "a = np.array([1,2,3,4,5])\n",
    "print(a)\n",
    "print(a.size)\n",
    "print(a.shape)"
   ]
  },
  {
   "cell_type": "code",
   "execution_count": 12,
   "id": "a97c3f36-30b4-494d-a591-f0daf2c5f283",
   "metadata": {},
   "outputs": [
    {
     "name": "stdout",
     "output_type": "stream",
     "text": [
      "2D ARRAY\n",
      "[[ 1  2  3  4  5]\n",
      " [ 6  7  8  9 10]]\n",
      "10\n",
      "(2, 5)\n"
     ]
    }
   ],
   "source": [
    "print('2D ARRAY')\n",
    "b = np.array([[1,2,3,4,5],\n",
    "            [6,7,8,9,10]])\n",
    "print(b)\n",
    "print(b.size)\n",
    "print(b.shape)"
   ]
  },
  {
   "cell_type": "code",
   "execution_count": 14,
   "id": "da5706e5-171d-4c7d-8fdc-47bd22bbb79c",
   "metadata": {},
   "outputs": [
    {
     "name": "stdout",
     "output_type": "stream",
     "text": [
      "3D ARRAY\n",
      "[[ 1  2  3  4  5]\n",
      " [ 6  7  8  9 10]\n",
      " [11 12 13 14 15]]\n",
      "15\n",
      "(3, 5)\n"
     ]
    }
   ],
   "source": [
    "print('3D ARRAY')\n",
    "c = np.array([[1,2,3,4,5],\n",
    "            [6,7,8,9,10],[11,12,13,14,15]])\n",
    "print(c)\n",
    "print(c.size)\n",
    "print(c.shape)"
   ]
  },
  {
   "cell_type": "code",
   "execution_count": 16,
   "id": "0fc588f8-2a4c-4803-a0cf-a3d7be430b06",
   "metadata": {},
   "outputs": [
    {
     "name": "stdout",
     "output_type": "stream",
     "text": [
      "<class 'numpy.ndarray'>\n",
      "int64\n",
      "int64\n",
      "int64\n"
     ]
    }
   ],
   "source": [
    "print(type(c))\n",
    "print(a.dtype)\n",
    "print(b.dtype)\n",
    "print(c.dtype)"
   ]
  },
  {
   "cell_type": "code",
   "execution_count": 21,
   "id": "907feefb-8115-4e4b-9323-c2e24bc12791",
   "metadata": {},
   "outputs": [
    {
     "name": "stdout",
     "output_type": "stream",
     "text": [
      "[[ 1  2  3  4  5]\n",
      " [ 6  7  8  9 10]\n",
      " [11 12 13 14 15]]\n",
      "[[ 1  6 11]\n",
      " [ 2  7 12]\n",
      " [ 3  8 13]\n",
      " [ 4  9 14]\n",
      " [ 5 10 15]]\n",
      "(3, 5)\n",
      "(5, 3)\n"
     ]
    }
   ],
   "source": [
    "arr = np.array([[1,2,3,4,5],\n",
    "            [6,7,8,9,10],[11,12,13,14,15]])\n",
    "print(arr)\n",
    "arr1 = arr.transpose()\n",
    "print(arr1)\n",
    "print(arr.shape)\n",
    "print(arr1.shape)"
   ]
  },
  {
   "cell_type": "code",
   "execution_count": 22,
   "id": "38b2e2ac-7210-4c64-a5e0-dcb0b44f26d8",
   "metadata": {},
   "outputs": [
    {
     "data": {
      "text/plain": [
       "array([[23925768161198147, 32370111954616435, 30962681235308636,\n",
       "        30399748463132788],\n",
       "       [30681274977550368, 12948244073152609, 32651616996819049,\n",
       "        25896170311057512],\n",
       "       [28710924373327984, 26740556586287209, 27303510834217060,\n",
       "        25896196080664693],\n",
       "       [32651591226556520, 12948368627204207, 29555336418492531,\n",
       "        33495715508715636]])"
      ]
     },
     "execution_count": 22,
     "metadata": {},
     "output_type": "execute_result"
    }
   ],
   "source": [
    "# np.empty((rows,cols),dtype)\n",
    "\n",
    "np.empty((4,4), dtype= int)"
   ]
  },
  {
   "cell_type": "code",
   "execution_count": 29,
   "id": "54407711-f8ab-4141-a967-f1aeb2347472",
   "metadata": {},
   "outputs": [
    {
     "data": {
      "text/plain": [
       "array([[1, 1, 1, 1, 1, 1]])"
      ]
     },
     "execution_count": 29,
     "metadata": {},
     "output_type": "execute_result"
    }
   ],
   "source": [
    "# np.ones((rows,cols),dtype)\n",
    "# np.zeros((rows,cols),dtype)\n",
    "\n",
    "arr =  np.ones((1,6),dtype = int)\n",
    "arr"
   ]
  },
  {
   "cell_type": "code",
   "execution_count": 28,
   "id": "7acd62a8-54d4-4783-811f-cba055dd55b7",
   "metadata": {},
   "outputs": [
    {
     "data": {
      "text/plain": [
       "array([[1, 1, 1, 1, 1, 1],\n",
       "       [1, 1, 1, 1, 1, 1],\n",
       "       [1, 1, 1, 1, 1, 1]])"
      ]
     },
     "execution_count": 28,
     "metadata": {},
     "output_type": "execute_result"
    }
   ],
   "source": [
    "arr =  np.ones((3,6),dtype = int)\n",
    "arr"
   ]
  },
  {
   "cell_type": "code",
   "execution_count": 30,
   "id": "9ea46a94-3ce0-4087-941c-d6358c2ee791",
   "metadata": {},
   "outputs": [
    {
     "name": "stdout",
     "output_type": "stream",
     "text": [
      "[ 2  4  6  8 10 12 14 16 18]\n"
     ]
    }
   ],
   "source": [
    "# np.arange(start,end,step)\n",
    "\n",
    "a = np.arange(2,20,2)\n",
    "print(a)"
   ]
  },
  {
   "cell_type": "code",
   "execution_count": 33,
   "id": "e25071b3-a855-464c-af3c-9e1170bf42a7",
   "metadata": {},
   "outputs": [
    {
     "name": "stdout",
     "output_type": "stream",
     "text": [
      "[[ 2  4  6]\n",
      " [ 8 10 12]\n",
      " [14 16 18]]\n"
     ]
    }
   ],
   "source": [
    "# .reshape((rows,cols))\n",
    "\n",
    "a = a.reshape(3,3)\n",
    "b = a\n",
    "print(b)"
   ]
  },
  {
   "cell_type": "code",
   "execution_count": 40,
   "id": "90a5e97c-27eb-43c9-a4fe-71725f85b83c",
   "metadata": {},
   "outputs": [
    {
     "name": "stdout",
     "output_type": "stream",
     "text": [
      "[ 2  4  6  8 10 12 14 16 18]\n"
     ]
    }
   ],
   "source": [
    "# .flatten() -copy of original array\n",
    "\n",
    "c = b.flatten()\n",
    "print(c)"
   ]
  },
  {
   "cell_type": "code",
   "execution_count": 41,
   "id": "1d19ab79-2c60-439b-9493-8c92abb5706b",
   "metadata": {},
   "outputs": [
    {
     "data": {
      "text/plain": [
       "array([ 2,  4,  6,  8, 10, 12, 14, 16, 18])"
      ]
     },
     "execution_count": 41,
     "metadata": {},
     "output_type": "execute_result"
    }
   ],
   "source": [
    "# .ravel() - refernce of original array\n",
    "\n",
    "b.ravel()"
   ]
  },
  {
   "cell_type": "code",
   "execution_count": 42,
   "id": "3f18e4e8-4bd0-465f-bfa9-8f091197c692",
   "metadata": {},
   "outputs": [
    {
     "data": {
      "text/plain": [
       "array([[ 1,  2,  3,  4,  5],\n",
       "       [ 6,  7,  8,  9, 10],\n",
       "       [11, 12, 13, 14, 15],\n",
       "       [16, 17, 18, 19, 20],\n",
       "       [21, 22, 23, 24, 25],\n",
       "       [26, 27, 28, 29, 30],\n",
       "       [31, 32, 33, 34, 35],\n",
       "       [36, 37, 38, 39, 40],\n",
       "       [41, 42, 43, 44, 45],\n",
       "       [46, 47, 48, 49, 50]])"
      ]
     },
     "execution_count": 42,
     "metadata": {},
     "output_type": "execute_result"
    }
   ],
   "source": [
    "#array slicing\n",
    "\n",
    "arr = np.arange(1,51)\n",
    "arr = arr.reshape(10,5)\n",
    "arr"
   ]
  },
  {
   "cell_type": "code",
   "execution_count": 45,
   "id": "a623c2ab-efb5-4412-869d-e278210ff022",
   "metadata": {},
   "outputs": [
    {
     "name": "stdout",
     "output_type": "stream",
     "text": [
      "[1 2 3 4 5]\n",
      "[11 12 13 14 15]\n",
      "4\n"
     ]
    }
   ],
   "source": [
    "print(arr[0])\n",
    "print(arr[2])\n",
    "print(arr[0,3])"
   ]
  },
  {
   "cell_type": "code",
   "execution_count": 59,
   "id": "dce433f0-6c13-4ebd-856d-cbc11fd3cb52",
   "metadata": {},
   "outputs": [
    {
     "name": "stdout",
     "output_type": "stream",
     "text": [
      "[ 3  8 13 18 23 28 33 38 43 48]\n",
      "\n",
      "[15 20]\n",
      "\n",
      "[[13 14]\n",
      " [18 19]]\n"
     ]
    }
   ],
   "source": [
    "print(arr[: ,2])\n",
    "print()\n",
    "print(arr[2:4, 4])\n",
    "print()\n",
    "print(arr[2:4 , 2:4])"
   ]
  },
  {
   "cell_type": "code",
   "execution_count": 65,
   "id": "58defac7-0cba-4e5c-a0a5-b22cd69842cb",
   "metadata": {},
   "outputs": [
    {
     "name": "stdout",
     "output_type": "stream",
     "text": [
      "[[ 1  2  3]\n",
      " [ 4  5  6]\n",
      " [ 7  8  9]\n",
      " [10 11 12]\n",
      " [13 14 15]\n",
      " [16 17 18]]\n",
      "[[19 20 21]\n",
      " [22 23 24]\n",
      " [25 26 27]\n",
      " [28 29 30]\n",
      " [31 32 33]\n",
      " [34 35 36]]\n",
      "[[20 22 24]\n",
      " [26 28 30]\n",
      " [32 34 36]\n",
      " [38 40 42]\n",
      " [44 46 48]\n",
      " [50 52 54]]\n"
     ]
    },
    {
     "data": {
      "text/plain": [
       "array([[20, 22, 24],\n",
       "       [26, 28, 30],\n",
       "       [32, 34, 36],\n",
       "       [38, 40, 42],\n",
       "       [44, 46, 48],\n",
       "       [50, 52, 54]])"
      ]
     },
     "execution_count": 65,
     "metadata": {},
     "output_type": "execute_result"
    }
   ],
   "source": [
    "arr1 = np.arange(1,19).reshape((6,3))\n",
    "arr2 = np.arange(19,37).reshape((6,3))\n",
    "print(arr1)\n",
    "print(arr2)\n",
    "print(arr1+ arr2)\n",
    "np.add(arr1,arr2)\n"
   ]
  },
  {
   "cell_type": "code",
   "execution_count": 66,
   "id": "98b0a8cb-e522-4d64-87cf-ba027005c74b",
   "metadata": {},
   "outputs": [
    {
     "name": "stdout",
     "output_type": "stream",
     "text": [
      "[[ 1  2  3]\n",
      " [ 4  5  6]\n",
      " [ 7  8  9]\n",
      " [10 11 12]\n",
      " [13 14 15]\n",
      " [16 17 18]]\n",
      "[[19 20 21 22 23 24]\n",
      " [25 26 27 28 29 30]\n",
      " [31 32 33 34 35 36]]\n"
     ]
    }
   ],
   "source": [
    "arr2 = arr2.reshape((3,6))\n",
    "print(arr1)\n",
    "print(arr2)"
   ]
  },
  {
   "cell_type": "code",
   "execution_count": 67,
   "id": "96f850fd-d254-455b-ad07-1dee0a1d73d0",
   "metadata": {},
   "outputs": [
    {
     "data": {
      "text/plain": [
       "array([[ 162,  168,  174,  180,  186,  192],\n",
       "       [ 387,  402,  417,  432,  447,  462],\n",
       "       [ 612,  636,  660,  684,  708,  732],\n",
       "       [ 837,  870,  903,  936,  969, 1002],\n",
       "       [1062, 1104, 1146, 1188, 1230, 1272],\n",
       "       [1287, 1338, 1389, 1440, 1491, 1542]])"
      ]
     },
     "execution_count": 67,
     "metadata": {},
     "output_type": "execute_result"
    }
   ],
   "source": [
    "arr1@arr2"
   ]
  },
  {
   "cell_type": "code",
   "execution_count": 72,
   "id": "981b18f7-c3be-438b-9cb2-9239194e645a",
   "metadata": {},
   "outputs": [
    {
     "name": "stdout",
     "output_type": "stream",
     "text": [
      "36\n",
      "17\n"
     ]
    }
   ],
   "source": [
    "print(arr2.max()) #value\n",
    "print(arr2.argmax()) #index\n"
   ]
  },
  {
   "cell_type": "code",
   "execution_count": 73,
   "id": "220c4b98-6519-4002-94a2-04f73e3c9b39",
   "metadata": {},
   "outputs": [
    {
     "name": "stdout",
     "output_type": "stream",
     "text": [
      "171\n",
      "495\n"
     ]
    }
   ],
   "source": [
    "val1 = np.sum(arr1)\n",
    "val2 = np.sum(arr2)\n",
    "print(val1)\n",
    "print(val2)"
   ]
  },
  {
   "cell_type": "code",
   "execution_count": 75,
   "id": "0165c9ab-78b9-4c0a-b05b-fe707652415d",
   "metadata": {},
   "outputs": [
    {
     "name": "stdout",
     "output_type": "stream",
     "text": [
      "[ 6 15 24 33 42 51]\n",
      "[129 165 201]\n"
     ]
    }
   ],
   "source": [
    "# 1 = rows\n",
    "val1 = np.sum(arr1, axis = 1)\n",
    "val2 = np.sum(arr2, axis = 1)\n",
    "print(val1)\n",
    "print(val2)"
   ]
  },
  {
   "cell_type": "code",
   "execution_count": 76,
   "id": "02804085-31ce-4a2d-8757-ce2ae02b4345",
   "metadata": {},
   "outputs": [
    {
     "name": "stdout",
     "output_type": "stream",
     "text": [
      "[51 57 63]\n",
      "[75 78 81 84 87 90]\n"
     ]
    }
   ],
   "source": [
    "# 0 = cols\n",
    "val1 = np.sum(arr1, axis = 0)\n",
    "val2 = np.sum(arr2, axis = 0)\n",
    "print(val1)\n",
    "print(val2)"
   ]
  },
  {
   "cell_type": "code",
   "execution_count": 78,
   "id": "93555c65-e9f8-4535-be5a-259b6fd6d006",
   "metadata": {},
   "outputs": [
    {
     "name": "stdout",
     "output_type": "stream",
     "text": [
      "9.5\n",
      "27.5\n",
      "\n",
      "5.188127472091127\n",
      "5.188127472091127\n"
     ]
    }
   ],
   "source": [
    "print(np.mean(arr1))\n",
    "print(np.mean(arr2))\n",
    "print()\n",
    "print(np.std(arr1))\n",
    "print(np.std(arr2))"
   ]
  },
  {
   "cell_type": "code",
   "execution_count": null,
   "id": "33edef73-c4b5-464c-8bcb-3d1c8ced9f54",
   "metadata": {},
   "outputs": [],
   "source": [
    "#04-04-2025:continue on\n",
    "#recaps of basics and go on\n",
    "\n",
    "'''\n",
    "what,why, when of numpy?\n",
    "\n",
    "1.What is NumPy?\n",
    "\n",
    "*NumPy (Numerical Python) is a powerful Python library used for numerical computing.\n",
    "It provides support for large, multi-dimensional arrays and matrices, along with a \n",
    "collection of mathematical functions to perform operations efficiently.\n",
    "\n",
    "2.Why Use NumPy?\n",
    "\n",
    "*Performance: NumPy is much faster than Python lists due to its optimized \n",
    "C-based implementation.\n",
    "\n",
    "*Memory Efficiency: Uses less memory than Python lists.\n",
    "\n",
    "*Convenient Array Operations: Allows element-wise operations without loops.\n",
    "\n",
    "*Scientific Computing: Provides tools for linear algebra, random number generation, \n",
    "and more.\n",
    "\n",
    "*Interoperability: Works well with libraries like Pandas, SciPy, and scikit-learn.\n",
    "\n",
    "3.When Should You Use NumPy?\n",
    "\n",
    "*When working with large datasets (e.g., millions of rows of numbers).\n",
    "\n",
    "*For mathematical and statistical operations (e.g., mean, standard deviation).\n",
    "\n",
    "*When performing linear algebra (e.g., matrix multiplication, eigenvalues).\n",
    "\n",
    "*For scientific simulations (e.g., physics, machine learning, AI).\n",
    "\n",
    "*To replace slow Python loops with fast vectorized operations.\n",
    "\n",
    "'''"
   ]
  },
  {
   "cell_type": "code",
   "execution_count": 1,
   "id": "ef29569c-1abd-46fa-bde0-a925e9b2a6e1",
   "metadata": {},
   "outputs": [
    {
     "name": "stdout",
     "output_type": "stream",
     "text": [
      "[1 2 3 4 5]\n"
     ]
    }
   ],
   "source": [
    "import numpy as np\n",
    "\n",
    "# create arrays\n",
    "\n",
    "arr = np.array([1,2,3,4,5])\n",
    "print(arr)"
   ]
  },
  {
   "cell_type": "code",
   "execution_count": 2,
   "id": "7c38f0a8-9c77-407a-947a-dbdf073e8f5c",
   "metadata": {},
   "outputs": [
    {
     "name": "stdout",
     "output_type": "stream",
     "text": [
      "(5,)\n",
      "int64\n",
      "5\n",
      "1\n"
     ]
    }
   ],
   "source": [
    "# Shape of the array\n",
    "print(arr.shape)  \n",
    "# Data type of elements\n",
    "print(arr.dtype)  \n",
    "# Number of elements\n",
    "print(arr.size)   \n",
    "# Number of dimensions\n",
    "print(arr.ndim)   \n"
   ]
  },
  {
   "cell_type": "code",
   "execution_count": 4,
   "id": "3bd60654-b0b5-4d04-a61f-da7fcf00faa6",
   "metadata": {},
   "outputs": [
    {
     "data": {
      "text/plain": [
       "array([[0., 0., 0.],\n",
       "       [0., 0., 0.],\n",
       "       [0., 0., 0.]])"
      ]
     },
     "execution_count": 4,
     "metadata": {},
     "output_type": "execute_result"
    }
   ],
   "source": [
    "# 3x3 matrix of zeros  \n",
    "np.zeros((3,3))    "
   ]
  },
  {
   "cell_type": "code",
   "execution_count": 5,
   "id": "33690302-b8d7-458b-b408-a8dfd15ad598",
   "metadata": {},
   "outputs": [
    {
     "data": {
      "text/plain": [
       "array([[1., 1.],\n",
       "       [1., 1.]])"
      ]
     },
     "execution_count": 5,
     "metadata": {},
     "output_type": "execute_result"
    }
   ],
   "source": [
    "# 2x2 matrix of ones  \n",
    "np.ones((2,2))      "
   ]
  },
  {
   "cell_type": "code",
   "execution_count": 6,
   "id": "065734f8-1cc9-41be-9671-01571af344e8",
   "metadata": {},
   "outputs": [
    {
     "data": {
      "text/plain": [
       "array([1, 3, 5, 7, 9])"
      ]
     },
     "execution_count": 6,
     "metadata": {},
     "output_type": "execute_result"
    }
   ],
   "source": [
    "# Numbers from 1 to 9 with step of 2  \n",
    "np.arange(1, 10, 2)  "
   ]
  },
  {
   "cell_type": "code",
   "execution_count": 13,
   "id": "d8f866fd-718f-4bc0-ba52-8719fdd580dc",
   "metadata": {},
   "outputs": [
    {
     "data": {
      "text/plain": [
       "array([ 5., 10., 15., 20., 25., 30., 35., 40., 45., 50.])"
      ]
     },
     "execution_count": 13,
     "metadata": {},
     "output_type": "execute_result"
    }
   ],
   "source": [
    "# 5 equally spaced numbers from 1 to 10  \n",
    "np.linspace(5, 50, 10) "
   ]
  },
  {
   "cell_type": "code",
   "execution_count": 14,
   "id": "6b8e76ec-3e91-44aa-806e-6c9e82f63ca1",
   "metadata": {},
   "outputs": [
    {
     "name": "stdout",
     "output_type": "stream",
     "text": [
      "[[1 2]\n",
      " [3 4]\n",
      " [5 6]]\n"
     ]
    }
   ],
   "source": [
    "# Reshapes to 3x2\n",
    "arr = np.array([[1,2,3], [4,5,6]])\n",
    "print(arr.reshape(3,2))  \n"
   ]
  },
  {
   "cell_type": "code",
   "execution_count": 15,
   "id": "eec280c1-c315-46be-8dfc-dd2a9491858a",
   "metadata": {},
   "outputs": [
    {
     "name": "stdout",
     "output_type": "stream",
     "text": [
      "[5 7 9]\n",
      "[-3 -3 -3]\n",
      "[ 4 10 18]\n",
      "[0.25 0.4  0.5 ]\n"
     ]
    }
   ],
   "source": [
    "a = np.array([1, 2, 3])\n",
    "b = np.array([4, 5, 6])\n",
    "\n",
    "print(a + b)   # Element-wise addition\n",
    "print(a - b)   # Element-wise subtraction\n",
    "print(a * b)   # Element-wise multiplication\n",
    "print(a / b)   # Element-wise division\n"
   ]
  },
  {
   "cell_type": "code",
   "execution_count": 17,
   "id": "f175a9b8-9f3e-4aee-8351-76c336324c4d",
   "metadata": {},
   "outputs": [
    {
     "name": "stdout",
     "output_type": "stream",
     "text": [
      "3.0\n",
      "3.0\n",
      "1.4142135623730951\n",
      "15\n",
      "2.0\n"
     ]
    }
   ],
   "source": [
    "arr = np.array([1, 2, 3, 4, 5])\n",
    "print(np.mean(arr))   # Mean\n",
    "print(np.median(arr)) # Median\n",
    "print(np.std(arr))    # Standard deviation\n",
    "print(np.sum(arr))    # Sum of elements\n",
    "print(np.var(arr))    #variance\n"
   ]
  },
  {
   "cell_type": "code",
   "execution_count": null,
   "id": "3eae3bba-bfb2-45b5-a041-82fc5c4127bd",
   "metadata": {},
   "outputs": [],
   "source": [
    "#05-04-2025:continue from 1d2d3darrays"
   ]
  }
 ],
 "metadata": {
  "kernelspec": {
   "display_name": "Python 3 (ipykernel)",
   "language": "python",
   "name": "python3"
  },
  "language_info": {
   "codemirror_mode": {
    "name": "ipython",
    "version": 3
   },
   "file_extension": ".py",
   "mimetype": "text/x-python",
   "name": "python",
   "nbconvert_exporter": "python",
   "pygments_lexer": "ipython3",
   "version": "3.13.2"
  }
 },
 "nbformat": 4,
 "nbformat_minor": 5
}

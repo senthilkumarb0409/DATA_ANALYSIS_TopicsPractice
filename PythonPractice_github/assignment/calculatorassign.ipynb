{
 "cells": [
  {
   "cell_type": "code",
   "execution_count": 21,
   "id": "566b5660-5254-4dad-9ab4-2c2e7e63549d",
   "metadata": {},
   "outputs": [],
   "source": [
    "#calculator using function and operators\n",
    "def arithmeticoperation(a,b,operator):\n",
    "    if operator == '+':\n",
    "        result = a + b\n",
    "    elif operator == '-':\n",
    "        result = a - b\n",
    "    elif operator == '*':\n",
    "        result = a * b\n",
    "    elif operator == '/':\n",
    "        if b == 0:\n",
    "            return \"Error! Division by zero.\"\n",
    "        result = a / b\n",
    "    elif operator == '%':\n",
    "        result = a % b\n",
    "    elif operator == '//':\n",
    "        result = a // b\n",
    "    elif operator == '^':\n",
    "        result = a ** b\n",
    "    print(f\"The operation is {a} {operator} {b} and the result is {result}\")\n",
    "    return result"
   ]
  },
  {
   "cell_type": "code",
   "execution_count": 26,
   "id": "a96c415f-da1e-4dea-a371-4e464f5f2837",
   "metadata": {},
   "outputs": [],
   "source": [
    "def assignmentoperation(a, b, operator):\n",
    "    val1 = a\n",
    "    val2 = b\n",
    "    if operator == '+=':\n",
    "        a += b\n",
    "    elif operator == '-=':\n",
    "        a -= b\n",
    "    elif operator == '*=':\n",
    "        a *= b\n",
    "    elif operator == '/=':\n",
    "        if b == 0:\n",
    "            return \"Error! Division by zero.\"\n",
    "        a /= b\n",
    "    elif operator == '%=':\n",
    "        a %= b\n",
    "    elif operator == '//=':\n",
    "        a //= b\n",
    "    elif operator == '^=':\n",
    "        a **= b\n",
    "    print(f\"The assignment operation {operator} on {val1} and {val2} gives the result: {a}\")\n",
    "    return a"
   ]
  },
  {
   "cell_type": "code",
   "execution_count": 23,
   "id": "297be67c-74a9-4383-bc60-a8bec9b8d70b",
   "metadata": {},
   "outputs": [],
   "source": [
    "def comparisonoperation(a, b, operator):\n",
    "    if operator == '==':\n",
    "        result = a == b\n",
    "    elif operator == '!=':\n",
    "        result = a != b\n",
    "    elif operator == '>':\n",
    "        result = a > b\n",
    "    elif operator == '<':\n",
    "        result = a < b\n",
    "    elif operator == '>=':\n",
    "        result = a >= b\n",
    "    elif operator == '<=':\n",
    "        result = a <= b\n",
    "    print(f\"The operation is {a} {operator} {b} and the result is {result}\")\n",
    "    return result"
   ]
  },
  {
   "cell_type": "code",
   "execution_count": 27,
   "id": "788d6bcf-ecb9-439b-b186-7f20c353eaa0",
   "metadata": {},
   "outputs": [
    {
     "name": "stdin",
     "output_type": "stream",
     "text": [
      "ENTER THE VALUE A: 10\n",
      "ENTER THE VALUE B: 10\n",
      "ENTER THE OPERATOR: +=\n"
     ]
    },
    {
     "name": "stdout",
     "output_type": "stream",
     "text": [
      "The assignment operation += on 10 and 10 gives the result: 20\n"
     ]
    },
    {
     "data": {
      "text/plain": [
       "20"
      ]
     },
     "execution_count": 27,
     "metadata": {},
     "output_type": "execute_result"
    }
   ],
   "source": [
    "def calculator():\n",
    "    a = eval(input(\"ENTER THE VALUE A:\"))\n",
    "    b = eval(input(\"ENTER THE VALUE B:\"))\n",
    "    operator = input(\"ENTER THE OPERATOR:\")\n",
    "    if operator in ['+','-','*','/','%','//','^']:\n",
    "        return arithmeticoperation(a,b,operator)\n",
    "    elif operator in ['+=', '-=', '*=', '/=', '%=', '//=', '^=']:\n",
    "        return assignmentoperation(a, b, operator)\n",
    "    elif operator in ['==', '!=', '>', '<', '>=', '<=']:\n",
    "        return comparisonoperation(a, b, operator)\n",
    "calculator()"
   ]
  },
  {
   "cell_type": "code",
   "execution_count": 28,
   "id": "ae8205d2-c824-4006-8a9b-56d9f780cd74",
   "metadata": {},
   "outputs": [],
   "source": [
    "#using class and operators\n",
    "\n",
    "class Calculator:\n",
    "    def __init__(self, a, b):\n",
    "        self.a = a\n",
    "        self.b = b\n",
    "        \n",
    "    def arithmeticoperation(self, operator):\n",
    "        if operator == '+':\n",
    "            result = self.a + self.b\n",
    "        elif operator == '-':\n",
    "            result = self.a - self.b\n",
    "        elif operator == '*':\n",
    "            result = self.a * self.b\n",
    "        elif operator == '/':\n",
    "            if self.b == 0:\n",
    "                return \"Error! Division by zero.\"\n",
    "            result = self.a / self.b\n",
    "        elif operator == '%':\n",
    "            result = self.a % self.b\n",
    "        elif operator == '//':\n",
    "            result = self.a // self.b\n",
    "        elif operator == '^':\n",
    "            result = self.a ** self.b\n",
    "        else:\n",
    "            return \"Invalid operator!\"\n",
    "        \n",
    "        print(f\"The operation is {self.a} {operator} {self.b} and the result is {result}\")\n",
    "        return result\n",
    "\n",
    "    def assignmentoperation(self, operator):\n",
    "        val1 = self.a\n",
    "        val2 = self.b\n",
    "        if operator == '+=':\n",
    "            self.a += self.b\n",
    "        elif operator == '-=':\n",
    "            self.a -= self.b\n",
    "        elif operator == '*=':\n",
    "            self.a *= self.b\n",
    "        elif operator == '/=':\n",
    "            if self.b == 0:\n",
    "                return \"Error! Division by zero.\"\n",
    "            self.a /= self.b\n",
    "        elif operator == '%=':\n",
    "            self.a %= self.b\n",
    "        elif operator == '//=':\n",
    "            self.a //= self.b\n",
    "        elif operator == '^=':\n",
    "            self.a **= self.b\n",
    "        else:\n",
    "            return \"Invalid assignment operator!\"\n",
    "        \n",
    "        print(f\"The assignment operation {operator} on {val1} and {val2} gives the result: {self.a}\")\n",
    "        return self.a\n",
    "\n",
    "    def comparisonoperation(self, operator):\n",
    "        if operator == '==':\n",
    "            result = self.a == self.b\n",
    "        elif operator == '!=':\n",
    "            result = self.a != self.b\n",
    "        elif operator == '>':\n",
    "            result = self.a > self.b\n",
    "        elif operator == '<':\n",
    "            result = self.a < self.b\n",
    "        elif operator == '>=':\n",
    "            result = self.a >= self.b\n",
    "        elif operator == '<=':\n",
    "            result = self.a <= self.b\n",
    "        else:\n",
    "            return \"Invalid comparison operator!\"\n",
    "        \n",
    "        print(f\"The comparison {self.a} {operator} {self.b} is {result}\")\n",
    "        return result"
   ]
  },
  {
   "cell_type": "code",
   "execution_count": 31,
   "id": "9ebcb712-a51a-46bb-90b5-6c116a63052c",
   "metadata": {},
   "outputs": [
    {
     "name": "stdin",
     "output_type": "stream",
     "text": [
      "ENTER THE VALUE A:  10\n",
      "ENTER THE VALUE B:  5\n",
      "ENTER THE OPERATOR:  <=\n"
     ]
    },
    {
     "name": "stdout",
     "output_type": "stream",
     "text": [
      "The comparison 10 <= 5 is False\n"
     ]
    },
    {
     "data": {
      "text/plain": [
       "False"
      ]
     },
     "execution_count": 31,
     "metadata": {},
     "output_type": "execute_result"
    }
   ],
   "source": [
    "def calculation():\n",
    "    a = eval(input(\"ENTER THE VALUE A: \"))\n",
    "    b = eval(input(\"ENTER THE VALUE B: \"))\n",
    "    operator = input(\"ENTER THE OPERATOR: \")\n",
    "\n",
    "    calculator = Calculator(a, b)\n",
    "    \n",
    "    if operator in ['+', '-', '*', '/', '%', '//', '^']:\n",
    "        return calculator.arithmeticoperation(operator)\n",
    "    elif operator in ['+=', '-=', '*=', '/=', '%=', '//=', '^=']:\n",
    "        return calculator.assignmentoperation(operator)\n",
    "    elif operator in ['==', '!=', '>', '<', '>=', '<=']:\n",
    "        return calculator.comparisonoperation(operator)\n",
    "    else:\n",
    "        print(\"Invalid operator!\")\n",
    "        return None\n",
    "\n",
    "calculation()"
   ]
  }
 ],
 "metadata": {
  "kernelspec": {
   "display_name": "Python 3 (ipykernel)",
   "language": "python",
   "name": "python3"
  },
  "language_info": {
   "codemirror_mode": {
    "name": "ipython",
    "version": 3
   },
   "file_extension": ".py",
   "mimetype": "text/x-python",
   "name": "python",
   "nbconvert_exporter": "python",
   "pygments_lexer": "ipython3",
   "version": "3.13.2"
  }
 },
 "nbformat": 4,
 "nbformat_minor": 5
}

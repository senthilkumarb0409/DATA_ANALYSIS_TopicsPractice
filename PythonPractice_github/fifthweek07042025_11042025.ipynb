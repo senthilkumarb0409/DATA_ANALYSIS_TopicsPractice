{
 "cells": [
  {
   "cell_type": "code",
   "execution_count": 16,
   "id": "9b650948-c53c-4938-a2ef-de89721a799e",
   "metadata": {},
   "outputs": [],
   "source": [
    "#07-04-2025\n",
    "#sqlwithpython(mysql)\n",
    "#mysqlandtkinter"
   ]
  },
  {
   "cell_type": "code",
   "execution_count": 2,
   "id": "f6d298cf-982e-4ff5-b3d1-749799e89e4f",
   "metadata": {},
   "outputs": [
    {
     "name": "stdout",
     "output_type": "stream",
     "text": [
      "Requirement already satisfied: mysql-connector-python in c:\\users\\senthil kumar\\appdata\\local\\programs\\python\\python313\\lib\\site-packages (9.2.0)\n",
      "Note: you may need to restart the kernel to use updated packages.\n"
     ]
    },
    {
     "name": "stderr",
     "output_type": "stream",
     "text": [
      "\n",
      "[notice] A new release of pip is available: 24.3.1 -> 25.0.1\n",
      "[notice] To update, run: python.exe -m pip install --upgrade pip\n"
     ]
    }
   ],
   "source": [
    "pip install mysql-connector-python"
   ]
  },
  {
   "cell_type": "code",
   "execution_count": 3,
   "id": "6026e076-2ec3-4795-946b-0b3dd5b32349",
   "metadata": {},
   "outputs": [],
   "source": [
    "from mysql import connector\n",
    "\n",
    "connection = connector.connect(user = \"root\" , password = \"admin\", host = \"localhost\", db = \"salesDB\")"
   ]
  },
  {
   "cell_type": "code",
   "execution_count": 4,
   "id": "c56cee18-6a79-4062-b184-68d46372dcae",
   "metadata": {},
   "outputs": [
    {
     "name": "stdout",
     "output_type": "stream",
     "text": [
      "('customers',)\n",
      "('orderdetails',)\n",
      "('orders',)\n",
      "('products',)\n"
     ]
    }
   ],
   "source": [
    "from mysql import connector\n",
    "\n",
    "connection = connector.connect(user = \"root\" , password = \"admin\", host = \"localhost\", db = \"salesDB\")\n",
    "\n",
    "cursor = connection.cursor()\n",
    "cursor.execute(\"show tables\")\n",
    "tables = cursor.fetchall()\n",
    "\n",
    "for table in tables:\n",
    "    print(table)"
   ]
  },
  {
   "cell_type": "code",
   "execution_count": 14,
   "id": "416a7ab7-5b15-4c24-a91b-5fcd44b4d076",
   "metadata": {},
   "outputs": [
    {
     "name": "stdout",
     "output_type": "stream",
     "text": [
      "(1, 'John', 'Doe', 'john.doe@example.com', '123-456-7890', '123 Main St')\n",
      "(2, 'Jane', 'Smith', 'jane.smith@example.com', '987-654-3210', '456 Elm St')\n",
      "(3, 'Alice', 'Johnson', 'alice.johnson@example.com', '111-222-3333', '789 Oak St')\n",
      "(4, 'Bob', 'Brown', 'bob.brown@example.com', '444-555-6666', '101 Pine St')\n",
      "(5, 'Charlie', 'Davis', 'charlie.davis@example.com', '555-666-7777', '202 Birch St')\n",
      "(6, 'Diana', 'Miller', 'diana.miller@example.com', '666-777-8888', '303 Cedar St')\n",
      "(7, 'Eve', 'Wilson', 'eve.wilson@example.com', '777-888-9999', '404 Maple St')\n",
      "(8, 'Frank', 'Taylor', 'frank.taylor@example.com', '888-999-0000', '505 Willow St')\n",
      "(9, 'Grace', 'Moore', 'grace.moore@example.com', '999-000-1111', '606 Palm St')\n",
      "(10, 'Harry', 'Anderson', 'harry.anderson@example.com', '111-000-2222', '707 Redwood St')\n",
      "(11, 'Sam', 'Prasad', 'sam@gmail.com', '943-234-1080', '123 sub St')\n",
      "(12, 'Thiru', 'Lok', 'Thiru@gmail.com', '987-897-1090', '106,mettukuppam Road')\n"
     ]
    }
   ],
   "source": [
    "from mysql import connector\n",
    "\n",
    "connection = connector.connect(user = \"root\" , password = \"admin\", host = \"localhost\", db = \"salesDB\")\n",
    "\n",
    "cursor = connection.cursor()\n",
    "cursor.execute(\"select * from customers\")\n",
    "records = cursor.fetchall()\n",
    "\n",
    "for i in records:\n",
    "    print(i)"
   ]
  },
  {
   "cell_type": "code",
   "execution_count": 8,
   "id": "6e7a6a25-d37c-4f24-a6a9-f8794af6de46",
   "metadata": {},
   "outputs": [],
   "source": [
    "from mysql import connector\n",
    "\n",
    "connection = connector.connect(user = \"root\" , password = \"admin\", host = \"localhost\", db = \"salesDB\")\n",
    "\n",
    "cursor = connection.cursor()\n",
    "cursor.execute(\"insert into customers(first_name, last_name, email, phone, address) values('Sam','Prasad', 'sam@gmail.com','943-234-1080','123 sub St')\")\n",
    "\n",
    "connection.commit()"
   ]
  },
  {
   "cell_type": "code",
   "execution_count": 15,
   "id": "6986bafd-d80b-4f9f-874c-b754e6d5da71",
   "metadata": {},
   "outputs": [],
   "source": [
    "import tkinter as tk\n",
    "from tkinter import messagebox\n",
    "import mysql.connector\n",
    "\n",
    "def connect_db():\n",
    "    try:\n",
    "        conn = mysql.connector.connect(\n",
    "            user = \"root\" , \n",
    "            password = \"admin\", \n",
    "            host = \"localhost\", \n",
    "            db = \"salesDB\"\n",
    "        )\n",
    "        return conn\n",
    "    except mysql.connector.Error as e:\n",
    "        messagebox.showerror(\"Database Error\", f\"Error Connecting to the database: \\n{e}\")\n",
    "        return None\n",
    "\n",
    " \n",
    "def insert_values():\n",
    "    first_name = entry_fname.get()\n",
    "    last_name = entry_lname.get()\n",
    "    email = entry_email.get()\n",
    "    phone = entry_phone.get()\n",
    "    address = entry_address.get()\n",
    "    \n",
    "    if first_name and last_name and email and phone and address:\n",
    "        conn = connect_db()\n",
    "        if conn:\n",
    "            cursor = conn.cursor()\n",
    "            cursor.execute(\"INSERT INTO customers(first_name, last_name, email, phone, address) VALUES (%s, %s, %s, %s, %s)\", \n",
    "                           (first_name, last_name, email, phone, address))\n",
    "            conn.commit()\n",
    "            cursor.close()\n",
    "            conn.close()\n",
    "            messagebox.showinfo(\"Success\", \"Values added successfully!\")\n",
    "            clear_entries()\n",
    "            fetch_values()\n",
    "    else:\n",
    "        messagebox.showwarning(\"Input Error\", \"Please enter all fields!\")\n",
    "\n",
    "def fetch_values():\n",
    "    conn = connect_db()\n",
    "    if conn:\n",
    "        cursor = conn.cursor()\n",
    "        cursor.execute(\"SELECT * FROM customers\")\n",
    "        rows = cursor.fetchall()\n",
    "        cursor.close()\n",
    "        conn.close()\n",
    "\n",
    "        listbox_jobs.delete(0, tk.END)  \n",
    "        for row in rows:\n",
    "            listbox_jobs.insert(tk.END, f\"First_Name: {row[0]} | Last_Name: {row[1]} | Email: {row[2]} | Phone: {row[3]} | Address: {row[4]}\")\n",
    "\n",
    "\n",
    "def clear_entries():\n",
    "    entry_fname.delete(0, tk.END)\n",
    "    entry_lname.delete(0, tk.END)\n",
    "    entry_email.delete(0, tk.END)\n",
    "    entry_phone.delete(0, tk.END)\n",
    "    entry_address.delete(0, tk.END)\n",
    "\n",
    "\n",
    "root = tk.Tk()\n",
    "root.title(\"Database Management GUI\")\n",
    "root.geometry(\"450x500\")\n",
    "\n",
    "tk.Label(root, text=\"First_Name:\").pack()\n",
    "entry_fname = tk.Entry(root)\n",
    "entry_fname.pack()\n",
    "\n",
    "tk.Label(root, text=\"Last_Name:\").pack()\n",
    "entry_lname = tk.Entry(root)\n",
    "entry_lname.pack()\n",
    "\n",
    "tk.Label(root, text=\"Email:\").pack()\n",
    "entry_email = tk.Entry(root)\n",
    "entry_email.pack()\n",
    "\n",
    "tk.Label(root, text=\"Phone:\").pack()\n",
    "entry_phone = tk.Entry(root)\n",
    "entry_phone.pack()\n",
    "\n",
    "tk.Label(root, text=\"Address:\").pack()\n",
    "entry_address = tk.Entry(root)\n",
    "entry_address.pack()\n",
    "\n",
    "tk.Button(root, text=\"Add Values\", command=insert_values).pack(pady=5)\n",
    "\n",
    "tk.Label(root, text=\"Values List:\").pack()\n",
    "listbox_jobs = tk.Listbox(root, width=70, height=10)\n",
    "listbox_jobs.pack()\n",
    "\n",
    "tk.Button(root, text=\"Refresh List\", command=fetch_values).pack(pady=5)\n",
    "\n",
    "\n",
    "fetch_values()\n",
    "\n",
    "root.mainloop()\n",
    "\n",
    "\n",
    "        "
   ]
  },
  {
   "cell_type": "code",
   "execution_count": null,
   "id": "bb6e7a2b-0ca6-46a4-b192-3d877dc031c7",
   "metadata": {},
   "outputs": [],
   "source": [
    "# 08-04-2025\n",
    "\n",
    "#dateandtime \n",
    "# threading"
   ]
  },
  {
   "cell_type": "code",
   "execution_count": 1,
   "id": "3c3ca0d7-ff72-4c94-ae25-1f07d1cfa639",
   "metadata": {},
   "outputs": [
    {
     "data": {
      "text/plain": [
       "datetime.datetime(2025, 4, 9, 18, 44, 26, 864427)"
      ]
     },
     "execution_count": 1,
     "metadata": {},
     "output_type": "execute_result"
    }
   ],
   "source": [
    "from datetime import datetime\n",
    "\n",
    "now = datetime.now()\n",
    "\n",
    "now"
   ]
  },
  {
   "cell_type": "code",
   "execution_count": 2,
   "id": "573bb81d-97db-4ad3-aea4-15ab5dfd4335",
   "metadata": {},
   "outputs": [
    {
     "data": {
      "text/plain": [
       "2025"
      ]
     },
     "execution_count": 2,
     "metadata": {},
     "output_type": "execute_result"
    }
   ],
   "source": [
    "now.year"
   ]
  },
  {
   "cell_type": "code",
   "execution_count": 3,
   "id": "4ca87cda-9ffa-49d3-a4a8-1a8f755be3c5",
   "metadata": {},
   "outputs": [
    {
     "data": {
      "text/plain": [
       "4"
      ]
     },
     "execution_count": 3,
     "metadata": {},
     "output_type": "execute_result"
    }
   ],
   "source": [
    "now.month"
   ]
  },
  {
   "cell_type": "code",
   "execution_count": 4,
   "id": "8918944a-0255-48e9-91b2-3ff766c0f05c",
   "metadata": {},
   "outputs": [
    {
     "data": {
      "text/plain": [
       "9"
      ]
     },
     "execution_count": 4,
     "metadata": {},
     "output_type": "execute_result"
    }
   ],
   "source": [
    "now.day"
   ]
  },
  {
   "cell_type": "code",
   "execution_count": 8,
   "id": "1feaa04f-eca3-4653-9df5-463be8b548ee",
   "metadata": {},
   "outputs": [
    {
     "data": {
      "text/plain": [
       "'the year 25 month 04 date 09'"
      ]
     },
     "execution_count": 8,
     "metadata": {},
     "output_type": "execute_result"
    }
   ],
   "source": [
    "now.strftime(\"the year %y month %m date %d\")"
   ]
  },
  {
   "cell_type": "code",
   "execution_count": 9,
   "id": "dbb5a669-66ec-4cd5-8862-f285f3e73b55",
   "metadata": {},
   "outputs": [
    {
     "data": {
      "text/plain": [
       "'Wednesday'"
      ]
     },
     "execution_count": 9,
     "metadata": {},
     "output_type": "execute_result"
    }
   ],
   "source": [
    "now.strftime(\"%A\")"
   ]
  },
  {
   "cell_type": "code",
   "execution_count": 10,
   "id": "66fc3e9e-27d6-4418-a77d-bf4322030654",
   "metadata": {},
   "outputs": [
    {
     "data": {
      "text/plain": [
       "'April'"
      ]
     },
     "execution_count": 10,
     "metadata": {},
     "output_type": "execute_result"
    }
   ],
   "source": [
    "now.strftime(\"%B\")"
   ]
  },
  {
   "cell_type": "code",
   "execution_count": 12,
   "id": "9d69262f-5480-4d1b-bf30-0a09b862426b",
   "metadata": {},
   "outputs": [
    {
     "data": {
      "text/plain": [
       "datetime.timedelta(days=118)"
      ]
     },
     "execution_count": 12,
     "metadata": {},
     "output_type": "execute_result"
    }
   ],
   "source": [
    "from datetime import date\n",
    "\n",
    "date1 = date(2024,12,12)\n",
    "date2 = date(2025,4,9)\n",
    "\n",
    "date2-date1"
   ]
  },
  {
   "cell_type": "code",
   "execution_count": 14,
   "id": "1b33d074-4387-404b-bec0-fddc11d3a40e",
   "metadata": {},
   "outputs": [
    {
     "data": {
      "text/plain": [
       "'Saturday'"
      ]
     },
     "execution_count": 14,
     "metadata": {},
     "output_type": "execute_result"
    }
   ],
   "source": [
    "date = datetime(2025,4,12)\n",
    "\n",
    "date.strftime(\"%A\")"
   ]
  },
  {
   "cell_type": "code",
   "execution_count": 23,
   "id": "068dfcfd-144b-40b1-b0dd-9475a0c082de",
   "metadata": {},
   "outputs": [
    {
     "data": {
      "text/plain": [
       "datetime.datetime(2025, 7, 8, 18, 51, 56, 679139)"
      ]
     },
     "execution_count": 23,
     "metadata": {},
     "output_type": "execute_result"
    }
   ],
   "source": [
    "#adding days to a date\n",
    "\n",
    "from datetime import timedelta\n",
    "\n",
    "today = datetime.today()\n",
    "\n",
    "upcoming90 = timedelta(days =90)\n",
    "\n",
    "today+upcoming90"
   ]
  },
  {
   "cell_type": "code",
   "execution_count": 24,
   "id": "abe3a520-6544-4a2d-99f9-aaeacd950569",
   "metadata": {},
   "outputs": [
    {
     "data": {
      "text/plain": [
       "2025"
      ]
     },
     "execution_count": 24,
     "metadata": {},
     "output_type": "execute_result"
    }
   ],
   "source": [
    "import time\n",
    "\n",
    "lt = time.localtime()\n",
    "lt.tm_year"
   ]
  },
  {
   "cell_type": "code",
   "execution_count": 29,
   "id": "e0cab2b4-7038-40b1-87b9-287b13f9fc18",
   "metadata": {},
   "outputs": [
    {
     "data": {
      "text/plain": [
       "4"
      ]
     },
     "execution_count": 29,
     "metadata": {},
     "output_type": "execute_result"
    }
   ],
   "source": [
    "lt.tm_mon"
   ]
  },
  {
   "cell_type": "code",
   "execution_count": 30,
   "id": "38bc092b-53aa-4512-9e07-f7152233a298",
   "metadata": {},
   "outputs": [
    {
     "data": {
      "text/plain": [
       "'18: 54: 33'"
      ]
     },
     "execution_count": 30,
     "metadata": {},
     "output_type": "execute_result"
    }
   ],
   "source": [
    "time.strftime(\"%H: %M: %S\")"
   ]
  },
  {
   "cell_type": "code",
   "execution_count": null,
   "id": "b74a1ac2-5cf3-4984-b6ba-e44fd7e99f24",
   "metadata": {},
   "outputs": [],
   "source": [
    "time.strftime(\"%H: %M: %S\", lt)"
   ]
  },
  {
   "cell_type": "code",
   "execution_count": 34,
   "id": "8b31deab-ca28-4e7a-bfc0-4f3bc5cc872e",
   "metadata": {},
   "outputs": [
    {
     "data": {
      "text/plain": [
       "1744205216.9187362"
      ]
     },
     "execution_count": 34,
     "metadata": {},
     "output_type": "execute_result"
    }
   ],
   "source": [
    "obj = time.time()\n",
    "obj"
   ]
  },
  {
   "cell_type": "code",
   "execution_count": 35,
   "id": "1e82da75-96dc-48de-8fb8-f94d2da6634c",
   "metadata": {},
   "outputs": [
    {
     "name": "stdout",
     "output_type": "stream",
     "text": [
      "Wed Apr  9 18:56:56 2025\n"
     ]
    }
   ],
   "source": [
    "print(time.ctime(obj))"
   ]
  },
  {
   "cell_type": "code",
   "execution_count": 38,
   "id": "1471fde3-d36d-4795-9ffd-69680b498a8e",
   "metadata": {},
   "outputs": [
    {
     "name": "stdout",
     "output_type": "stream",
     "text": [
      "19: 01: 18\n"
     ]
    }
   ],
   "source": [
    "#digital clock\n",
    "\n",
    "import time\n",
    "\n",
    "while True:\n",
    "    laptop_time = time.localtime()\n",
    "\n",
    "    print(time.strftime(\"%H: %M: %S\",laptop_time))\n",
    "    time.sleep(3)\n",
    "    break"
   ]
  },
  {
   "cell_type": "code",
   "execution_count": 39,
   "id": "0a350497-db61-4de1-beb7-ff5194af069e",
   "metadata": {},
   "outputs": [
    {
     "name": "stdout",
     "output_type": "stream",
     "text": [
      "3.5316574573516846\n"
     ]
    }
   ],
   "source": [
    "#calculating the execution time of a program\n",
    "\n",
    "st = time.time()\n",
    "\n",
    "for i in range(100000000):\n",
    "    pass\n",
    "\n",
    "et = time.time()\n",
    "\n",
    "print(et - st)"
   ]
  },
  {
   "cell_type": "code",
   "execution_count": 41,
   "id": "42c4197d-a137-453b-a07c-d70a8c76ec61",
   "metadata": {},
   "outputs": [
    {
     "name": "stdout",
     "output_type": "stream",
     "text": [
      "Student number is  0\n",
      "Student number is  1\n",
      "Student number is  2\n",
      "Student number is  3\n",
      "Student number is  4\n",
      "Student number is  5\n",
      "Student number is  6\n",
      "Student number is  7\n",
      "Student number is  8\n",
      "Student number is  9\n",
      "Student mark is  300\n",
      "Student mark is  310\n",
      "Student mark is  320\n",
      "Student mark is  330\n",
      "Student mark is  340\n",
      "Student mark is  350\n",
      "Student mark is  360\n",
      "Student mark is  370\n",
      "Student mark is  380\n",
      "Student mark is  390\n"
     ]
    }
   ],
   "source": [
    "def student_count():\n",
    "    for i in range(10):\n",
    "        print(\"Student number is \",i)\n",
    "        time.sleep(1)\n",
    "def student_mark():\n",
    "    for i in range(300,400, 10):\n",
    "        print(\"Student mark is \",i)\n",
    "        time.sleep(1)\n",
    "student_count()\n",
    "student_mark()"
   ]
  },
  {
   "cell_type": "code",
   "execution_count": 53,
   "id": "6fa13c8d-e6ba-44e5-8e3d-8c274ceb9a5e",
   "metadata": {},
   "outputs": [
    {
     "name": "stdout",
     "output_type": "stream",
     "text": [
      "Student number is  0\n",
      "Student mark is  300\n",
      "Student number is  1\n",
      "Student mark is  310\n",
      "Student mark is Student number is  2\n",
      " 320\n",
      "Student mark is Student number is  3\n",
      " 330\n",
      "Student number is  4\n",
      "Student mark is  340\n",
      "Student number is Student mark is  350\n",
      " 5\n",
      "Student mark is  360\n",
      "Student number is  6\n",
      "Student mark is  370\n",
      "Student number is  7\n",
      "Student number is Student mark is  380\n",
      " 8\n",
      "Student number is Student mark is  390\n",
      " 9\n",
      "10.017608404159546\n"
     ]
    }
   ],
   "source": [
    "import threading\n",
    "\n",
    "st = time.time()\n",
    "\n",
    "def student_count():\n",
    "    for i in range(10):\n",
    "        print(\"Student number is \",i)\n",
    "        time.sleep(1)\n",
    "def student_mark():\n",
    "    for i in range(300,400, 10):\n",
    "        print(\"Student mark is \",i)\n",
    "        time.sleep(1) \n",
    "        \n",
    "t1 = threading.Thread(target = student_count)\n",
    "t2 = threading.Thread(target = student_mark)\n",
    "\n",
    "\n",
    "\n",
    "t1.start() \n",
    "t2.start()\n",
    "t1.join()\n",
    "t2.join()\n",
    "\n",
    "\n",
    "et = time.time()\n",
    "print(et - st)\n",
    "\n"
   ]
  },
  {
   "cell_type": "code",
   "execution_count": null,
   "id": "9262fba4-35bc-49f8-92ae-ce5e74a20beb",
   "metadata": {},
   "outputs": [],
   "source": [
    "#09-04-2025\n",
    "#regularexpressionmodule"
   ]
  },
  {
   "cell_type": "code",
   "execution_count": 2,
   "id": "9ddd5e25-0a96-403d-a76e-b43e8683cd06",
   "metadata": {},
   "outputs": [
    {
     "name": "stdout",
     "output_type": "stream",
     "text": [
      "['python']\n"
     ]
    }
   ],
   "source": [
    "import re\n",
    "\n",
    "txt = \"python is interpretted and dynamic programming language and also platform independent\"\n",
    "\n",
    "print(re.findall(\"^python\", txt))"
   ]
  },
  {
   "cell_type": "code",
   "execution_count": 5,
   "id": "f7a64d34-ab0c-4e48-82d9-040ec937a8df",
   "metadata": {},
   "outputs": [
    {
     "name": "stdout",
     "output_type": "stream",
     "text": [
      "['independent']\n"
     ]
    }
   ],
   "source": [
    "import re\n",
    "\n",
    "txt = \"python is interpretted and dynamic programming language and also platform independent\"\n",
    "\n",
    "print(re.findall(\"independent$\", txt))"
   ]
  },
  {
   "cell_type": "code",
   "execution_count": 6,
   "id": "f0e50c06-c7f0-4e45-bb49-2390c990387e",
   "metadata": {},
   "outputs": [
    {
     "name": "stdout",
     "output_type": "stream",
     "text": [
      "['and', 'an', 'and']\n"
     ]
    }
   ],
   "source": [
    "import re\n",
    "\n",
    "txt = \"python is interpretted and dynamic programming language and also platform independent\"\n",
    "\n",
    "print(re.findall(\"and*\", txt))"
   ]
  },
  {
   "cell_type": "code",
   "execution_count": 11,
   "id": "ed52fbd0-1f06-42c2-95ac-ea9dbf4bc622",
   "metadata": {},
   "outputs": [
    {
     "name": "stdout",
     "output_type": "stream",
     "text": [
      "['ett']\n"
     ]
    }
   ],
   "source": [
    "import re\n",
    "\n",
    "txt = \"python is interpretted and dynamic programming language and also platform independent\"\n",
    "\n",
    "print(re.findall(\"et{2}\", txt))"
   ]
  },
  {
   "cell_type": "code",
   "execution_count": 12,
   "id": "dc1cb1de-9f63-4115-91af-685200f144ce",
   "metadata": {},
   "outputs": [
    {
     "name": "stdout",
     "output_type": "stream",
     "text": [
      "['and dynamic programming language and also platform independent']\n"
     ]
    }
   ],
   "source": [
    "import re\n",
    "\n",
    "txt = \"python is interpretted and dynamic programming language and also platform independent\"\n",
    "\n",
    "print(re.findall(\"and.*\", txt))"
   ]
  },
  {
   "cell_type": "code",
   "execution_count": 13,
   "id": "171882d4-5449-4c36-ac90-5f23f8479cc8",
   "metadata": {},
   "outputs": [
    {
     "name": "stdout",
     "output_type": "stream",
     "text": [
      "['e', 'e', 'e', 'd', 'a', 'd', 'd', 'a', 'c', 'a', 'a', 'a', 'e', 'a', 'd', 'a', 'a', 'f', 'd', 'e', 'e', 'd', 'e']\n"
     ]
    }
   ],
   "source": [
    "import re\n",
    "\n",
    "txt = \"python is interpretted and dynamic programming language and also platform independent\"\n",
    "\n",
    "print(re.findall(\"[a-f]\", txt))"
   ]
  },
  {
   "cell_type": "code",
   "execution_count": 14,
   "id": "6e30109b-5f2a-4f3c-b92a-0bbe3f2772f9",
   "metadata": {},
   "outputs": [
    {
     "name": "stdout",
     "output_type": "stream",
     "text": [
      "['1', '2']\n"
     ]
    }
   ],
   "source": [
    "import re\n",
    "\n",
    "txt = \"1.python is interpretted and dynamic programming language and also 2.platform independent\"\n",
    "\n",
    "print(re.findall(\"[0-9]\", txt))"
   ]
  },
  {
   "cell_type": "code",
   "execution_count": 19,
   "id": "8e905279-e989-4f79-a89f-f33de2c2d98c",
   "metadata": {},
   "outputs": [
    {
     "name": "stdout",
     "output_type": "stream",
     "text": [
      "['11:00', '5:00', '6:00']\n"
     ]
    }
   ],
   "source": [
    "import re\n",
    "\n",
    "txt = \"11:00 am is best time to sleep and 5:00 am - 6:00 am is to wake up\"\n",
    "\n",
    "print(re.findall(\"[0-9]*[:][0-9]*\", txt))"
   ]
  },
  {
   "cell_type": "code",
   "execution_count": 22,
   "id": "b8956b65-4f22-4b0f-b0f9-8a4cb848962d",
   "metadata": {},
   "outputs": [
    {
     "name": "stdout",
     "output_type": "stream",
     "text": [
      "(25, 30)\n"
     ]
    }
   ],
   "source": [
    "import re\n",
    "\n",
    "txt = \"11:00 am is best time to sleep and 5:00 am - 6:00 am is to wake up\"\n",
    "\n",
    "print(re.search(\"sleep\", txt).span())"
   ]
  },
  {
   "cell_type": "code",
   "execution_count": 25,
   "id": "3f249161-27e3-48b3-b59a-95dd3be72c91",
   "metadata": {},
   "outputs": [
    {
     "name": "stdout",
     "output_type": "stream",
     "text": [
      "['11:00 am is best ', ' ', ' sleep and 5:00 am - 6:00 am is ', ' wake up']\n"
     ]
    }
   ],
   "source": [
    "import re\n",
    "\n",
    "txt = \"11:00 am is best time to sleep and 5:00 am - 6:00 am is to wake up\"\n",
    "\n",
    "print(re.split(r\"\\bt\\w*\", txt))"
   ]
  },
  {
   "cell_type": "code",
   "execution_count": 26,
   "id": "f4dc9a0a-13f2-4231-97ae-8184de0b6a00",
   "metadata": {},
   "outputs": [
    {
     "data": {
      "text/plain": [
       "['11:00 am is best ', ' ', ' sleep and 5:00 am - 6:00 am is ', ' wake up']"
      ]
     },
     "execution_count": 26,
     "metadata": {},
     "output_type": "execute_result"
    }
   ],
   "source": [
    "import re\n",
    "\n",
    "txt = \"11:00 am is best time to sleep and 5:00 am - 6:00 am is to wake up\"\n",
    "\n",
    "ans = re.split(r\"\\bt\\w*\", txt)\n",
    "\n",
    "ans"
   ]
  },
  {
   "cell_type": "code",
   "execution_count": 29,
   "id": "38b1d78c-2373-4536-aa2a-1155196e1ddc",
   "metadata": {},
   "outputs": [
    {
     "name": "stdout",
     "output_type": "stream",
     "text": [
      "['time', 'to', 'to']\n"
     ]
    }
   ],
   "source": [
    "import re\n",
    "\n",
    "txt = \"11:00 am is best time to sleep and 5:00 am - 6:00 am is to wake up\"\n",
    "\n",
    "print(re.findall(r\"\\bt\\w*\", txt))"
   ]
  },
  {
   "cell_type": "code",
   "execution_count": 30,
   "id": "67b3d1e5-c1db-4e97-a7b3-89a2f5ddbcce",
   "metadata": {},
   "outputs": [
    {
     "name": "stdout",
     "output_type": "stream",
     "text": [
      "['11:00', 'am', 'is', 'best', 'time', 'to', 'sleep', 'and', '5:00', 'am', '-', '6:00', 'am', 'is', 'to', 'wake', 'up']\n"
     ]
    },
    {
     "name": "stderr",
     "output_type": "stream",
     "text": [
      "<>:3: SyntaxWarning: invalid escape sequence '\\s'\n",
      "<>:3: SyntaxWarning: invalid escape sequence '\\s'\n",
      "C:\\Users\\Senthil Kumar\\AppData\\Local\\Temp\\ipykernel_14932\\2246038935.py:3: SyntaxWarning: invalid escape sequence '\\s'\n",
      "  print(re.split(\"\\s\", txt))\n"
     ]
    }
   ],
   "source": [
    "\n",
    "txt = \"11:00 am is best time to sleep and 5:00 am - 6:00 am is to wake up\"\n",
    "\n",
    "print(re.split(\"\\s\", txt))"
   ]
  },
  {
   "cell_type": "code",
   "execution_count": 32,
   "id": "c641eabd-3ca4-4436-adbc-346b02ec11ca",
   "metadata": {},
   "outputs": [
    {
     "name": "stdout",
     "output_type": "stream",
     "text": [
      "['11:00', 'am', 'is', 'best', 'time', 'to', 'sleep', 'and', '5:00', 'am', '-', '6:00', 'am', 'is', 'to', 'wake', 'up']\n"
     ]
    }
   ],
   "source": [
    "\n",
    "txt = \"11:00 am is best time to sleep and 5:00 am - 6:00 am is to wake up\"\n",
    "\n",
    "print(re.split(\" \", txt))"
   ]
  },
  {
   "cell_type": "code",
   "execution_count": 33,
   "id": "749cdc18-6b3c-4efa-b5ea-bd9ab48a7b56",
   "metadata": {},
   "outputs": [
    {
     "name": "stdout",
     "output_type": "stream",
     "text": [
      "11:00 am is best time to sleep and 5:00 am - 6:00 am is to woke up\n"
     ]
    }
   ],
   "source": [
    "\n",
    "txt = \"11:00 am is best time to sleep and 5:00 am - 6:00 am is to wake up\"\n",
    "\n",
    "print(re.sub(\"wake\",\"woke\", txt))"
   ]
  },
  {
   "cell_type": "code",
   "execution_count": null,
   "id": "27cec11e-06ae-4fb5-97f7-8d4821d816a6",
   "metadata": {},
   "outputs": [],
   "source": [
    "#10-04-2025\n",
    "# numpy library\n",
    "#basicsofnumpy"
   ]
  },
  {
   "cell_type": "code",
   "execution_count": 1,
   "id": "1ecd1849-02ee-4d42-a56a-5e7b4c1261fc",
   "metadata": {},
   "outputs": [
    {
     "data": {
      "text/plain": [
       "numpy.ndarray"
      ]
     },
     "execution_count": 1,
     "metadata": {},
     "output_type": "execute_result"
    }
   ],
   "source": [
    "import numpy as np\n",
    "\n",
    "arr1 = np.array([3,2,8,9])\n",
    "\n",
    "type(arr1)"
   ]
  },
  {
   "cell_type": "code",
   "execution_count": 2,
   "id": "8e780fbf-4ca3-4c8a-8d4c-c09315bc8878",
   "metadata": {},
   "outputs": [
    {
     "data": {
      "text/plain": [
       "1"
      ]
     },
     "execution_count": 2,
     "metadata": {},
     "output_type": "execute_result"
    }
   ],
   "source": [
    "arr1.ndim"
   ]
  },
  {
   "cell_type": "code",
   "execution_count": 3,
   "id": "77459b5d-cae1-4ea8-a582-341188571ae9",
   "metadata": {},
   "outputs": [
    {
     "data": {
      "text/plain": [
       "(4,)"
      ]
     },
     "execution_count": 3,
     "metadata": {},
     "output_type": "execute_result"
    }
   ],
   "source": [
    "arr1.shape"
   ]
  },
  {
   "cell_type": "code",
   "execution_count": 6,
   "id": "2eeba9ca-b296-4609-8048-b8e828ec6152",
   "metadata": {},
   "outputs": [
    {
     "data": {
      "text/plain": [
       "numpy.ndarray"
      ]
     },
     "execution_count": 6,
     "metadata": {},
     "output_type": "execute_result"
    }
   ],
   "source": [
    "arr1 = np.array([[3,2],[8,9]])\n",
    "type(arr1)"
   ]
  },
  {
   "cell_type": "code",
   "execution_count": 7,
   "id": "ea62c0af-8349-430e-bece-9d02a2087409",
   "metadata": {},
   "outputs": [
    {
     "data": {
      "text/plain": [
       "array([[3, 2],\n",
       "       [8, 9]])"
      ]
     },
     "execution_count": 7,
     "metadata": {},
     "output_type": "execute_result"
    }
   ],
   "source": [
    "arr1"
   ]
  },
  {
   "cell_type": "code",
   "execution_count": 8,
   "id": "1914baad-7a09-450f-a219-170821bc2053",
   "metadata": {},
   "outputs": [
    {
     "data": {
      "text/plain": [
       "2"
      ]
     },
     "execution_count": 8,
     "metadata": {},
     "output_type": "execute_result"
    }
   ],
   "source": [
    "arr1.ndim"
   ]
  },
  {
   "cell_type": "code",
   "execution_count": 9,
   "id": "304a584b-52d2-465d-9d2f-fd6aacf18c6f",
   "metadata": {},
   "outputs": [
    {
     "data": {
      "text/plain": [
       "(2, 2)"
      ]
     },
     "execution_count": 9,
     "metadata": {},
     "output_type": "execute_result"
    }
   ],
   "source": [
    "arr1.shape"
   ]
  },
  {
   "cell_type": "code",
   "execution_count": 10,
   "id": "7704967b-29a1-4117-b1c1-7a456684a062",
   "metadata": {},
   "outputs": [
    {
     "data": {
      "text/plain": [
       "np.int64(8)"
      ]
     },
     "execution_count": 10,
     "metadata": {},
     "output_type": "execute_result"
    }
   ],
   "source": [
    "arr1[1,0]"
   ]
  },
  {
   "cell_type": "code",
   "execution_count": 11,
   "id": "1ef09021-214a-4dc4-8115-1261551146cb",
   "metadata": {},
   "outputs": [
    {
     "data": {
      "text/plain": [
       "dtype('int64')"
      ]
     },
     "execution_count": 11,
     "metadata": {},
     "output_type": "execute_result"
    }
   ],
   "source": [
    "arr1.dtype"
   ]
  },
  {
   "cell_type": "code",
   "execution_count": 12,
   "id": "9d5770c1-aa90-480b-937c-e0368dd9e430",
   "metadata": {},
   "outputs": [
    {
     "data": {
      "text/plain": [
       "array([[4, 2, 3],\n",
       "       [5, 1, 8]])"
      ]
     },
     "execution_count": 12,
     "metadata": {},
     "output_type": "execute_result"
    }
   ],
   "source": [
    "arr2 = np.array([[4,2,3],[5,1,8]])\n",
    "arr2"
   ]
  },
  {
   "cell_type": "code",
   "execution_count": 13,
   "id": "1697b8de-ae84-41ef-a1c2-eb9d2afc67cf",
   "metadata": {},
   "outputs": [
    {
     "data": {
      "text/plain": [
       "np.int64(1)"
      ]
     },
     "execution_count": 13,
     "metadata": {},
     "output_type": "execute_result"
    }
   ],
   "source": [
    "arr2[1,1]"
   ]
  },
  {
   "cell_type": "code",
   "execution_count": 14,
   "id": "f572dfc5-caab-4751-9f01-bb0cc23c2f92",
   "metadata": {},
   "outputs": [
    {
     "data": {
      "text/plain": [
       "array([[3, 2],\n",
       "       [8, 9]])"
      ]
     },
     "execution_count": 14,
     "metadata": {},
     "output_type": "execute_result"
    }
   ],
   "source": [
    "arr1"
   ]
  },
  {
   "cell_type": "code",
   "execution_count": 15,
   "id": "638a3212-8196-4d2c-92ae-a7793120b884",
   "metadata": {},
   "outputs": [
    {
     "data": {
      "text/plain": [
       "array([2, 9])"
      ]
     },
     "execution_count": 15,
     "metadata": {},
     "output_type": "execute_result"
    }
   ],
   "source": [
    "arr1[:, 1]"
   ]
  },
  {
   "cell_type": "code",
   "execution_count": 16,
   "id": "3855e885-0482-447f-b659-5c5dd4173a33",
   "metadata": {},
   "outputs": [
    {
     "data": {
      "text/plain": [
       "array([3, 2])"
      ]
     },
     "execution_count": 16,
     "metadata": {},
     "output_type": "execute_result"
    }
   ],
   "source": [
    "arr1[0,:]"
   ]
  },
  {
   "cell_type": "code",
   "execution_count": 17,
   "id": "ca61aae7-6f4e-46de-8fc6-c254002b9e3c",
   "metadata": {},
   "outputs": [
    {
     "data": {
      "text/plain": [
       "array([[0., 0., 0.],\n",
       "       [0., 0., 0.],\n",
       "       [0., 0., 0.]])"
      ]
     },
     "execution_count": 17,
     "metadata": {},
     "output_type": "execute_result"
    }
   ],
   "source": [
    "np.zeros((3,3))"
   ]
  },
  {
   "cell_type": "code",
   "execution_count": 18,
   "id": "13751442-7106-4a8e-a4bf-81c858f274d2",
   "metadata": {},
   "outputs": [
    {
     "data": {
      "text/plain": [
       "array([[[0., 0., 0.],\n",
       "        [0., 0., 0.]],\n",
       "\n",
       "       [[0., 0., 0.],\n",
       "        [0., 0., 0.]]])"
      ]
     },
     "execution_count": 18,
     "metadata": {},
     "output_type": "execute_result"
    }
   ],
   "source": [
    "np.zeros((2,2,3))"
   ]
  },
  {
   "cell_type": "code",
   "execution_count": 19,
   "id": "d144a315-5485-46ed-96a5-012131ed21fa",
   "metadata": {},
   "outputs": [
    {
     "data": {
      "text/plain": [
       "array([[[[0., 0.],\n",
       "         [0., 0.]],\n",
       "\n",
       "        [[0., 0.],\n",
       "         [0., 0.]]],\n",
       "\n",
       "\n",
       "       [[[0., 0.],\n",
       "         [0., 0.]],\n",
       "\n",
       "        [[0., 0.],\n",
       "         [0., 0.]]]])"
      ]
     },
     "execution_count": 19,
     "metadata": {},
     "output_type": "execute_result"
    }
   ],
   "source": [
    "np.zeros((2,2,2,2))"
   ]
  },
  {
   "cell_type": "code",
   "execution_count": 20,
   "id": "bb6e1376-507c-42b3-8ece-f7df449e5e37",
   "metadata": {},
   "outputs": [
    {
     "data": {
      "text/plain": [
       "array([[1., 1.],\n",
       "       [1., 1.],\n",
       "       [1., 1.],\n",
       "       [1., 1.]])"
      ]
     },
     "execution_count": 20,
     "metadata": {},
     "output_type": "execute_result"
    }
   ],
   "source": [
    "np.ones((4,2))"
   ]
  },
  {
   "cell_type": "code",
   "execution_count": 21,
   "id": "ecb1f565-f280-44a7-b3ef-f053e6605f49",
   "metadata": {},
   "outputs": [
    {
     "data": {
      "text/plain": [
       "array([[[9, 9],\n",
       "        [9, 9]],\n",
       "\n",
       "       [[9, 9],\n",
       "        [9, 9]],\n",
       "\n",
       "       [[9, 9],\n",
       "        [9, 9]]])"
      ]
     },
     "execution_count": 21,
     "metadata": {},
     "output_type": "execute_result"
    }
   ],
   "source": [
    "np.full((3,2,2),9)"
   ]
  },
  {
   "cell_type": "code",
   "execution_count": 22,
   "id": "4e7afb68-12e2-4bac-9f8c-8403e1797f92",
   "metadata": {},
   "outputs": [
    {
     "data": {
      "text/plain": [
       "array([[0.272525  , 0.03823202],\n",
       "       [0.70077174, 0.28554128],\n",
       "       [0.56392152, 0.09563421]])"
      ]
     },
     "execution_count": 22,
     "metadata": {},
     "output_type": "execute_result"
    }
   ],
   "source": [
    "np.random.rand(3,2)"
   ]
  },
  {
   "cell_type": "code",
   "execution_count": 24,
   "id": "c271c66b-8aa1-46bd-8d28-a83f0ec69fcd",
   "metadata": {},
   "outputs": [
    {
     "data": {
      "text/plain": [
       "array([[16, 26, 27, 15],\n",
       "       [15, 18, 11, 19],\n",
       "       [ 8, 29, 18, 28]], dtype=int32)"
      ]
     },
     "execution_count": 24,
     "metadata": {},
     "output_type": "execute_result"
    }
   ],
   "source": [
    "arr2 = np.random.randint(5,30, size=[3,4])\n",
    "arr2"
   ]
  },
  {
   "cell_type": "code",
   "execution_count": 25,
   "id": "23112a27-7392-4109-aa84-e86601c8da66",
   "metadata": {},
   "outputs": [
    {
     "data": {
      "text/plain": [
       "array([[[18,  5, 18],\n",
       "        [22, 10, 18],\n",
       "        [ 8, 23,  8]],\n",
       "\n",
       "       [[10, 26, 20],\n",
       "        [18, 26, 19],\n",
       "        [18, 10, 19]]], dtype=int32)"
      ]
     },
     "execution_count": 25,
     "metadata": {},
     "output_type": "execute_result"
    }
   ],
   "source": [
    "arr3 = np.random.randint(5,30,size = [2,3,3])\n",
    "arr3"
   ]
  },
  {
   "cell_type": "code",
   "execution_count": 26,
   "id": "c8fca78f-d085-4aae-8f25-47902df15f2c",
   "metadata": {},
   "outputs": [
    {
     "data": {
      "text/plain": [
       "array([[16, 26, 27, 15],\n",
       "       [15, 18, 11, 19],\n",
       "       [ 8, 29, 18, 28]], dtype=int32)"
      ]
     },
     "execution_count": 26,
     "metadata": {},
     "output_type": "execute_result"
    }
   ],
   "source": [
    "arr2"
   ]
  },
  {
   "cell_type": "code",
   "execution_count": 27,
   "id": "c53b26c3-c2e2-4b09-8961-ac663271c94d",
   "metadata": {},
   "outputs": [
    {
     "data": {
      "text/plain": [
       "array([[18,  5, 18, 22, 10, 18],\n",
       "       [ 8, 23,  8, 10, 26, 20],\n",
       "       [18, 26, 19, 18, 10, 19]], dtype=int32)"
      ]
     },
     "execution_count": 27,
     "metadata": {},
     "output_type": "execute_result"
    }
   ],
   "source": [
    "arr2 = arr3.reshape(3,6)\n",
    "arr2"
   ]
  },
  {
   "cell_type": "code",
   "execution_count": 28,
   "id": "957ffa3a-43ae-44bb-9729-aa00928dbc09",
   "metadata": {},
   "outputs": [
    {
     "data": {
      "text/plain": [
       "array([[24, 22, 28],\n",
       "       [26, 29, 15]], dtype=int32)"
      ]
     },
     "execution_count": 28,
     "metadata": {},
     "output_type": "execute_result"
    }
   ],
   "source": [
    "arr4 = np.random.randint(5,30, size = (2,3))\n",
    "arr5 = np.random.randint(5,30, size = (2,3))\n",
    "arr4"
   ]
  },
  {
   "cell_type": "code",
   "execution_count": 29,
   "id": "9d0270e1-69e8-4a37-b6f3-3ea24f9e4dc3",
   "metadata": {},
   "outputs": [
    {
     "data": {
      "text/plain": [
       "array([[16, 24,  6],\n",
       "       [18, 18, 22]], dtype=int32)"
      ]
     },
     "execution_count": 29,
     "metadata": {},
     "output_type": "execute_result"
    }
   ],
   "source": [
    "arr5"
   ]
  },
  {
   "cell_type": "code",
   "execution_count": 31,
   "id": "dd8fb4da-3a25-4730-b09f-6fb5253a2786",
   "metadata": {},
   "outputs": [
    {
     "data": {
      "text/plain": [
       "array([[24, 22, 28],\n",
       "       [26, 29, 15],\n",
       "       [16, 24,  6],\n",
       "       [18, 18, 22]], dtype=int32)"
      ]
     },
     "execution_count": 31,
     "metadata": {},
     "output_type": "execute_result"
    }
   ],
   "source": [
    "np.vstack([arr4,arr5])"
   ]
  },
  {
   "cell_type": "code",
   "execution_count": 32,
   "id": "db256fca-d918-4c44-902e-218538b21f89",
   "metadata": {},
   "outputs": [
    {
     "data": {
      "text/plain": [
       "array([[24, 22, 28, 16, 24,  6],\n",
       "       [26, 29, 15, 18, 18, 22]], dtype=int32)"
      ]
     },
     "execution_count": 32,
     "metadata": {},
     "output_type": "execute_result"
    }
   ],
   "source": [
    "np.hstack([arr4,arr5])"
   ]
  },
  {
   "cell_type": "code",
   "execution_count": null,
   "id": "80bee1be-4453-4e46-bd2a-1ace0da2e132",
   "metadata": {},
   "outputs": [],
   "source": [
    "#11-04-2025\n",
    "#pandas"
   ]
  },
  {
   "cell_type": "code",
   "execution_count": 1,
   "id": "23b6a993-82f8-44b7-aa6e-e770ff9383f4",
   "metadata": {},
   "outputs": [
    {
     "name": "stdout",
     "output_type": "stream",
     "text": [
      "Requirement already satisfied: pandas in c:\\users\\senthil kumar\\appdata\\local\\programs\\python\\python313\\lib\\site-packages (2.2.3)\n",
      "Requirement already satisfied: numpy>=1.26.0 in c:\\users\\senthil kumar\\appdata\\local\\programs\\python\\python313\\lib\\site-packages (from pandas) (2.2.3)\n",
      "Requirement already satisfied: python-dateutil>=2.8.2 in c:\\users\\senthil kumar\\appdata\\local\\programs\\python\\python313\\lib\\site-packages (from pandas) (2.9.0.post0)\n",
      "Requirement already satisfied: pytz>=2020.1 in c:\\users\\senthil kumar\\appdata\\local\\programs\\python\\python313\\lib\\site-packages (from pandas) (2025.1)\n",
      "Requirement already satisfied: tzdata>=2022.7 in c:\\users\\senthil kumar\\appdata\\local\\programs\\python\\python313\\lib\\site-packages (from pandas) (2025.1)\n",
      "Requirement already satisfied: six>=1.5 in c:\\users\\senthil kumar\\appdata\\local\\programs\\python\\python313\\lib\\site-packages (from python-dateutil>=2.8.2->pandas) (1.17.0)\n",
      "Note: you may need to restart the kernel to use updated packages.\n"
     ]
    },
    {
     "name": "stderr",
     "output_type": "stream",
     "text": [
      "\n",
      "[notice] A new release of pip is available: 24.3.1 -> 25.0.1\n",
      "[notice] To update, run: python.exe -m pip install --upgrade pip\n"
     ]
    }
   ],
   "source": [
    "pip install pandas"
   ]
  },
  {
   "cell_type": "code",
   "execution_count": 2,
   "id": "780a59aa-91b9-4b45-bcbe-77d11d2d2cf0",
   "metadata": {},
   "outputs": [
    {
     "name": "stdout",
     "output_type": "stream",
     "text": [
      "\n",
      "pandas - a powerful data analysis and manipulation library for Python\n",
      "=====================================================================\n",
      "\n",
      "**pandas** is a Python package providing fast, flexible, and expressive data\n",
      "structures designed to make working with \"relational\" or \"labeled\" data both\n",
      "easy and intuitive. It aims to be the fundamental high-level building block for\n",
      "doing practical, **real world** data analysis in Python. Additionally, it has\n",
      "the broader goal of becoming **the most powerful and flexible open source data\n",
      "analysis / manipulation tool available in any language**. It is already well on\n",
      "its way toward this goal.\n",
      "\n",
      "Main Features\n",
      "-------------\n",
      "Here are just a few of the things that pandas does well:\n",
      "\n",
      "  - Easy handling of missing data in floating point as well as non-floating\n",
      "    point data.\n",
      "  - Size mutability: columns can be inserted and deleted from DataFrame and\n",
      "    higher dimensional objects\n",
      "  - Automatic and explicit data alignment: objects can be explicitly aligned\n",
      "    to a set of labels, or the user can simply ignore the labels and let\n",
      "    `Series`, `DataFrame`, etc. automatically align the data for you in\n",
      "    computations.\n",
      "  - Powerful, flexible group by functionality to perform split-apply-combine\n",
      "    operations on data sets, for both aggregating and transforming data.\n",
      "  - Make it easy to convert ragged, differently-indexed data in other Python\n",
      "    and NumPy data structures into DataFrame objects.\n",
      "  - Intelligent label-based slicing, fancy indexing, and subsetting of large\n",
      "    data sets.\n",
      "  - Intuitive merging and joining data sets.\n",
      "  - Flexible reshaping and pivoting of data sets.\n",
      "  - Hierarchical labeling of axes (possible to have multiple labels per tick).\n",
      "  - Robust IO tools for loading data from flat files (CSV and delimited),\n",
      "    Excel files, databases, and saving/loading data from the ultrafast HDF5\n",
      "    format.\n",
      "  - Time series-specific functionality: date range generation and frequency\n",
      "    conversion, moving window statistics, date shifting and lagging.\n",
      "\n"
     ]
    }
   ],
   "source": [
    "import pandas as pd\n",
    "\n",
    "print(pd.__doc__)"
   ]
  },
  {
   "cell_type": "code",
   "execution_count": 3,
   "id": "501917e8-acca-4c5b-865b-44700d12f1c9",
   "metadata": {},
   "outputs": [
    {
     "data": {
      "text/plain": [
       "0    4\n",
       "1    2\n",
       "2    6\n",
       "3    7\n",
       "dtype: int64"
      ]
     },
     "execution_count": 3,
     "metadata": {},
     "output_type": "execute_result"
    }
   ],
   "source": [
    "import pandas as pd\n",
    "\n",
    "l1 = [4,2,6,7]\n",
    "s1 = pd.Series(l1)\n",
    "s1"
   ]
  },
  {
   "cell_type": "code",
   "execution_count": 4,
   "id": "fb8d0502-6ead-42eb-a9bb-53cf133eaa89",
   "metadata": {},
   "outputs": [
    {
     "name": "stdout",
     "output_type": "stream",
     "text": [
      "int64\n",
      "(4,)\n",
      "7\n"
     ]
    }
   ],
   "source": [
    "print(s1.dtype)\n",
    "print(s1.shape)\n",
    "print(s1[3])"
   ]
  },
  {
   "cell_type": "code",
   "execution_count": 6,
   "id": "4afb24a8-e67d-40fb-81b2-fca1658c8ae5",
   "metadata": {},
   "outputs": [
    {
     "name": "stdout",
     "output_type": "stream",
     "text": [
      "2\n"
     ]
    }
   ],
   "source": [
    "print(s1.min())"
   ]
  },
  {
   "cell_type": "code",
   "execution_count": 7,
   "id": "7b38a51a-31ed-432f-93a9-b0ad8ec700cf",
   "metadata": {},
   "outputs": [
    {
     "name": "stdout",
     "output_type": "stream",
     "text": [
      "7\n"
     ]
    }
   ],
   "source": [
    "print(s1.max())"
   ]
  },
  {
   "cell_type": "code",
   "execution_count": 8,
   "id": "d472bbb7-edfd-449d-8d0d-db8204177598",
   "metadata": {},
   "outputs": [
    {
     "name": "stdout",
     "output_type": "stream",
     "text": [
      "19\n"
     ]
    }
   ],
   "source": [
    "print(s1.sum())"
   ]
  },
  {
   "cell_type": "code",
   "execution_count": 9,
   "id": "95ad434a-2bfa-4260-b913-7bf0f9cc5e33",
   "metadata": {},
   "outputs": [
    {
     "data": {
      "text/plain": [
       "apple    34\n",
       "dtype: int64"
      ]
     },
     "execution_count": 9,
     "metadata": {},
     "output_type": "execute_result"
    }
   ],
   "source": [
    "import pandas as pd\n",
    "\n",
    "d1 = {\"apple\" : 34}\n",
    "s1 = pd.Series(d1)\n",
    "s1"
   ]
  },
  {
   "cell_type": "code",
   "execution_count": 10,
   "id": "15c91379-9411-4db2-a15f-da15743bfc80",
   "metadata": {},
   "outputs": [
    {
     "data": {
      "text/plain": [
       "apple     34\n",
       "banana     5\n",
       "cherry     9\n",
       "dtype: int64"
      ]
     },
     "execution_count": 10,
     "metadata": {},
     "output_type": "execute_result"
    }
   ],
   "source": [
    "import pandas as pd \n",
    "\n",
    "d1 = {\"apple\":34,\"banana\":5, \"cherry\":9}\n",
    "s1 = pd.Series(d1)\n",
    "s1"
   ]
  },
  {
   "cell_type": "code",
   "execution_count": 12,
   "id": "ac32212e-64ae-4efe-b94b-a8646d3a9031",
   "metadata": {},
   "outputs": [
    {
     "data": {
      "text/html": [
       "<div>\n",
       "<style scoped>\n",
       "    .dataframe tbody tr th:only-of-type {\n",
       "        vertical-align: middle;\n",
       "    }\n",
       "\n",
       "    .dataframe tbody tr th {\n",
       "        vertical-align: top;\n",
       "    }\n",
       "\n",
       "    .dataframe thead th {\n",
       "        text-align: right;\n",
       "    }\n",
       "</style>\n",
       "<table border=\"1\" class=\"dataframe\">\n",
       "  <thead>\n",
       "    <tr style=\"text-align: right;\">\n",
       "      <th></th>\n",
       "      <th>apple</th>\n",
       "      <th>banana</th>\n",
       "      <th>cherry</th>\n",
       "    </tr>\n",
       "  </thead>\n",
       "  <tbody>\n",
       "    <tr>\n",
       "      <th>0</th>\n",
       "      <td>34</td>\n",
       "      <td>5</td>\n",
       "      <td>9</td>\n",
       "    </tr>\n",
       "    <tr>\n",
       "      <th>1</th>\n",
       "      <td>23</td>\n",
       "      <td>3</td>\n",
       "      <td>8</td>\n",
       "    </tr>\n",
       "    <tr>\n",
       "      <th>2</th>\n",
       "      <td>12</td>\n",
       "      <td>8</td>\n",
       "      <td>6</td>\n",
       "    </tr>\n",
       "  </tbody>\n",
       "</table>\n",
       "</div>"
      ],
      "text/plain": [
       "   apple  banana  cherry\n",
       "0     34       5       9\n",
       "1     23       3       8\n",
       "2     12       8       6"
      ]
     },
     "execution_count": 12,
     "metadata": {},
     "output_type": "execute_result"
    }
   ],
   "source": [
    "data = {\"apple\": [34,23,12], \"banana\" : [5,3,8], \"cherry\":[9,8,6]}\n",
    "\n",
    "df = pd.DataFrame(data)\n",
    "df"
   ]
  },
  {
   "cell_type": "code",
   "execution_count": 13,
   "id": "3b2e7442-b0a0-4ff7-bde4-c859afe5ee02",
   "metadata": {},
   "outputs": [
    {
     "data": {
      "text/plain": [
       "0    9\n",
       "1    8\n",
       "2    6\n",
       "Name: cherry, dtype: int64"
      ]
     },
     "execution_count": 13,
     "metadata": {},
     "output_type": "execute_result"
    }
   ],
   "source": [
    "df[\"cherry\"]"
   ]
  },
  {
   "cell_type": "code",
   "execution_count": 14,
   "id": "982f1155-a529-473e-8fe1-d1ed29225bf1",
   "metadata": {},
   "outputs": [
    {
     "data": {
      "text/plain": [
       "apple     23\n",
       "banana     3\n",
       "cherry     8\n",
       "Name: 1, dtype: int64"
      ]
     },
     "execution_count": 14,
     "metadata": {},
     "output_type": "execute_result"
    }
   ],
   "source": [
    "df.iloc[1]"
   ]
  },
  {
   "cell_type": "code",
   "execution_count": 9,
   "id": "edd2990e-e22d-4f25-aaa0-363deaffc0b5",
   "metadata": {},
   "outputs": [
    {
     "data": {
      "text/html": [
       "<div>\n",
       "<style scoped>\n",
       "    .dataframe tbody tr th:only-of-type {\n",
       "        vertical-align: middle;\n",
       "    }\n",
       "\n",
       "    .dataframe tbody tr th {\n",
       "        vertical-align: top;\n",
       "    }\n",
       "\n",
       "    .dataframe thead th {\n",
       "        text-align: right;\n",
       "    }\n",
       "</style>\n",
       "<table border=\"1\" class=\"dataframe\">\n",
       "  <thead>\n",
       "    <tr style=\"text-align: right;\">\n",
       "      <th></th>\n",
       "      <th>name</th>\n",
       "      <th>salary</th>\n",
       "      <th>exp</th>\n",
       "      <th>city</th>\n",
       "      <th>age</th>\n",
       "      <th>Gender</th>\n",
       "    </tr>\n",
       "  </thead>\n",
       "  <tbody>\n",
       "    <tr>\n",
       "      <th>0</th>\n",
       "      <td>john</td>\n",
       "      <td>3000.0</td>\n",
       "      <td>4.0</td>\n",
       "      <td>losvegas</td>\n",
       "      <td>30</td>\n",
       "      <td>Male</td>\n",
       "    </tr>\n",
       "    <tr>\n",
       "      <th>1</th>\n",
       "      <td>doe</td>\n",
       "      <td>4000.0</td>\n",
       "      <td>5.0</td>\n",
       "      <td>dc</td>\n",
       "      <td>25</td>\n",
       "      <td>Female</td>\n",
       "    </tr>\n",
       "    <tr>\n",
       "      <th>2</th>\n",
       "      <td>robert</td>\n",
       "      <td>8000.0</td>\n",
       "      <td>6.0</td>\n",
       "      <td>paris</td>\n",
       "      <td>27</td>\n",
       "      <td>Male</td>\n",
       "    </tr>\n",
       "    <tr>\n",
       "      <th>3</th>\n",
       "      <td>chris</td>\n",
       "      <td>9000.0</td>\n",
       "      <td>7.0</td>\n",
       "      <td>newyork</td>\n",
       "      <td>24</td>\n",
       "      <td>Female</td>\n",
       "    </tr>\n",
       "    <tr>\n",
       "      <th>4</th>\n",
       "      <td>NaN</td>\n",
       "      <td>3000.0</td>\n",
       "      <td>NaN</td>\n",
       "      <td>losvegas</td>\n",
       "      <td>35</td>\n",
       "      <td>Male</td>\n",
       "    </tr>\n",
       "    <tr>\n",
       "      <th>5</th>\n",
       "      <td>john</td>\n",
       "      <td>3000.0</td>\n",
       "      <td>4.0</td>\n",
       "      <td>losvegas</td>\n",
       "      <td>33</td>\n",
       "      <td>Female</td>\n",
       "    </tr>\n",
       "    <tr>\n",
       "      <th>6</th>\n",
       "      <td>evans</td>\n",
       "      <td>NaN</td>\n",
       "      <td>4.0</td>\n",
       "      <td>losvegas</td>\n",
       "      <td>31</td>\n",
       "      <td>Male</td>\n",
       "    </tr>\n",
       "    <tr>\n",
       "      <th>7</th>\n",
       "      <td>tom</td>\n",
       "      <td>3000.0</td>\n",
       "      <td>4.0</td>\n",
       "      <td>NaN</td>\n",
       "      <td>37</td>\n",
       "      <td>Female</td>\n",
       "    </tr>\n",
       "  </tbody>\n",
       "</table>\n",
       "</div>"
      ],
      "text/plain": [
       "     name  salary  exp      city  age  Gender\n",
       "0    john  3000.0  4.0  losvegas   30    Male\n",
       "1     doe  4000.0  5.0        dc   25  Female\n",
       "2  robert  8000.0  6.0     paris   27    Male\n",
       "3   chris  9000.0  7.0   newyork   24  Female\n",
       "4     NaN  3000.0  NaN  losvegas   35    Male\n",
       "5    john  3000.0  4.0  losvegas   33  Female\n",
       "6   evans     NaN  4.0  losvegas   31    Male\n",
       "7     tom  3000.0  4.0       NaN   37  Female"
      ]
     },
     "execution_count": 9,
     "metadata": {},
     "output_type": "execute_result"
    }
   ],
   "source": [
    "import pandas as pd\n",
    "df = pd.read_csv(\"employee.csv\")\n",
    "df"
   ]
  },
  {
   "cell_type": "code",
   "execution_count": 11,
   "id": "50f926ca-7f6a-4596-a318-515fab6a877c",
   "metadata": {},
   "outputs": [
    {
     "data": {
      "text/html": [
       "<div>\n",
       "<style scoped>\n",
       "    .dataframe tbody tr th:only-of-type {\n",
       "        vertical-align: middle;\n",
       "    }\n",
       "\n",
       "    .dataframe tbody tr th {\n",
       "        vertical-align: top;\n",
       "    }\n",
       "\n",
       "    .dataframe thead th {\n",
       "        text-align: right;\n",
       "    }\n",
       "</style>\n",
       "<table border=\"1\" class=\"dataframe\">\n",
       "  <thead>\n",
       "    <tr style=\"text-align: right;\">\n",
       "      <th></th>\n",
       "      <th>name</th>\n",
       "      <th>salary</th>\n",
       "      <th>exp</th>\n",
       "      <th>city</th>\n",
       "      <th>age</th>\n",
       "      <th>Gender</th>\n",
       "    </tr>\n",
       "  </thead>\n",
       "  <tbody>\n",
       "    <tr>\n",
       "      <th>0</th>\n",
       "      <td>john</td>\n",
       "      <td>3000.0</td>\n",
       "      <td>4.0</td>\n",
       "      <td>losvegas</td>\n",
       "      <td>30</td>\n",
       "      <td>Male</td>\n",
       "    </tr>\n",
       "    <tr>\n",
       "      <th>1</th>\n",
       "      <td>doe</td>\n",
       "      <td>4000.0</td>\n",
       "      <td>5.0</td>\n",
       "      <td>dc</td>\n",
       "      <td>25</td>\n",
       "      <td>Female</td>\n",
       "    </tr>\n",
       "    <tr>\n",
       "      <th>2</th>\n",
       "      <td>robert</td>\n",
       "      <td>8000.0</td>\n",
       "      <td>6.0</td>\n",
       "      <td>paris</td>\n",
       "      <td>27</td>\n",
       "      <td>Male</td>\n",
       "    </tr>\n",
       "    <tr>\n",
       "      <th>3</th>\n",
       "      <td>chris</td>\n",
       "      <td>9000.0</td>\n",
       "      <td>7.0</td>\n",
       "      <td>newyork</td>\n",
       "      <td>24</td>\n",
       "      <td>Female</td>\n",
       "    </tr>\n",
       "    <tr>\n",
       "      <th>5</th>\n",
       "      <td>john</td>\n",
       "      <td>3000.0</td>\n",
       "      <td>4.0</td>\n",
       "      <td>losvegas</td>\n",
       "      <td>33</td>\n",
       "      <td>Female</td>\n",
       "    </tr>\n",
       "  </tbody>\n",
       "</table>\n",
       "</div>"
      ],
      "text/plain": [
       "     name  salary  exp      city  age  Gender\n",
       "0    john  3000.0  4.0  losvegas   30    Male\n",
       "1     doe  4000.0  5.0        dc   25  Female\n",
       "2  robert  8000.0  6.0     paris   27    Male\n",
       "3   chris  9000.0  7.0   newyork   24  Female\n",
       "5    john  3000.0  4.0  losvegas   33  Female"
      ]
     },
     "execution_count": 11,
     "metadata": {},
     "output_type": "execute_result"
    }
   ],
   "source": [
    "df1 = df.dropna()\n",
    "df1"
   ]
  },
  {
   "cell_type": "code",
   "execution_count": 3,
   "id": "707842a3-81ad-491e-9593-759d700aae2a",
   "metadata": {},
   "outputs": [
    {
     "data": {
      "text/html": [
       "<div>\n",
       "<style scoped>\n",
       "    .dataframe tbody tr th:only-of-type {\n",
       "        vertical-align: middle;\n",
       "    }\n",
       "\n",
       "    .dataframe tbody tr th {\n",
       "        vertical-align: top;\n",
       "    }\n",
       "\n",
       "    .dataframe thead th {\n",
       "        text-align: right;\n",
       "    }\n",
       "</style>\n",
       "<table border=\"1\" class=\"dataframe\">\n",
       "  <thead>\n",
       "    <tr style=\"text-align: right;\">\n",
       "      <th></th>\n",
       "      <th>name</th>\n",
       "      <th>salary</th>\n",
       "      <th>exp</th>\n",
       "      <th>city</th>\n",
       "      <th>age</th>\n",
       "      <th>Gender</th>\n",
       "    </tr>\n",
       "  </thead>\n",
       "  <tbody>\n",
       "    <tr>\n",
       "      <th>0</th>\n",
       "      <td>john</td>\n",
       "      <td>3000.0</td>\n",
       "      <td>4.0</td>\n",
       "      <td>losvegas</td>\n",
       "      <td>30</td>\n",
       "      <td>Male</td>\n",
       "    </tr>\n",
       "    <tr>\n",
       "      <th>1</th>\n",
       "      <td>doe</td>\n",
       "      <td>4000.0</td>\n",
       "      <td>5.0</td>\n",
       "      <td>dc</td>\n",
       "      <td>25</td>\n",
       "      <td>Female</td>\n",
       "    </tr>\n",
       "  </tbody>\n",
       "</table>\n",
       "</div>"
      ],
      "text/plain": [
       "   name  salary  exp      city  age  Gender\n",
       "0  john  3000.0  4.0  losvegas   30    Male\n",
       "1   doe  4000.0  5.0        dc   25  Female"
      ]
     },
     "execution_count": 3,
     "metadata": {},
     "output_type": "execute_result"
    }
   ],
   "source": [
    "df.head(2)"
   ]
  },
  {
   "cell_type": "code",
   "execution_count": 4,
   "id": "9c44f97c-f46a-4c09-a2c5-3303e4067b02",
   "metadata": {},
   "outputs": [
    {
     "data": {
      "text/html": [
       "<div>\n",
       "<style scoped>\n",
       "    .dataframe tbody tr th:only-of-type {\n",
       "        vertical-align: middle;\n",
       "    }\n",
       "\n",
       "    .dataframe tbody tr th {\n",
       "        vertical-align: top;\n",
       "    }\n",
       "\n",
       "    .dataframe thead th {\n",
       "        text-align: right;\n",
       "    }\n",
       "</style>\n",
       "<table border=\"1\" class=\"dataframe\">\n",
       "  <thead>\n",
       "    <tr style=\"text-align: right;\">\n",
       "      <th></th>\n",
       "      <th>name</th>\n",
       "      <th>salary</th>\n",
       "      <th>exp</th>\n",
       "      <th>city</th>\n",
       "      <th>age</th>\n",
       "      <th>Gender</th>\n",
       "    </tr>\n",
       "  </thead>\n",
       "  <tbody>\n",
       "    <tr>\n",
       "      <th>6</th>\n",
       "      <td>evans</td>\n",
       "      <td>NaN</td>\n",
       "      <td>4.0</td>\n",
       "      <td>losvegas</td>\n",
       "      <td>31</td>\n",
       "      <td>Male</td>\n",
       "    </tr>\n",
       "    <tr>\n",
       "      <th>7</th>\n",
       "      <td>tom</td>\n",
       "      <td>3000.0</td>\n",
       "      <td>4.0</td>\n",
       "      <td>NaN</td>\n",
       "      <td>37</td>\n",
       "      <td>Female</td>\n",
       "    </tr>\n",
       "  </tbody>\n",
       "</table>\n",
       "</div>"
      ],
      "text/plain": [
       "    name  salary  exp      city  age  Gender\n",
       "6  evans     NaN  4.0  losvegas   31    Male\n",
       "7    tom  3000.0  4.0       NaN   37  Female"
      ]
     },
     "execution_count": 4,
     "metadata": {},
     "output_type": "execute_result"
    }
   ],
   "source": [
    "df.tail(2)"
   ]
  },
  {
   "cell_type": "code",
   "execution_count": 5,
   "id": "a9cdc913-6928-451a-939c-e54b0ac1f0dd",
   "metadata": {},
   "outputs": [
    {
     "data": {
      "text/plain": [
       "(8, 6)"
      ]
     },
     "execution_count": 5,
     "metadata": {},
     "output_type": "execute_result"
    }
   ],
   "source": [
    "df.shape"
   ]
  },
  {
   "cell_type": "code",
   "execution_count": 7,
   "id": "9d518d06-0aca-4407-8eb8-318047b1b63e",
   "metadata": {},
   "outputs": [
    {
     "name": "stdout",
     "output_type": "stream",
     "text": [
      "<class 'pandas.core.frame.DataFrame'>\n",
      "RangeIndex: 8 entries, 0 to 7\n",
      "Data columns (total 6 columns):\n",
      " #   Column  Non-Null Count  Dtype  \n",
      "---  ------  --------------  -----  \n",
      " 0   name    7 non-null      object \n",
      " 1   salary  7 non-null      float64\n",
      " 2   exp     7 non-null      float64\n",
      " 3   city    7 non-null      object \n",
      " 4   age     8 non-null      int64  \n",
      " 5   Gender  8 non-null      object \n",
      "dtypes: float64(2), int64(1), object(3)\n",
      "memory usage: 516.0+ bytes\n"
     ]
    }
   ],
   "source": [
    "df.info()"
   ]
  },
  {
   "cell_type": "code",
   "execution_count": 8,
   "id": "aca2a9a9-ddf4-4fbc-881b-d9876fa2343c",
   "metadata": {},
   "outputs": [
    {
     "data": {
      "text/html": [
       "<div>\n",
       "<style scoped>\n",
       "    .dataframe tbody tr th:only-of-type {\n",
       "        vertical-align: middle;\n",
       "    }\n",
       "\n",
       "    .dataframe tbody tr th {\n",
       "        vertical-align: top;\n",
       "    }\n",
       "\n",
       "    .dataframe thead th {\n",
       "        text-align: right;\n",
       "    }\n",
       "</style>\n",
       "<table border=\"1\" class=\"dataframe\">\n",
       "  <thead>\n",
       "    <tr style=\"text-align: right;\">\n",
       "      <th></th>\n",
       "      <th>name</th>\n",
       "      <th>age</th>\n",
       "      <th>city</th>\n",
       "      <th>new_user</th>\n",
       "    </tr>\n",
       "  </thead>\n",
       "  <tbody>\n",
       "    <tr>\n",
       "      <th>name</th>\n",
       "      <td>John</td>\n",
       "      <td>30</td>\n",
       "      <td>New York</td>\n",
       "      <td>Alice</td>\n",
       "    </tr>\n",
       "    <tr>\n",
       "      <th>age</th>\n",
       "      <td>John</td>\n",
       "      <td>30</td>\n",
       "      <td>New York</td>\n",
       "      <td>25</td>\n",
       "    </tr>\n",
       "  </tbody>\n",
       "</table>\n",
       "</div>"
      ],
      "text/plain": [
       "      name  age      city new_user\n",
       "name  John   30  New York    Alice\n",
       "age   John   30  New York       25"
      ]
     },
     "execution_count": 8,
     "metadata": {},
     "output_type": "execute_result"
    }
   ],
   "source": [
    "df = pd.read_json(\"example.json\")\n",
    "df"
   ]
  },
  {
   "cell_type": "code",
   "execution_count": 16,
   "id": "e542d12c-f602-47f4-9433-e8523b780163",
   "metadata": {},
   "outputs": [
    {
     "data": {
      "text/html": [
       "<div>\n",
       "<style scoped>\n",
       "    .dataframe tbody tr th:only-of-type {\n",
       "        vertical-align: middle;\n",
       "    }\n",
       "\n",
       "    .dataframe tbody tr th {\n",
       "        vertical-align: top;\n",
       "    }\n",
       "\n",
       "    .dataframe thead th {\n",
       "        text-align: right;\n",
       "    }\n",
       "</style>\n",
       "<table border=\"1\" class=\"dataframe\">\n",
       "  <thead>\n",
       "    <tr style=\"text-align: right;\">\n",
       "      <th></th>\n",
       "      <th>name</th>\n",
       "      <th>salary</th>\n",
       "      <th>exp</th>\n",
       "      <th>city</th>\n",
       "      <th>age</th>\n",
       "      <th>Gender</th>\n",
       "    </tr>\n",
       "  </thead>\n",
       "  <tbody>\n",
       "    <tr>\n",
       "      <th>0</th>\n",
       "      <td>john</td>\n",
       "      <td>3000.0</td>\n",
       "      <td>4.0</td>\n",
       "      <td>losvegas</td>\n",
       "      <td>30</td>\n",
       "      <td>Male</td>\n",
       "    </tr>\n",
       "    <tr>\n",
       "      <th>1</th>\n",
       "      <td>doe</td>\n",
       "      <td>4000.0</td>\n",
       "      <td>5.0</td>\n",
       "      <td>dc</td>\n",
       "      <td>25</td>\n",
       "      <td>Female</td>\n",
       "    </tr>\n",
       "    <tr>\n",
       "      <th>2</th>\n",
       "      <td>robert</td>\n",
       "      <td>8000.0</td>\n",
       "      <td>6.0</td>\n",
       "      <td>paris</td>\n",
       "      <td>27</td>\n",
       "      <td>Male</td>\n",
       "    </tr>\n",
       "    <tr>\n",
       "      <th>3</th>\n",
       "      <td>chris</td>\n",
       "      <td>9000.0</td>\n",
       "      <td>7.0</td>\n",
       "      <td>newyork</td>\n",
       "      <td>24</td>\n",
       "      <td>Female</td>\n",
       "    </tr>\n",
       "    <tr>\n",
       "      <th>5</th>\n",
       "      <td>john</td>\n",
       "      <td>3000.0</td>\n",
       "      <td>4.0</td>\n",
       "      <td>losvegas</td>\n",
       "      <td>33</td>\n",
       "      <td>Female</td>\n",
       "    </tr>\n",
       "  </tbody>\n",
       "</table>\n",
       "</div>"
      ],
      "text/plain": [
       "     name  salary  exp      city  age  Gender\n",
       "0    john  3000.0  4.0  losvegas   30    Male\n",
       "1     doe  4000.0  5.0        dc   25  Female\n",
       "2  robert  8000.0  6.0     paris   27    Male\n",
       "3   chris  9000.0  7.0   newyork   24  Female\n",
       "5    john  3000.0  4.0  losvegas   33  Female"
      ]
     },
     "execution_count": 16,
     "metadata": {},
     "output_type": "execute_result"
    }
   ],
   "source": [
    "import pandas as pd\n",
    "\n",
    "df2 = pd.read_csv(\"employee.csv\")\n",
    "df2.dropna(inplace= True)\n",
    "df2"
   ]
  },
  {
   "cell_type": "code",
   "execution_count": 17,
   "id": "fc6490b6-3ee0-4e32-aa76-679d01faa493",
   "metadata": {},
   "outputs": [
    {
     "name": "stderr",
     "output_type": "stream",
     "text": [
      "C:\\Users\\Senthil Kumar\\AppData\\Local\\Temp\\ipykernel_17572\\1471433983.py:4: FutureWarning: Setting an item of incompatible dtype is deprecated and will raise an error in a future version of pandas. Value 'unknown' has dtype incompatible with float64, please explicitly cast to a compatible dtype first.\n",
      "  df3.fillna(\"unknown\", inplace=True)\n"
     ]
    },
    {
     "data": {
      "text/html": [
       "<div>\n",
       "<style scoped>\n",
       "    .dataframe tbody tr th:only-of-type {\n",
       "        vertical-align: middle;\n",
       "    }\n",
       "\n",
       "    .dataframe tbody tr th {\n",
       "        vertical-align: top;\n",
       "    }\n",
       "\n",
       "    .dataframe thead th {\n",
       "        text-align: right;\n",
       "    }\n",
       "</style>\n",
       "<table border=\"1\" class=\"dataframe\">\n",
       "  <thead>\n",
       "    <tr style=\"text-align: right;\">\n",
       "      <th></th>\n",
       "      <th>name</th>\n",
       "      <th>salary</th>\n",
       "      <th>exp</th>\n",
       "      <th>city</th>\n",
       "      <th>age</th>\n",
       "      <th>Gender</th>\n",
       "    </tr>\n",
       "  </thead>\n",
       "  <tbody>\n",
       "    <tr>\n",
       "      <th>0</th>\n",
       "      <td>john</td>\n",
       "      <td>3000.0</td>\n",
       "      <td>4.0</td>\n",
       "      <td>losvegas</td>\n",
       "      <td>30</td>\n",
       "      <td>Male</td>\n",
       "    </tr>\n",
       "    <tr>\n",
       "      <th>1</th>\n",
       "      <td>doe</td>\n",
       "      <td>4000.0</td>\n",
       "      <td>5.0</td>\n",
       "      <td>dc</td>\n",
       "      <td>25</td>\n",
       "      <td>Female</td>\n",
       "    </tr>\n",
       "    <tr>\n",
       "      <th>2</th>\n",
       "      <td>robert</td>\n",
       "      <td>8000.0</td>\n",
       "      <td>6.0</td>\n",
       "      <td>paris</td>\n",
       "      <td>27</td>\n",
       "      <td>Male</td>\n",
       "    </tr>\n",
       "    <tr>\n",
       "      <th>3</th>\n",
       "      <td>chris</td>\n",
       "      <td>9000.0</td>\n",
       "      <td>7.0</td>\n",
       "      <td>newyork</td>\n",
       "      <td>24</td>\n",
       "      <td>Female</td>\n",
       "    </tr>\n",
       "    <tr>\n",
       "      <th>4</th>\n",
       "      <td>unknown</td>\n",
       "      <td>3000.0</td>\n",
       "      <td>unknown</td>\n",
       "      <td>losvegas</td>\n",
       "      <td>35</td>\n",
       "      <td>Male</td>\n",
       "    </tr>\n",
       "    <tr>\n",
       "      <th>5</th>\n",
       "      <td>john</td>\n",
       "      <td>3000.0</td>\n",
       "      <td>4.0</td>\n",
       "      <td>losvegas</td>\n",
       "      <td>33</td>\n",
       "      <td>Female</td>\n",
       "    </tr>\n",
       "    <tr>\n",
       "      <th>6</th>\n",
       "      <td>evans</td>\n",
       "      <td>unknown</td>\n",
       "      <td>4.0</td>\n",
       "      <td>losvegas</td>\n",
       "      <td>31</td>\n",
       "      <td>Male</td>\n",
       "    </tr>\n",
       "    <tr>\n",
       "      <th>7</th>\n",
       "      <td>tom</td>\n",
       "      <td>3000.0</td>\n",
       "      <td>4.0</td>\n",
       "      <td>unknown</td>\n",
       "      <td>37</td>\n",
       "      <td>Female</td>\n",
       "    </tr>\n",
       "  </tbody>\n",
       "</table>\n",
       "</div>"
      ],
      "text/plain": [
       "      name   salary      exp      city  age  Gender\n",
       "0     john   3000.0      4.0  losvegas   30    Male\n",
       "1      doe   4000.0      5.0        dc   25  Female\n",
       "2   robert   8000.0      6.0     paris   27    Male\n",
       "3    chris   9000.0      7.0   newyork   24  Female\n",
       "4  unknown   3000.0  unknown  losvegas   35    Male\n",
       "5     john   3000.0      4.0  losvegas   33  Female\n",
       "6    evans  unknown      4.0  losvegas   31    Male\n",
       "7      tom   3000.0      4.0   unknown   37  Female"
      ]
     },
     "execution_count": 17,
     "metadata": {},
     "output_type": "execute_result"
    }
   ],
   "source": [
    "import pandas as pd\n",
    "\n",
    "df3 = pd.read_csv(\"employee.csv\")\n",
    "df3.fillna(\"unknown\", inplace=True)\n",
    "df3"
   ]
  },
  {
   "cell_type": "code",
   "execution_count": 20,
   "id": "1b30aa63-c0ce-40f5-ae96-75ff33ea37d5",
   "metadata": {},
   "outputs": [
    {
     "name": "stderr",
     "output_type": "stream",
     "text": [
      "C:\\Users\\Senthil Kumar\\AppData\\Local\\Temp\\ipykernel_17572\\765815886.py:4: FutureWarning: A value is trying to be set on a copy of a DataFrame or Series through chained assignment using an inplace method.\n",
      "The behavior will change in pandas 3.0. This inplace method will never work because the intermediate object on which we are setting values always behaves as a copy.\n",
      "\n",
      "For example, when doing 'df[col].method(value, inplace=True)', try using 'df.method({col: value}, inplace=True)' or df[col] = df[col].method(value) instead, to perform the operation inplace on the original object.\n",
      "\n",
      "\n",
      "  df3[\"name\"].fillna(\"unknown\", inplace=True)\n"
     ]
    },
    {
     "data": {
      "text/html": [
       "<div>\n",
       "<style scoped>\n",
       "    .dataframe tbody tr th:only-of-type {\n",
       "        vertical-align: middle;\n",
       "    }\n",
       "\n",
       "    .dataframe tbody tr th {\n",
       "        vertical-align: top;\n",
       "    }\n",
       "\n",
       "    .dataframe thead th {\n",
       "        text-align: right;\n",
       "    }\n",
       "</style>\n",
       "<table border=\"1\" class=\"dataframe\">\n",
       "  <thead>\n",
       "    <tr style=\"text-align: right;\">\n",
       "      <th></th>\n",
       "      <th>name</th>\n",
       "      <th>salary</th>\n",
       "      <th>exp</th>\n",
       "      <th>city</th>\n",
       "      <th>age</th>\n",
       "      <th>Gender</th>\n",
       "    </tr>\n",
       "  </thead>\n",
       "  <tbody>\n",
       "    <tr>\n",
       "      <th>0</th>\n",
       "      <td>john</td>\n",
       "      <td>3000.0</td>\n",
       "      <td>4.0</td>\n",
       "      <td>losvegas</td>\n",
       "      <td>30</td>\n",
       "      <td>Male</td>\n",
       "    </tr>\n",
       "    <tr>\n",
       "      <th>1</th>\n",
       "      <td>doe</td>\n",
       "      <td>4000.0</td>\n",
       "      <td>5.0</td>\n",
       "      <td>dc</td>\n",
       "      <td>25</td>\n",
       "      <td>Female</td>\n",
       "    </tr>\n",
       "    <tr>\n",
       "      <th>2</th>\n",
       "      <td>robert</td>\n",
       "      <td>8000.0</td>\n",
       "      <td>6.0</td>\n",
       "      <td>paris</td>\n",
       "      <td>27</td>\n",
       "      <td>Male</td>\n",
       "    </tr>\n",
       "    <tr>\n",
       "      <th>3</th>\n",
       "      <td>chris</td>\n",
       "      <td>9000.0</td>\n",
       "      <td>7.0</td>\n",
       "      <td>newyork</td>\n",
       "      <td>24</td>\n",
       "      <td>Female</td>\n",
       "    </tr>\n",
       "    <tr>\n",
       "      <th>4</th>\n",
       "      <td>unknown</td>\n",
       "      <td>3000.0</td>\n",
       "      <td>NaN</td>\n",
       "      <td>losvegas</td>\n",
       "      <td>35</td>\n",
       "      <td>Male</td>\n",
       "    </tr>\n",
       "    <tr>\n",
       "      <th>5</th>\n",
       "      <td>john</td>\n",
       "      <td>3000.0</td>\n",
       "      <td>4.0</td>\n",
       "      <td>losvegas</td>\n",
       "      <td>33</td>\n",
       "      <td>Female</td>\n",
       "    </tr>\n",
       "    <tr>\n",
       "      <th>6</th>\n",
       "      <td>evans</td>\n",
       "      <td>NaN</td>\n",
       "      <td>4.0</td>\n",
       "      <td>losvegas</td>\n",
       "      <td>31</td>\n",
       "      <td>Male</td>\n",
       "    </tr>\n",
       "    <tr>\n",
       "      <th>7</th>\n",
       "      <td>tom</td>\n",
       "      <td>3000.0</td>\n",
       "      <td>4.0</td>\n",
       "      <td>NaN</td>\n",
       "      <td>37</td>\n",
       "      <td>Female</td>\n",
       "    </tr>\n",
       "  </tbody>\n",
       "</table>\n",
       "</div>"
      ],
      "text/plain": [
       "      name  salary  exp      city  age  Gender\n",
       "0     john  3000.0  4.0  losvegas   30    Male\n",
       "1      doe  4000.0  5.0        dc   25  Female\n",
       "2   robert  8000.0  6.0     paris   27    Male\n",
       "3    chris  9000.0  7.0   newyork   24  Female\n",
       "4  unknown  3000.0  NaN  losvegas   35    Male\n",
       "5     john  3000.0  4.0  losvegas   33  Female\n",
       "6    evans     NaN  4.0  losvegas   31    Male\n",
       "7      tom  3000.0  4.0       NaN   37  Female"
      ]
     },
     "execution_count": 20,
     "metadata": {},
     "output_type": "execute_result"
    }
   ],
   "source": [
    "import pandas as pd\n",
    "\n",
    "df3 = pd.read_csv(\"employee.csv\")\n",
    "df3[\"name\"].fillna(\"unknown\", inplace=True)\n",
    "df3"
   ]
  },
  {
   "cell_type": "code",
   "execution_count": null,
   "id": "31309962-83bc-4966-99a4-0b28e2f4b75a",
   "metadata": {},
   "outputs": [],
   "source": [
    "# vedio 28.40 11-04-2025"
   ]
  }
 ],
 "metadata": {
  "kernelspec": {
   "display_name": "Python 3 (ipykernel)",
   "language": "python",
   "name": "python3"
  },
  "language_info": {
   "codemirror_mode": {
    "name": "ipython",
    "version": 3
   },
   "file_extension": ".py",
   "mimetype": "text/x-python",
   "name": "python",
   "nbconvert_exporter": "python",
   "pygments_lexer": "ipython3",
   "version": "3.13.2"
  }
 },
 "nbformat": 4,
 "nbformat_minor": 5
}

{
 "cells": [
  {
   "cell_type": "code",
   "execution_count": 16,
   "id": "9b650948-c53c-4938-a2ef-de89721a799e",
   "metadata": {},
   "outputs": [],
   "source": [
    "#07-04-2025\n",
    "#sqlwithpython(mysql)\n",
    "#mysqlandtkinter"
   ]
  },
  {
   "cell_type": "code",
   "execution_count": 2,
   "id": "f6d298cf-982e-4ff5-b3d1-749799e89e4f",
   "metadata": {},
   "outputs": [
    {
     "name": "stdout",
     "output_type": "stream",
     "text": [
      "Requirement already satisfied: mysql-connector-python in c:\\users\\senthil kumar\\appdata\\local\\programs\\python\\python313\\lib\\site-packages (9.2.0)\n",
      "Note: you may need to restart the kernel to use updated packages.\n"
     ]
    },
    {
     "name": "stderr",
     "output_type": "stream",
     "text": [
      "\n",
      "[notice] A new release of pip is available: 24.3.1 -> 25.0.1\n",
      "[notice] To update, run: python.exe -m pip install --upgrade pip\n"
     ]
    }
   ],
   "source": [
    "pip install mysql-connector-python"
   ]
  },
  {
   "cell_type": "code",
   "execution_count": 3,
   "id": "6026e076-2ec3-4795-946b-0b3dd5b32349",
   "metadata": {},
   "outputs": [],
   "source": [
    "from mysql import connector\n",
    "\n",
    "connection = connector.connect(user = \"root\" , password = \"admin\", host = \"localhost\", db = \"salesDB\")"
   ]
  },
  {
   "cell_type": "code",
   "execution_count": 4,
   "id": "c56cee18-6a79-4062-b184-68d46372dcae",
   "metadata": {},
   "outputs": [
    {
     "name": "stdout",
     "output_type": "stream",
     "text": [
      "('customers',)\n",
      "('orderdetails',)\n",
      "('orders',)\n",
      "('products',)\n"
     ]
    }
   ],
   "source": [
    "from mysql import connector\n",
    "\n",
    "connection = connector.connect(user = \"root\" , password = \"admin\", host = \"localhost\", db = \"salesDB\")\n",
    "\n",
    "cursor = connection.cursor()\n",
    "cursor.execute(\"show tables\")\n",
    "tables = cursor.fetchall()\n",
    "\n",
    "for table in tables:\n",
    "    print(table)"
   ]
  },
  {
   "cell_type": "code",
   "execution_count": 14,
   "id": "416a7ab7-5b15-4c24-a91b-5fcd44b4d076",
   "metadata": {},
   "outputs": [
    {
     "name": "stdout",
     "output_type": "stream",
     "text": [
      "(1, 'John', 'Doe', 'john.doe@example.com', '123-456-7890', '123 Main St')\n",
      "(2, 'Jane', 'Smith', 'jane.smith@example.com', '987-654-3210', '456 Elm St')\n",
      "(3, 'Alice', 'Johnson', 'alice.johnson@example.com', '111-222-3333', '789 Oak St')\n",
      "(4, 'Bob', 'Brown', 'bob.brown@example.com', '444-555-6666', '101 Pine St')\n",
      "(5, 'Charlie', 'Davis', 'charlie.davis@example.com', '555-666-7777', '202 Birch St')\n",
      "(6, 'Diana', 'Miller', 'diana.miller@example.com', '666-777-8888', '303 Cedar St')\n",
      "(7, 'Eve', 'Wilson', 'eve.wilson@example.com', '777-888-9999', '404 Maple St')\n",
      "(8, 'Frank', 'Taylor', 'frank.taylor@example.com', '888-999-0000', '505 Willow St')\n",
      "(9, 'Grace', 'Moore', 'grace.moore@example.com', '999-000-1111', '606 Palm St')\n",
      "(10, 'Harry', 'Anderson', 'harry.anderson@example.com', '111-000-2222', '707 Redwood St')\n",
      "(11, 'Sam', 'Prasad', 'sam@gmail.com', '943-234-1080', '123 sub St')\n",
      "(12, 'Thiru', 'Lok', 'Thiru@gmail.com', '987-897-1090', '106,mettukuppam Road')\n"
     ]
    }
   ],
   "source": [
    "from mysql import connector\n",
    "\n",
    "connection = connector.connect(user = \"root\" , password = \"admin\", host = \"localhost\", db = \"salesDB\")\n",
    "\n",
    "cursor = connection.cursor()\n",
    "cursor.execute(\"select * from customers\")\n",
    "records = cursor.fetchall()\n",
    "\n",
    "for i in records:\n",
    "    print(i)"
   ]
  },
  {
   "cell_type": "code",
   "execution_count": 8,
   "id": "6e7a6a25-d37c-4f24-a6a9-f8794af6de46",
   "metadata": {},
   "outputs": [],
   "source": [
    "from mysql import connector\n",
    "\n",
    "connection = connector.connect(user = \"root\" , password = \"admin\", host = \"localhost\", db = \"salesDB\")\n",
    "\n",
    "cursor = connection.cursor()\n",
    "cursor.execute(\"insert into customers(first_name, last_name, email, phone, address) values('Sam','Prasad', 'sam@gmail.com','943-234-1080','123 sub St')\")\n",
    "\n",
    "connection.commit()"
   ]
  },
  {
   "cell_type": "code",
   "execution_count": 15,
   "id": "6986bafd-d80b-4f9f-874c-b754e6d5da71",
   "metadata": {},
   "outputs": [],
   "source": [
    "import tkinter as tk\n",
    "from tkinter import messagebox\n",
    "import mysql.connector\n",
    "\n",
    "def connect_db():\n",
    "    try:\n",
    "        conn = mysql.connector.connect(\n",
    "            user = \"root\" , \n",
    "            password = \"admin\", \n",
    "            host = \"localhost\", \n",
    "            db = \"salesDB\"\n",
    "        )\n",
    "        return conn\n",
    "    except mysql.connector.Error as e:\n",
    "        messagebox.showerror(\"Database Error\", f\"Error Connecting to the database: \\n{e}\")\n",
    "        return None\n",
    "\n",
    " \n",
    "def insert_values():\n",
    "    first_name = entry_fname.get()\n",
    "    last_name = entry_lname.get()\n",
    "    email = entry_email.get()\n",
    "    phone = entry_phone.get()\n",
    "    address = entry_address.get()\n",
    "    \n",
    "    if first_name and last_name and email and phone and address:\n",
    "        conn = connect_db()\n",
    "        if conn:\n",
    "            cursor = conn.cursor()\n",
    "            cursor.execute(\"INSERT INTO customers(first_name, last_name, email, phone, address) VALUES (%s, %s, %s, %s, %s)\", \n",
    "                           (first_name, last_name, email, phone, address))\n",
    "            conn.commit()\n",
    "            cursor.close()\n",
    "            conn.close()\n",
    "            messagebox.showinfo(\"Success\", \"Values added successfully!\")\n",
    "            clear_entries()\n",
    "            fetch_values()\n",
    "    else:\n",
    "        messagebox.showwarning(\"Input Error\", \"Please enter all fields!\")\n",
    "\n",
    "def fetch_values():\n",
    "    conn = connect_db()\n",
    "    if conn:\n",
    "        cursor = conn.cursor()\n",
    "        cursor.execute(\"SELECT * FROM customers\")\n",
    "        rows = cursor.fetchall()\n",
    "        cursor.close()\n",
    "        conn.close()\n",
    "\n",
    "        listbox_jobs.delete(0, tk.END)  \n",
    "        for row in rows:\n",
    "            listbox_jobs.insert(tk.END, f\"First_Name: {row[0]} | Last_Name: {row[1]} | Email: {row[2]} | Phone: {row[3]} | Address: {row[4]}\")\n",
    "\n",
    "\n",
    "def clear_entries():\n",
    "    entry_fname.delete(0, tk.END)\n",
    "    entry_lname.delete(0, tk.END)\n",
    "    entry_email.delete(0, tk.END)\n",
    "    entry_phone.delete(0, tk.END)\n",
    "    entry_address.delete(0, tk.END)\n",
    "\n",
    "\n",
    "root = tk.Tk()\n",
    "root.title(\"Database Management GUI\")\n",
    "root.geometry(\"450x500\")\n",
    "\n",
    "tk.Label(root, text=\"First_Name:\").pack()\n",
    "entry_fname = tk.Entry(root)\n",
    "entry_fname.pack()\n",
    "\n",
    "tk.Label(root, text=\"Last_Name:\").pack()\n",
    "entry_lname = tk.Entry(root)\n",
    "entry_lname.pack()\n",
    "\n",
    "tk.Label(root, text=\"Email:\").pack()\n",
    "entry_email = tk.Entry(root)\n",
    "entry_email.pack()\n",
    "\n",
    "tk.Label(root, text=\"Phone:\").pack()\n",
    "entry_phone = tk.Entry(root)\n",
    "entry_phone.pack()\n",
    "\n",
    "tk.Label(root, text=\"Address:\").pack()\n",
    "entry_address = tk.Entry(root)\n",
    "entry_address.pack()\n",
    "\n",
    "tk.Button(root, text=\"Add Values\", command=insert_values).pack(pady=5)\n",
    "\n",
    "tk.Label(root, text=\"Values List:\").pack()\n",
    "listbox_jobs = tk.Listbox(root, width=70, height=10)\n",
    "listbox_jobs.pack()\n",
    "\n",
    "tk.Button(root, text=\"Refresh List\", command=fetch_values).pack(pady=5)\n",
    "\n",
    "\n",
    "fetch_values()\n",
    "\n",
    "root.mainloop()\n",
    "\n",
    "\n",
    "        "
   ]
  }
 ],
 "metadata": {
  "kernelspec": {
   "display_name": "Python 3 (ipykernel)",
   "language": "python",
   "name": "python3"
  },
  "language_info": {
   "codemirror_mode": {
    "name": "ipython",
    "version": 3
   },
   "file_extension": ".py",
   "mimetype": "text/x-python",
   "name": "python",
   "nbconvert_exporter": "python",
   "pygments_lexer": "ipython3",
   "version": "3.13.2"
  }
 },
 "nbformat": 4,
 "nbformat_minor": 5
}

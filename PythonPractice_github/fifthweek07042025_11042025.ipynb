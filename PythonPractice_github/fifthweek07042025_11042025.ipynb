{
 "cells": [
  {
   "cell_type": "code",
   "execution_count": 16,
   "id": "9b650948-c53c-4938-a2ef-de89721a799e",
   "metadata": {},
   "outputs": [],
   "source": [
    "#07-04-2025\n",
    "#sqlwithpython(mysql)\n",
    "#mysqlandtkinter"
   ]
  },
  {
   "cell_type": "code",
   "execution_count": 2,
   "id": "f6d298cf-982e-4ff5-b3d1-749799e89e4f",
   "metadata": {},
   "outputs": [
    {
     "name": "stdout",
     "output_type": "stream",
     "text": [
      "Requirement already satisfied: mysql-connector-python in c:\\users\\senthil kumar\\appdata\\local\\programs\\python\\python313\\lib\\site-packages (9.2.0)\n",
      "Note: you may need to restart the kernel to use updated packages.\n"
     ]
    },
    {
     "name": "stderr",
     "output_type": "stream",
     "text": [
      "\n",
      "[notice] A new release of pip is available: 24.3.1 -> 25.0.1\n",
      "[notice] To update, run: python.exe -m pip install --upgrade pip\n"
     ]
    }
   ],
   "source": [
    "pip install mysql-connector-python"
   ]
  },
  {
   "cell_type": "code",
   "execution_count": 3,
   "id": "6026e076-2ec3-4795-946b-0b3dd5b32349",
   "metadata": {},
   "outputs": [],
   "source": [
    "from mysql import connector\n",
    "\n",
    "connection = connector.connect(user = \"root\" , password = \"admin\", host = \"localhost\", db = \"salesDB\")"
   ]
  },
  {
   "cell_type": "code",
   "execution_count": 4,
   "id": "c56cee18-6a79-4062-b184-68d46372dcae",
   "metadata": {},
   "outputs": [
    {
     "name": "stdout",
     "output_type": "stream",
     "text": [
      "('customers',)\n",
      "('orderdetails',)\n",
      "('orders',)\n",
      "('products',)\n"
     ]
    }
   ],
   "source": [
    "from mysql import connector\n",
    "\n",
    "connection = connector.connect(user = \"root\" , password = \"admin\", host = \"localhost\", db = \"salesDB\")\n",
    "\n",
    "cursor = connection.cursor()\n",
    "cursor.execute(\"show tables\")\n",
    "tables = cursor.fetchall()\n",
    "\n",
    "for table in tables:\n",
    "    print(table)"
   ]
  },
  {
   "cell_type": "code",
   "execution_count": 14,
   "id": "416a7ab7-5b15-4c24-a91b-5fcd44b4d076",
   "metadata": {},
   "outputs": [
    {
     "name": "stdout",
     "output_type": "stream",
     "text": [
      "(1, 'John', 'Doe', 'john.doe@example.com', '123-456-7890', '123 Main St')\n",
      "(2, 'Jane', 'Smith', 'jane.smith@example.com', '987-654-3210', '456 Elm St')\n",
      "(3, 'Alice', 'Johnson', 'alice.johnson@example.com', '111-222-3333', '789 Oak St')\n",
      "(4, 'Bob', 'Brown', 'bob.brown@example.com', '444-555-6666', '101 Pine St')\n",
      "(5, 'Charlie', 'Davis', 'charlie.davis@example.com', '555-666-7777', '202 Birch St')\n",
      "(6, 'Diana', 'Miller', 'diana.miller@example.com', '666-777-8888', '303 Cedar St')\n",
      "(7, 'Eve', 'Wilson', 'eve.wilson@example.com', '777-888-9999', '404 Maple St')\n",
      "(8, 'Frank', 'Taylor', 'frank.taylor@example.com', '888-999-0000', '505 Willow St')\n",
      "(9, 'Grace', 'Moore', 'grace.moore@example.com', '999-000-1111', '606 Palm St')\n",
      "(10, 'Harry', 'Anderson', 'harry.anderson@example.com', '111-000-2222', '707 Redwood St')\n",
      "(11, 'Sam', 'Prasad', 'sam@gmail.com', '943-234-1080', '123 sub St')\n",
      "(12, 'Thiru', 'Lok', 'Thiru@gmail.com', '987-897-1090', '106,mettukuppam Road')\n"
     ]
    }
   ],
   "source": [
    "from mysql import connector\n",
    "\n",
    "connection = connector.connect(user = \"root\" , password = \"admin\", host = \"localhost\", db = \"salesDB\")\n",
    "\n",
    "cursor = connection.cursor()\n",
    "cursor.execute(\"select * from customers\")\n",
    "records = cursor.fetchall()\n",
    "\n",
    "for i in records:\n",
    "    print(i)"
   ]
  },
  {
   "cell_type": "code",
   "execution_count": 8,
   "id": "6e7a6a25-d37c-4f24-a6a9-f8794af6de46",
   "metadata": {},
   "outputs": [],
   "source": [
    "from mysql import connector\n",
    "\n",
    "connection = connector.connect(user = \"root\" , password = \"admin\", host = \"localhost\", db = \"salesDB\")\n",
    "\n",
    "cursor = connection.cursor()\n",
    "cursor.execute(\"insert into customers(first_name, last_name, email, phone, address) values('Sam','Prasad', 'sam@gmail.com','943-234-1080','123 sub St')\")\n",
    "\n",
    "connection.commit()"
   ]
  },
  {
   "cell_type": "code",
   "execution_count": 15,
   "id": "6986bafd-d80b-4f9f-874c-b754e6d5da71",
   "metadata": {},
   "outputs": [],
   "source": [
    "import tkinter as tk\n",
    "from tkinter import messagebox\n",
    "import mysql.connector\n",
    "\n",
    "def connect_db():\n",
    "    try:\n",
    "        conn = mysql.connector.connect(\n",
    "            user = \"root\" , \n",
    "            password = \"admin\", \n",
    "            host = \"localhost\", \n",
    "            db = \"salesDB\"\n",
    "        )\n",
    "        return conn\n",
    "    except mysql.connector.Error as e:\n",
    "        messagebox.showerror(\"Database Error\", f\"Error Connecting to the database: \\n{e}\")\n",
    "        return None\n",
    "\n",
    " \n",
    "def insert_values():\n",
    "    first_name = entry_fname.get()\n",
    "    last_name = entry_lname.get()\n",
    "    email = entry_email.get()\n",
    "    phone = entry_phone.get()\n",
    "    address = entry_address.get()\n",
    "    \n",
    "    if first_name and last_name and email and phone and address:\n",
    "        conn = connect_db()\n",
    "        if conn:\n",
    "            cursor = conn.cursor()\n",
    "            cursor.execute(\"INSERT INTO customers(first_name, last_name, email, phone, address) VALUES (%s, %s, %s, %s, %s)\", \n",
    "                           (first_name, last_name, email, phone, address))\n",
    "            conn.commit()\n",
    "            cursor.close()\n",
    "            conn.close()\n",
    "            messagebox.showinfo(\"Success\", \"Values added successfully!\")\n",
    "            clear_entries()\n",
    "            fetch_values()\n",
    "    else:\n",
    "        messagebox.showwarning(\"Input Error\", \"Please enter all fields!\")\n",
    "\n",
    "def fetch_values():\n",
    "    conn = connect_db()\n",
    "    if conn:\n",
    "        cursor = conn.cursor()\n",
    "        cursor.execute(\"SELECT * FROM customers\")\n",
    "        rows = cursor.fetchall()\n",
    "        cursor.close()\n",
    "        conn.close()\n",
    "\n",
    "        listbox_jobs.delete(0, tk.END)  \n",
    "        for row in rows:\n",
    "            listbox_jobs.insert(tk.END, f\"First_Name: {row[0]} | Last_Name: {row[1]} | Email: {row[2]} | Phone: {row[3]} | Address: {row[4]}\")\n",
    "\n",
    "\n",
    "def clear_entries():\n",
    "    entry_fname.delete(0, tk.END)\n",
    "    entry_lname.delete(0, tk.END)\n",
    "    entry_email.delete(0, tk.END)\n",
    "    entry_phone.delete(0, tk.END)\n",
    "    entry_address.delete(0, tk.END)\n",
    "\n",
    "\n",
    "root = tk.Tk()\n",
    "root.title(\"Database Management GUI\")\n",
    "root.geometry(\"450x500\")\n",
    "\n",
    "tk.Label(root, text=\"First_Name:\").pack()\n",
    "entry_fname = tk.Entry(root)\n",
    "entry_fname.pack()\n",
    "\n",
    "tk.Label(root, text=\"Last_Name:\").pack()\n",
    "entry_lname = tk.Entry(root)\n",
    "entry_lname.pack()\n",
    "\n",
    "tk.Label(root, text=\"Email:\").pack()\n",
    "entry_email = tk.Entry(root)\n",
    "entry_email.pack()\n",
    "\n",
    "tk.Label(root, text=\"Phone:\").pack()\n",
    "entry_phone = tk.Entry(root)\n",
    "entry_phone.pack()\n",
    "\n",
    "tk.Label(root, text=\"Address:\").pack()\n",
    "entry_address = tk.Entry(root)\n",
    "entry_address.pack()\n",
    "\n",
    "tk.Button(root, text=\"Add Values\", command=insert_values).pack(pady=5)\n",
    "\n",
    "tk.Label(root, text=\"Values List:\").pack()\n",
    "listbox_jobs = tk.Listbox(root, width=70, height=10)\n",
    "listbox_jobs.pack()\n",
    "\n",
    "tk.Button(root, text=\"Refresh List\", command=fetch_values).pack(pady=5)\n",
    "\n",
    "\n",
    "fetch_values()\n",
    "\n",
    "root.mainloop()\n",
    "\n",
    "\n",
    "        "
   ]
  },
  {
   "cell_type": "code",
   "execution_count": null,
   "id": "bb6e7a2b-0ca6-46a4-b192-3d877dc031c7",
   "metadata": {},
   "outputs": [],
   "source": [
    "# 08-04-2025\n",
    "\n",
    "#dateandtime \n",
    "# threading"
   ]
  },
  {
   "cell_type": "code",
   "execution_count": 1,
   "id": "3c3ca0d7-ff72-4c94-ae25-1f07d1cfa639",
   "metadata": {},
   "outputs": [
    {
     "data": {
      "text/plain": [
       "datetime.datetime(2025, 4, 9, 18, 44, 26, 864427)"
      ]
     },
     "execution_count": 1,
     "metadata": {},
     "output_type": "execute_result"
    }
   ],
   "source": [
    "from datetime import datetime\n",
    "\n",
    "now = datetime.now()\n",
    "\n",
    "now"
   ]
  },
  {
   "cell_type": "code",
   "execution_count": 2,
   "id": "573bb81d-97db-4ad3-aea4-15ab5dfd4335",
   "metadata": {},
   "outputs": [
    {
     "data": {
      "text/plain": [
       "2025"
      ]
     },
     "execution_count": 2,
     "metadata": {},
     "output_type": "execute_result"
    }
   ],
   "source": [
    "now.year"
   ]
  },
  {
   "cell_type": "code",
   "execution_count": 3,
   "id": "4ca87cda-9ffa-49d3-a4a8-1a8f755be3c5",
   "metadata": {},
   "outputs": [
    {
     "data": {
      "text/plain": [
       "4"
      ]
     },
     "execution_count": 3,
     "metadata": {},
     "output_type": "execute_result"
    }
   ],
   "source": [
    "now.month"
   ]
  },
  {
   "cell_type": "code",
   "execution_count": 4,
   "id": "8918944a-0255-48e9-91b2-3ff766c0f05c",
   "metadata": {},
   "outputs": [
    {
     "data": {
      "text/plain": [
       "9"
      ]
     },
     "execution_count": 4,
     "metadata": {},
     "output_type": "execute_result"
    }
   ],
   "source": [
    "now.day"
   ]
  },
  {
   "cell_type": "code",
   "execution_count": 8,
   "id": "1feaa04f-eca3-4653-9df5-463be8b548ee",
   "metadata": {},
   "outputs": [
    {
     "data": {
      "text/plain": [
       "'the year 25 month 04 date 09'"
      ]
     },
     "execution_count": 8,
     "metadata": {},
     "output_type": "execute_result"
    }
   ],
   "source": [
    "now.strftime(\"the year %y month %m date %d\")"
   ]
  },
  {
   "cell_type": "code",
   "execution_count": 9,
   "id": "dbb5a669-66ec-4cd5-8862-f285f3e73b55",
   "metadata": {},
   "outputs": [
    {
     "data": {
      "text/plain": [
       "'Wednesday'"
      ]
     },
     "execution_count": 9,
     "metadata": {},
     "output_type": "execute_result"
    }
   ],
   "source": [
    "now.strftime(\"%A\")"
   ]
  },
  {
   "cell_type": "code",
   "execution_count": 10,
   "id": "66fc3e9e-27d6-4418-a77d-bf4322030654",
   "metadata": {},
   "outputs": [
    {
     "data": {
      "text/plain": [
       "'April'"
      ]
     },
     "execution_count": 10,
     "metadata": {},
     "output_type": "execute_result"
    }
   ],
   "source": [
    "now.strftime(\"%B\")"
   ]
  },
  {
   "cell_type": "code",
   "execution_count": 12,
   "id": "9d69262f-5480-4d1b-bf30-0a09b862426b",
   "metadata": {},
   "outputs": [
    {
     "data": {
      "text/plain": [
       "datetime.timedelta(days=118)"
      ]
     },
     "execution_count": 12,
     "metadata": {},
     "output_type": "execute_result"
    }
   ],
   "source": [
    "from datetime import date\n",
    "\n",
    "date1 = date(2024,12,12)\n",
    "date2 = date(2025,4,9)\n",
    "\n",
    "date2-date1"
   ]
  },
  {
   "cell_type": "code",
   "execution_count": 14,
   "id": "1b33d074-4387-404b-bec0-fddc11d3a40e",
   "metadata": {},
   "outputs": [
    {
     "data": {
      "text/plain": [
       "'Saturday'"
      ]
     },
     "execution_count": 14,
     "metadata": {},
     "output_type": "execute_result"
    }
   ],
   "source": [
    "date = datetime(2025,4,12)\n",
    "\n",
    "date.strftime(\"%A\")"
   ]
  },
  {
   "cell_type": "code",
   "execution_count": 23,
   "id": "068dfcfd-144b-40b1-b0dd-9475a0c082de",
   "metadata": {},
   "outputs": [
    {
     "data": {
      "text/plain": [
       "datetime.datetime(2025, 7, 8, 18, 51, 56, 679139)"
      ]
     },
     "execution_count": 23,
     "metadata": {},
     "output_type": "execute_result"
    }
   ],
   "source": [
    "#adding days to a date\n",
    "\n",
    "from datetime import timedelta\n",
    "\n",
    "today = datetime.today()\n",
    "\n",
    "upcoming90 = timedelta(days =90)\n",
    "\n",
    "today+upcoming90"
   ]
  },
  {
   "cell_type": "code",
   "execution_count": 24,
   "id": "abe3a520-6544-4a2d-99f9-aaeacd950569",
   "metadata": {},
   "outputs": [
    {
     "data": {
      "text/plain": [
       "2025"
      ]
     },
     "execution_count": 24,
     "metadata": {},
     "output_type": "execute_result"
    }
   ],
   "source": [
    "import time\n",
    "\n",
    "lt = time.localtime()\n",
    "lt.tm_year"
   ]
  },
  {
   "cell_type": "code",
   "execution_count": 29,
   "id": "e0cab2b4-7038-40b1-87b9-287b13f9fc18",
   "metadata": {},
   "outputs": [
    {
     "data": {
      "text/plain": [
       "4"
      ]
     },
     "execution_count": 29,
     "metadata": {},
     "output_type": "execute_result"
    }
   ],
   "source": [
    "lt.tm_mon"
   ]
  },
  {
   "cell_type": "code",
   "execution_count": 30,
   "id": "38bc092b-53aa-4512-9e07-f7152233a298",
   "metadata": {},
   "outputs": [
    {
     "data": {
      "text/plain": [
       "'18: 54: 33'"
      ]
     },
     "execution_count": 30,
     "metadata": {},
     "output_type": "execute_result"
    }
   ],
   "source": [
    "time.strftime(\"%H: %M: %S\")"
   ]
  },
  {
   "cell_type": "code",
   "execution_count": null,
   "id": "b74a1ac2-5cf3-4984-b6ba-e44fd7e99f24",
   "metadata": {},
   "outputs": [],
   "source": [
    "time.strftime(\"%H: %M: %S\", lt)"
   ]
  },
  {
   "cell_type": "code",
   "execution_count": 34,
   "id": "8b31deab-ca28-4e7a-bfc0-4f3bc5cc872e",
   "metadata": {},
   "outputs": [
    {
     "data": {
      "text/plain": [
       "1744205216.9187362"
      ]
     },
     "execution_count": 34,
     "metadata": {},
     "output_type": "execute_result"
    }
   ],
   "source": [
    "obj = time.time()\n",
    "obj"
   ]
  },
  {
   "cell_type": "code",
   "execution_count": 35,
   "id": "1e82da75-96dc-48de-8fb8-f94d2da6634c",
   "metadata": {},
   "outputs": [
    {
     "name": "stdout",
     "output_type": "stream",
     "text": [
      "Wed Apr  9 18:56:56 2025\n"
     ]
    }
   ],
   "source": [
    "print(time.ctime(obj))"
   ]
  },
  {
   "cell_type": "code",
   "execution_count": 38,
   "id": "1471fde3-d36d-4795-9ffd-69680b498a8e",
   "metadata": {},
   "outputs": [
    {
     "name": "stdout",
     "output_type": "stream",
     "text": [
      "19: 01: 18\n"
     ]
    }
   ],
   "source": [
    "#digital clock\n",
    "\n",
    "import time\n",
    "\n",
    "while True:\n",
    "    laptop_time = time.localtime()\n",
    "\n",
    "    print(time.strftime(\"%H: %M: %S\",laptop_time))\n",
    "    time.sleep(3)\n",
    "    break"
   ]
  },
  {
   "cell_type": "code",
   "execution_count": 39,
   "id": "0a350497-db61-4de1-beb7-ff5194af069e",
   "metadata": {},
   "outputs": [
    {
     "name": "stdout",
     "output_type": "stream",
     "text": [
      "3.5316574573516846\n"
     ]
    }
   ],
   "source": [
    "#calculating the execution time of a program\n",
    "\n",
    "st = time.time()\n",
    "\n",
    "for i in range(100000000):\n",
    "    pass\n",
    "\n",
    "et = time.time()\n",
    "\n",
    "print(et - st)"
   ]
  },
  {
   "cell_type": "code",
   "execution_count": 41,
   "id": "42c4197d-a137-453b-a07c-d70a8c76ec61",
   "metadata": {},
   "outputs": [
    {
     "name": "stdout",
     "output_type": "stream",
     "text": [
      "Student number is  0\n",
      "Student number is  1\n",
      "Student number is  2\n",
      "Student number is  3\n",
      "Student number is  4\n",
      "Student number is  5\n",
      "Student number is  6\n",
      "Student number is  7\n",
      "Student number is  8\n",
      "Student number is  9\n",
      "Student mark is  300\n",
      "Student mark is  310\n",
      "Student mark is  320\n",
      "Student mark is  330\n",
      "Student mark is  340\n",
      "Student mark is  350\n",
      "Student mark is  360\n",
      "Student mark is  370\n",
      "Student mark is  380\n",
      "Student mark is  390\n"
     ]
    }
   ],
   "source": [
    "def student_count():\n",
    "    for i in range(10):\n",
    "        print(\"Student number is \",i)\n",
    "        time.sleep(1)\n",
    "def student_mark():\n",
    "    for i in range(300,400, 10):\n",
    "        print(\"Student mark is \",i)\n",
    "        time.sleep(1)\n",
    "student_count()\n",
    "student_mark()"
   ]
  },
  {
   "cell_type": "code",
   "execution_count": 53,
   "id": "6fa13c8d-e6ba-44e5-8e3d-8c274ceb9a5e",
   "metadata": {},
   "outputs": [
    {
     "name": "stdout",
     "output_type": "stream",
     "text": [
      "Student number is  0\n",
      "Student mark is  300\n",
      "Student number is  1\n",
      "Student mark is  310\n",
      "Student mark is Student number is  2\n",
      " 320\n",
      "Student mark is Student number is  3\n",
      " 330\n",
      "Student number is  4\n",
      "Student mark is  340\n",
      "Student number is Student mark is  350\n",
      " 5\n",
      "Student mark is  360\n",
      "Student number is  6\n",
      "Student mark is  370\n",
      "Student number is  7\n",
      "Student number is Student mark is  380\n",
      " 8\n",
      "Student number is Student mark is  390\n",
      " 9\n",
      "10.017608404159546\n"
     ]
    }
   ],
   "source": [
    "import threading\n",
    "\n",
    "st = time.time()\n",
    "\n",
    "def student_count():\n",
    "    for i in range(10):\n",
    "        print(\"Student number is \",i)\n",
    "        time.sleep(1)\n",
    "def student_mark():\n",
    "    for i in range(300,400, 10):\n",
    "        print(\"Student mark is \",i)\n",
    "        time.sleep(1) \n",
    "        \n",
    "t1 = threading.Thread(target = student_count)\n",
    "t2 = threading.Thread(target = student_mark)\n",
    "\n",
    "\n",
    "\n",
    "t1.start() \n",
    "t2.start()\n",
    "t1.join()\n",
    "t2.join()\n",
    "\n",
    "\n",
    "et = time.time()\n",
    "print(et - st)\n",
    "\n"
   ]
  },
  {
   "cell_type": "code",
   "execution_count": null,
   "id": "9262fba4-35bc-49f8-92ae-ce5e74a20beb",
   "metadata": {},
   "outputs": [],
   "source": [
    "#09-04-2025\n",
    "#regularexpressionmodule"
   ]
  },
  {
   "cell_type": "code",
   "execution_count": 2,
   "id": "9ddd5e25-0a96-403d-a76e-b43e8683cd06",
   "metadata": {},
   "outputs": [
    {
     "name": "stdout",
     "output_type": "stream",
     "text": [
      "['python']\n"
     ]
    }
   ],
   "source": [
    "import re\n",
    "\n",
    "txt = \"python is interpretted and dynamic programming language and also platform independent\"\n",
    "\n",
    "print(re.findall(\"^python\", txt))"
   ]
  },
  {
   "cell_type": "code",
   "execution_count": 5,
   "id": "f7a64d34-ab0c-4e48-82d9-040ec937a8df",
   "metadata": {},
   "outputs": [
    {
     "name": "stdout",
     "output_type": "stream",
     "text": [
      "['independent']\n"
     ]
    }
   ],
   "source": [
    "import re\n",
    "\n",
    "txt = \"python is interpretted and dynamic programming language and also platform independent\"\n",
    "\n",
    "print(re.findall(\"independent$\", txt))"
   ]
  },
  {
   "cell_type": "code",
   "execution_count": 6,
   "id": "f0e50c06-c7f0-4e45-bb49-2390c990387e",
   "metadata": {},
   "outputs": [
    {
     "name": "stdout",
     "output_type": "stream",
     "text": [
      "['and', 'an', 'and']\n"
     ]
    }
   ],
   "source": [
    "import re\n",
    "\n",
    "txt = \"python is interpretted and dynamic programming language and also platform independent\"\n",
    "\n",
    "print(re.findall(\"and*\", txt))"
   ]
  },
  {
   "cell_type": "code",
   "execution_count": 11,
   "id": "ed52fbd0-1f06-42c2-95ac-ea9dbf4bc622",
   "metadata": {},
   "outputs": [
    {
     "name": "stdout",
     "output_type": "stream",
     "text": [
      "['ett']\n"
     ]
    }
   ],
   "source": [
    "import re\n",
    "\n",
    "txt = \"python is interpretted and dynamic programming language and also platform independent\"\n",
    "\n",
    "print(re.findall(\"et{2}\", txt))"
   ]
  },
  {
   "cell_type": "code",
   "execution_count": 12,
   "id": "dc1cb1de-9f63-4115-91af-685200f144ce",
   "metadata": {},
   "outputs": [
    {
     "name": "stdout",
     "output_type": "stream",
     "text": [
      "['and dynamic programming language and also platform independent']\n"
     ]
    }
   ],
   "source": [
    "import re\n",
    "\n",
    "txt = \"python is interpretted and dynamic programming language and also platform independent\"\n",
    "\n",
    "print(re.findall(\"and.*\", txt))"
   ]
  },
  {
   "cell_type": "code",
   "execution_count": 13,
   "id": "171882d4-5449-4c36-ac90-5f23f8479cc8",
   "metadata": {},
   "outputs": [
    {
     "name": "stdout",
     "output_type": "stream",
     "text": [
      "['e', 'e', 'e', 'd', 'a', 'd', 'd', 'a', 'c', 'a', 'a', 'a', 'e', 'a', 'd', 'a', 'a', 'f', 'd', 'e', 'e', 'd', 'e']\n"
     ]
    }
   ],
   "source": [
    "import re\n",
    "\n",
    "txt = \"python is interpretted and dynamic programming language and also platform independent\"\n",
    "\n",
    "print(re.findall(\"[a-f]\", txt))"
   ]
  },
  {
   "cell_type": "code",
   "execution_count": 14,
   "id": "6e30109b-5f2a-4f3c-b92a-0bbe3f2772f9",
   "metadata": {},
   "outputs": [
    {
     "name": "stdout",
     "output_type": "stream",
     "text": [
      "['1', '2']\n"
     ]
    }
   ],
   "source": [
    "import re\n",
    "\n",
    "txt = \"1.python is interpretted and dynamic programming language and also 2.platform independent\"\n",
    "\n",
    "print(re.findall(\"[0-9]\", txt))"
   ]
  },
  {
   "cell_type": "code",
   "execution_count": 19,
   "id": "8e905279-e989-4f79-a89f-f33de2c2d98c",
   "metadata": {},
   "outputs": [
    {
     "name": "stdout",
     "output_type": "stream",
     "text": [
      "['11:00', '5:00', '6:00']\n"
     ]
    }
   ],
   "source": [
    "import re\n",
    "\n",
    "txt = \"11:00 am is best time to sleep and 5:00 am - 6:00 am is to wake up\"\n",
    "\n",
    "print(re.findall(\"[0-9]*[:][0-9]*\", txt))"
   ]
  },
  {
   "cell_type": "code",
   "execution_count": 22,
   "id": "b8956b65-4f22-4b0f-b0f9-8a4cb848962d",
   "metadata": {},
   "outputs": [
    {
     "name": "stdout",
     "output_type": "stream",
     "text": [
      "(25, 30)\n"
     ]
    }
   ],
   "source": [
    "import re\n",
    "\n",
    "txt = \"11:00 am is best time to sleep and 5:00 am - 6:00 am is to wake up\"\n",
    "\n",
    "print(re.search(\"sleep\", txt).span())"
   ]
  },
  {
   "cell_type": "code",
   "execution_count": 25,
   "id": "3f249161-27e3-48b3-b59a-95dd3be72c91",
   "metadata": {},
   "outputs": [
    {
     "name": "stdout",
     "output_type": "stream",
     "text": [
      "['11:00 am is best ', ' ', ' sleep and 5:00 am - 6:00 am is ', ' wake up']\n"
     ]
    }
   ],
   "source": [
    "import re\n",
    "\n",
    "txt = \"11:00 am is best time to sleep and 5:00 am - 6:00 am is to wake up\"\n",
    "\n",
    "print(re.split(r\"\\bt\\w*\", txt))"
   ]
  },
  {
   "cell_type": "code",
   "execution_count": 26,
   "id": "f4dc9a0a-13f2-4231-97ae-8184de0b6a00",
   "metadata": {},
   "outputs": [
    {
     "data": {
      "text/plain": [
       "['11:00 am is best ', ' ', ' sleep and 5:00 am - 6:00 am is ', ' wake up']"
      ]
     },
     "execution_count": 26,
     "metadata": {},
     "output_type": "execute_result"
    }
   ],
   "source": [
    "import re\n",
    "\n",
    "txt = \"11:00 am is best time to sleep and 5:00 am - 6:00 am is to wake up\"\n",
    "\n",
    "ans = re.split(r\"\\bt\\w*\", txt)\n",
    "\n",
    "ans"
   ]
  },
  {
   "cell_type": "code",
   "execution_count": 29,
   "id": "38b1d78c-2373-4536-aa2a-1155196e1ddc",
   "metadata": {},
   "outputs": [
    {
     "name": "stdout",
     "output_type": "stream",
     "text": [
      "['time', 'to', 'to']\n"
     ]
    }
   ],
   "source": [
    "import re\n",
    "\n",
    "txt = \"11:00 am is best time to sleep and 5:00 am - 6:00 am is to wake up\"\n",
    "\n",
    "print(re.findall(r\"\\bt\\w*\", txt))"
   ]
  },
  {
   "cell_type": "code",
   "execution_count": 30,
   "id": "67b3d1e5-c1db-4e97-a7b3-89a2f5ddbcce",
   "metadata": {},
   "outputs": [
    {
     "name": "stdout",
     "output_type": "stream",
     "text": [
      "['11:00', 'am', 'is', 'best', 'time', 'to', 'sleep', 'and', '5:00', 'am', '-', '6:00', 'am', 'is', 'to', 'wake', 'up']\n"
     ]
    },
    {
     "name": "stderr",
     "output_type": "stream",
     "text": [
      "<>:3: SyntaxWarning: invalid escape sequence '\\s'\n",
      "<>:3: SyntaxWarning: invalid escape sequence '\\s'\n",
      "C:\\Users\\Senthil Kumar\\AppData\\Local\\Temp\\ipykernel_14932\\2246038935.py:3: SyntaxWarning: invalid escape sequence '\\s'\n",
      "  print(re.split(\"\\s\", txt))\n"
     ]
    }
   ],
   "source": [
    "\n",
    "txt = \"11:00 am is best time to sleep and 5:00 am - 6:00 am is to wake up\"\n",
    "\n",
    "print(re.split(\"\\s\", txt))"
   ]
  },
  {
   "cell_type": "code",
   "execution_count": 32,
   "id": "c641eabd-3ca4-4436-adbc-346b02ec11ca",
   "metadata": {},
   "outputs": [
    {
     "name": "stdout",
     "output_type": "stream",
     "text": [
      "['11:00', 'am', 'is', 'best', 'time', 'to', 'sleep', 'and', '5:00', 'am', '-', '6:00', 'am', 'is', 'to', 'wake', 'up']\n"
     ]
    }
   ],
   "source": [
    "\n",
    "txt = \"11:00 am is best time to sleep and 5:00 am - 6:00 am is to wake up\"\n",
    "\n",
    "print(re.split(\" \", txt))"
   ]
  },
  {
   "cell_type": "code",
   "execution_count": 33,
   "id": "749cdc18-6b3c-4efa-b5ea-bd9ab48a7b56",
   "metadata": {},
   "outputs": [
    {
     "name": "stdout",
     "output_type": "stream",
     "text": [
      "11:00 am is best time to sleep and 5:00 am - 6:00 am is to woke up\n"
     ]
    }
   ],
   "source": [
    "\n",
    "txt = \"11:00 am is best time to sleep and 5:00 am - 6:00 am is to wake up\"\n",
    "\n",
    "print(re.sub(\"wake\",\"woke\", txt))"
   ]
  },
  {
   "cell_type": "code",
   "execution_count": null,
   "id": "27cec11e-06ae-4fb5-97f7-8d4821d816a6",
   "metadata": {},
   "outputs": [],
   "source": [
    "#10-04-2025\n",
    "# numpy library\n",
    "#basicsofnumpy"
   ]
  },
  {
   "cell_type": "code",
   "execution_count": 1,
   "id": "1ecd1849-02ee-4d42-a56a-5e7b4c1261fc",
   "metadata": {},
   "outputs": [
    {
     "data": {
      "text/plain": [
       "numpy.ndarray"
      ]
     },
     "execution_count": 1,
     "metadata": {},
     "output_type": "execute_result"
    }
   ],
   "source": [
    "import numpy as np\n",
    "\n",
    "arr1 = np.array([3,2,8,9])\n",
    "\n",
    "type(arr1)"
   ]
  },
  {
   "cell_type": "code",
   "execution_count": 2,
   "id": "8e780fbf-4ca3-4c8a-8d4c-c09315bc8878",
   "metadata": {},
   "outputs": [
    {
     "data": {
      "text/plain": [
       "1"
      ]
     },
     "execution_count": 2,
     "metadata": {},
     "output_type": "execute_result"
    }
   ],
   "source": [
    "arr1.ndim"
   ]
  },
  {
   "cell_type": "code",
   "execution_count": 3,
   "id": "77459b5d-cae1-4ea8-a582-341188571ae9",
   "metadata": {},
   "outputs": [
    {
     "data": {
      "text/plain": [
       "(4,)"
      ]
     },
     "execution_count": 3,
     "metadata": {},
     "output_type": "execute_result"
    }
   ],
   "source": [
    "arr1.shape"
   ]
  },
  {
   "cell_type": "code",
   "execution_count": 6,
   "id": "2eeba9ca-b296-4609-8048-b8e828ec6152",
   "metadata": {},
   "outputs": [
    {
     "data": {
      "text/plain": [
       "numpy.ndarray"
      ]
     },
     "execution_count": 6,
     "metadata": {},
     "output_type": "execute_result"
    }
   ],
   "source": [
    "arr1 = np.array([[3,2],[8,9]])\n",
    "type(arr1)"
   ]
  },
  {
   "cell_type": "code",
   "execution_count": 7,
   "id": "ea62c0af-8349-430e-bece-9d02a2087409",
   "metadata": {},
   "outputs": [
    {
     "data": {
      "text/plain": [
       "array([[3, 2],\n",
       "       [8, 9]])"
      ]
     },
     "execution_count": 7,
     "metadata": {},
     "output_type": "execute_result"
    }
   ],
   "source": [
    "arr1"
   ]
  },
  {
   "cell_type": "code",
   "execution_count": 8,
   "id": "1914baad-7a09-450f-a219-170821bc2053",
   "metadata": {},
   "outputs": [
    {
     "data": {
      "text/plain": [
       "2"
      ]
     },
     "execution_count": 8,
     "metadata": {},
     "output_type": "execute_result"
    }
   ],
   "source": [
    "arr1.ndim"
   ]
  },
  {
   "cell_type": "code",
   "execution_count": 9,
   "id": "304a584b-52d2-465d-9d2f-fd6aacf18c6f",
   "metadata": {},
   "outputs": [
    {
     "data": {
      "text/plain": [
       "(2, 2)"
      ]
     },
     "execution_count": 9,
     "metadata": {},
     "output_type": "execute_result"
    }
   ],
   "source": [
    "arr1.shape"
   ]
  },
  {
   "cell_type": "code",
   "execution_count": 10,
   "id": "7704967b-29a1-4117-b1c1-7a456684a062",
   "metadata": {},
   "outputs": [
    {
     "data": {
      "text/plain": [
       "np.int64(8)"
      ]
     },
     "execution_count": 10,
     "metadata": {},
     "output_type": "execute_result"
    }
   ],
   "source": [
    "arr1[1,0]"
   ]
  },
  {
   "cell_type": "code",
   "execution_count": 11,
   "id": "1ef09021-214a-4dc4-8115-1261551146cb",
   "metadata": {},
   "outputs": [
    {
     "data": {
      "text/plain": [
       "dtype('int64')"
      ]
     },
     "execution_count": 11,
     "metadata": {},
     "output_type": "execute_result"
    }
   ],
   "source": [
    "arr1.dtype"
   ]
  },
  {
   "cell_type": "code",
   "execution_count": 12,
   "id": "9d5770c1-aa90-480b-937c-e0368dd9e430",
   "metadata": {},
   "outputs": [
    {
     "data": {
      "text/plain": [
       "array([[4, 2, 3],\n",
       "       [5, 1, 8]])"
      ]
     },
     "execution_count": 12,
     "metadata": {},
     "output_type": "execute_result"
    }
   ],
   "source": [
    "arr2 = np.array([[4,2,3],[5,1,8]])\n",
    "arr2"
   ]
  },
  {
   "cell_type": "code",
   "execution_count": 13,
   "id": "1697b8de-ae84-41ef-a1c2-eb9d2afc67cf",
   "metadata": {},
   "outputs": [
    {
     "data": {
      "text/plain": [
       "np.int64(1)"
      ]
     },
     "execution_count": 13,
     "metadata": {},
     "output_type": "execute_result"
    }
   ],
   "source": [
    "arr2[1,1]"
   ]
  },
  {
   "cell_type": "code",
   "execution_count": 14,
   "id": "f572dfc5-caab-4751-9f01-bb0cc23c2f92",
   "metadata": {},
   "outputs": [
    {
     "data": {
      "text/plain": [
       "array([[3, 2],\n",
       "       [8, 9]])"
      ]
     },
     "execution_count": 14,
     "metadata": {},
     "output_type": "execute_result"
    }
   ],
   "source": [
    "arr1"
   ]
  },
  {
   "cell_type": "code",
   "execution_count": 15,
   "id": "638a3212-8196-4d2c-92ae-a7793120b884",
   "metadata": {},
   "outputs": [
    {
     "data": {
      "text/plain": [
       "array([2, 9])"
      ]
     },
     "execution_count": 15,
     "metadata": {},
     "output_type": "execute_result"
    }
   ],
   "source": [
    "arr1[:, 1]"
   ]
  },
  {
   "cell_type": "code",
   "execution_count": 16,
   "id": "3855e885-0482-447f-b659-5c5dd4173a33",
   "metadata": {},
   "outputs": [
    {
     "data": {
      "text/plain": [
       "array([3, 2])"
      ]
     },
     "execution_count": 16,
     "metadata": {},
     "output_type": "execute_result"
    }
   ],
   "source": [
    "arr1[0,:]"
   ]
  },
  {
   "cell_type": "code",
   "execution_count": 17,
   "id": "ca61aae7-6f4e-46de-8fc6-c254002b9e3c",
   "metadata": {},
   "outputs": [
    {
     "data": {
      "text/plain": [
       "array([[0., 0., 0.],\n",
       "       [0., 0., 0.],\n",
       "       [0., 0., 0.]])"
      ]
     },
     "execution_count": 17,
     "metadata": {},
     "output_type": "execute_result"
    }
   ],
   "source": [
    "np.zeros((3,3))"
   ]
  },
  {
   "cell_type": "code",
   "execution_count": 18,
   "id": "13751442-7106-4a8e-a4bf-81c858f274d2",
   "metadata": {},
   "outputs": [
    {
     "data": {
      "text/plain": [
       "array([[[0., 0., 0.],\n",
       "        [0., 0., 0.]],\n",
       "\n",
       "       [[0., 0., 0.],\n",
       "        [0., 0., 0.]]])"
      ]
     },
     "execution_count": 18,
     "metadata": {},
     "output_type": "execute_result"
    }
   ],
   "source": [
    "np.zeros((2,2,3))"
   ]
  },
  {
   "cell_type": "code",
   "execution_count": 19,
   "id": "d144a315-5485-46ed-96a5-012131ed21fa",
   "metadata": {},
   "outputs": [
    {
     "data": {
      "text/plain": [
       "array([[[[0., 0.],\n",
       "         [0., 0.]],\n",
       "\n",
       "        [[0., 0.],\n",
       "         [0., 0.]]],\n",
       "\n",
       "\n",
       "       [[[0., 0.],\n",
       "         [0., 0.]],\n",
       "\n",
       "        [[0., 0.],\n",
       "         [0., 0.]]]])"
      ]
     },
     "execution_count": 19,
     "metadata": {},
     "output_type": "execute_result"
    }
   ],
   "source": [
    "np.zeros((2,2,2,2))"
   ]
  },
  {
   "cell_type": "code",
   "execution_count": 20,
   "id": "bb6e1376-507c-42b3-8ece-f7df449e5e37",
   "metadata": {},
   "outputs": [
    {
     "data": {
      "text/plain": [
       "array([[1., 1.],\n",
       "       [1., 1.],\n",
       "       [1., 1.],\n",
       "       [1., 1.]])"
      ]
     },
     "execution_count": 20,
     "metadata": {},
     "output_type": "execute_result"
    }
   ],
   "source": [
    "np.ones((4,2))"
   ]
  },
  {
   "cell_type": "code",
   "execution_count": 21,
   "id": "ecb1f565-f280-44a7-b3ef-f053e6605f49",
   "metadata": {},
   "outputs": [
    {
     "data": {
      "text/plain": [
       "array([[[9, 9],\n",
       "        [9, 9]],\n",
       "\n",
       "       [[9, 9],\n",
       "        [9, 9]],\n",
       "\n",
       "       [[9, 9],\n",
       "        [9, 9]]])"
      ]
     },
     "execution_count": 21,
     "metadata": {},
     "output_type": "execute_result"
    }
   ],
   "source": [
    "np.full((3,2,2),9)"
   ]
  },
  {
   "cell_type": "code",
   "execution_count": 22,
   "id": "4e7afb68-12e2-4bac-9f8c-8403e1797f92",
   "metadata": {},
   "outputs": [
    {
     "data": {
      "text/plain": [
       "array([[0.272525  , 0.03823202],\n",
       "       [0.70077174, 0.28554128],\n",
       "       [0.56392152, 0.09563421]])"
      ]
     },
     "execution_count": 22,
     "metadata": {},
     "output_type": "execute_result"
    }
   ],
   "source": [
    "np.random.rand(3,2)"
   ]
  },
  {
   "cell_type": "code",
   "execution_count": 24,
   "id": "c271c66b-8aa1-46bd-8d28-a83f0ec69fcd",
   "metadata": {},
   "outputs": [
    {
     "data": {
      "text/plain": [
       "array([[16, 26, 27, 15],\n",
       "       [15, 18, 11, 19],\n",
       "       [ 8, 29, 18, 28]], dtype=int32)"
      ]
     },
     "execution_count": 24,
     "metadata": {},
     "output_type": "execute_result"
    }
   ],
   "source": [
    "arr2 = np.random.randint(5,30, size=[3,4])\n",
    "arr2"
   ]
  },
  {
   "cell_type": "code",
   "execution_count": 25,
   "id": "23112a27-7392-4109-aa84-e86601c8da66",
   "metadata": {},
   "outputs": [
    {
     "data": {
      "text/plain": [
       "array([[[18,  5, 18],\n",
       "        [22, 10, 18],\n",
       "        [ 8, 23,  8]],\n",
       "\n",
       "       [[10, 26, 20],\n",
       "        [18, 26, 19],\n",
       "        [18, 10, 19]]], dtype=int32)"
      ]
     },
     "execution_count": 25,
     "metadata": {},
     "output_type": "execute_result"
    }
   ],
   "source": [
    "arr3 = np.random.randint(5,30,size = [2,3,3])\n",
    "arr3"
   ]
  },
  {
   "cell_type": "code",
   "execution_count": 26,
   "id": "c8fca78f-d085-4aae-8f25-47902df15f2c",
   "metadata": {},
   "outputs": [
    {
     "data": {
      "text/plain": [
       "array([[16, 26, 27, 15],\n",
       "       [15, 18, 11, 19],\n",
       "       [ 8, 29, 18, 28]], dtype=int32)"
      ]
     },
     "execution_count": 26,
     "metadata": {},
     "output_type": "execute_result"
    }
   ],
   "source": [
    "arr2"
   ]
  },
  {
   "cell_type": "code",
   "execution_count": 27,
   "id": "c53b26c3-c2e2-4b09-8961-ac663271c94d",
   "metadata": {},
   "outputs": [
    {
     "data": {
      "text/plain": [
       "array([[18,  5, 18, 22, 10, 18],\n",
       "       [ 8, 23,  8, 10, 26, 20],\n",
       "       [18, 26, 19, 18, 10, 19]], dtype=int32)"
      ]
     },
     "execution_count": 27,
     "metadata": {},
     "output_type": "execute_result"
    }
   ],
   "source": [
    "arr2 = arr3.reshape(3,6)\n",
    "arr2"
   ]
  },
  {
   "cell_type": "code",
   "execution_count": 28,
   "id": "957ffa3a-43ae-44bb-9729-aa00928dbc09",
   "metadata": {},
   "outputs": [
    {
     "data": {
      "text/plain": [
       "array([[24, 22, 28],\n",
       "       [26, 29, 15]], dtype=int32)"
      ]
     },
     "execution_count": 28,
     "metadata": {},
     "output_type": "execute_result"
    }
   ],
   "source": [
    "arr4 = np.random.randint(5,30, size = (2,3))\n",
    "arr5 = np.random.randint(5,30, size = (2,3))\n",
    "arr4"
   ]
  },
  {
   "cell_type": "code",
   "execution_count": 29,
   "id": "9d0270e1-69e8-4a37-b6f3-3ea24f9e4dc3",
   "metadata": {},
   "outputs": [
    {
     "data": {
      "text/plain": [
       "array([[16, 24,  6],\n",
       "       [18, 18, 22]], dtype=int32)"
      ]
     },
     "execution_count": 29,
     "metadata": {},
     "output_type": "execute_result"
    }
   ],
   "source": [
    "arr5"
   ]
  },
  {
   "cell_type": "code",
   "execution_count": 31,
   "id": "dd8fb4da-3a25-4730-b09f-6fb5253a2786",
   "metadata": {},
   "outputs": [
    {
     "data": {
      "text/plain": [
       "array([[24, 22, 28],\n",
       "       [26, 29, 15],\n",
       "       [16, 24,  6],\n",
       "       [18, 18, 22]], dtype=int32)"
      ]
     },
     "execution_count": 31,
     "metadata": {},
     "output_type": "execute_result"
    }
   ],
   "source": [
    "np.vstack([arr4,arr5])"
   ]
  },
  {
   "cell_type": "code",
   "execution_count": 32,
   "id": "db256fca-d918-4c44-902e-218538b21f89",
   "metadata": {},
   "outputs": [
    {
     "data": {
      "text/plain": [
       "array([[24, 22, 28, 16, 24,  6],\n",
       "       [26, 29, 15, 18, 18, 22]], dtype=int32)"
      ]
     },
     "execution_count": 32,
     "metadata": {},
     "output_type": "execute_result"
    }
   ],
   "source": [
    "np.hstack([arr4,arr5])"
   ]
  },
  {
   "cell_type": "code",
   "execution_count": null,
   "id": "80bee1be-4453-4e46-bd2a-1ace0da2e132",
   "metadata": {},
   "outputs": [],
   "source": [
    "#11-04-2025\n",
    "#"
   ]
  }
 ],
 "metadata": {
  "kernelspec": {
   "display_name": "Python 3 (ipykernel)",
   "language": "python",
   "name": "python3"
  },
  "language_info": {
   "codemirror_mode": {
    "name": "ipython",
    "version": 3
   },
   "file_extension": ".py",
   "mimetype": "text/x-python",
   "name": "python",
   "nbconvert_exporter": "python",
   "pygments_lexer": "ipython3",
   "version": "3.13.2"
  }
 },
 "nbformat": 4,
 "nbformat_minor": 5
}

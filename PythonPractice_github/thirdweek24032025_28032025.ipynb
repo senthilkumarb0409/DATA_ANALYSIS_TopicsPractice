{
 "cells": [
  {
   "cell_type": "code",
   "execution_count": null,
   "id": "8059be06-c870-4a67-94c3-25ed139ce008",
   "metadata": {},
   "outputs": [],
   "source": [
    "# 24/03/2025\n",
    "# using with - dont need to write a separate code \n",
    "# to close the file or directory\n",
    "\n",
    "# append - add extra data to end of existing data in a file instead of overwriting with new value like write() does\n",
    "# \n",
    "# handling txt,img, csv, json"
   ]
  },
  {
   "cell_type": "code",
   "execution_count": 2,
   "id": "23da103f-3a9b-40d2-a5c5-b2aa1b84ff38",
   "metadata": {},
   "outputs": [
    {
     "name": "stdout",
     "output_type": "stream",
     "text": [
      "Different programming languages\n",
      "1.python\n",
      "2.c\n",
      "3.c++\n",
      "4.Java\n",
      "\n"
     ]
    }
   ],
   "source": [
    "#using with\n",
    "with open(\"sample.txt\") as f:\n",
    "    print(f.read())\n"
   ]
  },
  {
   "cell_type": "code",
   "execution_count": 4,
   "id": "5c181c18-55d1-4498-b2cd-9cd93f7035f5",
   "metadata": {},
   "outputs": [
    {
     "data": {
      "text/plain": [
       "b'\\xff\\xd8\\xff\\xe0\\x00\\x10JFIF\\x00\\x01\\x01\\x01\\x00H\\x00H\\x00\\x00\\xff\\xdb\\x00C\\x00\\x01\\x01\\x01\\x01\\x01\\x01\\x01\\x01\\x01\\x01\\x01\\x01\\x01\\x02\\x02\\x03\\x02\\x02\\x02\\x02\\x02\\x04\\x03\\x03\\x02\\x03\\x05\\x04\\x05\\x05\\x05\\x04\\x04\\x04\\x05\\x06\\x07\\x06\\x05\\x05\\x07\\x06\\x04\\x04\\x06\\t\\x06\\x07\\x08\\x08\\x08\\x08\\x08\\x05\\x06\\t\\n\\t\\x08\\n\\x07\\x08\\x08\\x08\\xff\\xc0\\x00\\x0b\\x08\\x01\\x8a\\x02\\xbc\\x01\\x01'"
      ]
     },
     "execution_count": 4,
     "metadata": {},
     "output_type": "execute_result"
    }
   ],
   "source": [
    "img_data = open(\"wallpaper1.jpg\" , \"rb\")\n",
    "img_data.read()[:100]"
   ]
  },
  {
   "cell_type": "code",
   "execution_count": 6,
   "id": "6ad26080-9b3d-451d-b3dd-3123414e6583",
   "metadata": {},
   "outputs": [
    {
     "name": "stdout",
     "output_type": "stream",
     "text": [
      "b'\\xff\\xd8\\xff\\xe0\\x00\\x10JFIF\\x00\\x01\\x01\\x01\\x00H\\x00H\\x00\\x00\\xff\\xdb\\x00C\\x00\\x01\\x01\\x01\\x01\\x01\\x01\\x01\\x01\\x01\\x01\\x01\\x01\\x01\\x02\\x02\\x03\\x02\\x02\\x02\\x02\\x02\\x04\\x03\\x03\\x02\\x03\\x05\\x04\\x05\\x05\\x05\\x04\\x04\\x04\\x05\\x06\\x07\\x06\\x05\\x05\\x07\\x06\\x04\\x04\\x06\\t\\x06\\x07\\x08\\x08\\x08\\x08\\x08\\x05\\x06\\t\\n\\t\\x08\\n\\x07\\x08\\x08\\x08\\xff\\xc0\\x00\\x0b\\x08\\x01\\x8a\\x02\\xbc\\x01\\x01'\n"
     ]
    }
   ],
   "source": [
    "with open(\"wallpaper1.jpg\" , \"rb\") as f:\n",
    "    print(f.read()[:100])"
   ]
  },
  {
   "cell_type": "code",
   "execution_count": 7,
   "id": "605c95da-cdaa-4b6e-9961-96f3c3f2b809",
   "metadata": {},
   "outputs": [],
   "source": [
    "img_data = open(\"wallpaper1.jpg\", \"rb\")\n",
    "data = img_data.read()\n",
    "\n",
    "with open(\"wallpaper2copy.jpeg\", \"wb\") as f:\n",
    "    f.write(data)\n",
    "    "
   ]
  },
  {
   "cell_type": "code",
   "execution_count": 10,
   "id": "0c325d14-adfe-4171-ba40-4a264e9e55bf",
   "metadata": {},
   "outputs": [
    {
     "name": "stdout",
     "output_type": "stream",
     "text": [
      "name,salary,exp,city,age,Gender\n",
      "john,3000,4,losvegas,30,Male\n",
      "doe,4000,5, dc,25,Female\n",
      "robert,8000,6, paris,27,Male\n",
      "chris,9000,7,newyork,24,Female\n",
      ",3000,,losvegas,35,Male\n",
      "john,3000,4,losvegas,33,Female\n",
      "evans,,4,losvegas,31,Male\n",
      "tom,3000,4,,37,Female\n",
      "\n"
     ]
    }
   ],
   "source": [
    "with open(\"employee.csv\" , \"r\") as e:\n",
    "    print(e.read())"
   ]
  },
  {
   "cell_type": "code",
   "execution_count": 11,
   "id": "d2b04524-5549-48b6-8028-ab1acfe50816",
   "metadata": {},
   "outputs": [
    {
     "name": "stdout",
     "output_type": "stream",
     "text": [
      "('name', 'salary', 'exp', 'city', 'age', 'Gender')\n",
      "('john', '3000', '4', 'losvegas', '30', 'Male')\n",
      "('doe', '4000', '5', ' dc', '25', 'Female')\n",
      "('robert', '8000', '6', ' paris', '27', 'Male')\n",
      "('chris', '9000', '7', 'newyork', '24', 'Female')\n",
      "('', '3000', '', 'losvegas', '35', 'Male')\n",
      "('john', '3000', '4', 'losvegas', '33', 'Female')\n",
      "('evans', '', '4', 'losvegas', '31', 'Male')\n",
      "('tom', '3000', '4', '', '37', 'Female')\n"
     ]
    }
   ],
   "source": [
    "import csv\n",
    "data = open(\"employee.csv\", \"r\")\n",
    "\n",
    "records = csv.reader(data)\n",
    "\n",
    "for i in records:\n",
    "    print(tuple(i))"
   ]
  },
  {
   "cell_type": "code",
   "execution_count": 16,
   "id": "8c3209ff-bfef-4411-b8c8-c35fbe6df484",
   "metadata": {},
   "outputs": [
    {
     "name": "stdout",
     "output_type": "stream",
     "text": [
      "{'name': 'john', 'salary': '3000', 'exp': '4', 'city': 'losvegas', 'age': '30', 'Gender': 'Male'}\n",
      "{'name': 'doe', 'salary': '4000', 'exp': '5', 'city': ' dc', 'age': '25', 'Gender': 'Female'}\n",
      "{'name': 'robert', 'salary': '8000', 'exp': '6', 'city': ' paris', 'age': '27', 'Gender': 'Male'}\n",
      "{'name': 'chris', 'salary': '9000', 'exp': '7', 'city': 'newyork', 'age': '24', 'Gender': 'Female'}\n",
      "{'name': '', 'salary': '3000', 'exp': '', 'city': 'losvegas', 'age': '35', 'Gender': 'Male'}\n",
      "{'name': 'john', 'salary': '3000', 'exp': '4', 'city': 'losvegas', 'age': '33', 'Gender': 'Female'}\n",
      "{'name': 'evans', 'salary': '', 'exp': '4', 'city': 'losvegas', 'age': '31', 'Gender': 'Male'}\n",
      "{'name': 'tom', 'salary': '3000', 'exp': '4', 'city': '', 'age': '37', 'Gender': 'Female'}\n"
     ]
    }
   ],
   "source": [
    "import csv\n",
    "data = open(\"employee.csv\", \"r\")\n",
    "\n",
    "records = csv.DictReader(data)\n",
    "\n",
    "for record in records:\n",
    "    print(record)"
   ]
  },
  {
   "cell_type": "code",
   "execution_count": 32,
   "id": "353127bb-f052-45b5-87d8-e83013128981",
   "metadata": {},
   "outputs": [
    {
     "name": "stdout",
     "output_type": "stream",
     "text": [
      "Different programming languages\n",
      "1.python\n",
      "2.c\n",
      "3.c++\n",
      "4.Java\n"
     ]
    }
   ],
   "source": [
    "file_data = open(\"sample.txt\", \"r\")\n",
    "print(file_data.read())"
   ]
  },
  {
   "cell_type": "code",
   "execution_count": 33,
   "id": "074a78b5-be76-4305-86b8-e11a194aca2d",
   "metadata": {},
   "outputs": [],
   "source": [
    "#append\n",
    "with open(\"sample.txt\", \"a\") as f:\n",
    "    f.write(\"\\n5.javascript\")\n",
    "\n"
   ]
  },
  {
   "cell_type": "code",
   "execution_count": 34,
   "id": "9c188937-1f7f-4e5d-a317-d3dab3f93632",
   "metadata": {},
   "outputs": [
    {
     "name": "stdout",
     "output_type": "stream",
     "text": [
      "Different programming languages\n",
      "1.python\n",
      "2.c\n",
      "3.c++\n",
      "4.Java\n",
      "5.javascript\n"
     ]
    }
   ],
   "source": [
    "file_data = open(\"sample.txt\", \"r\")\n",
    "print(file_data.read())"
   ]
  },
  {
   "cell_type": "code",
   "execution_count": 43,
   "id": "c6783d8c-d794-4cca-883b-bf65aedfd411",
   "metadata": {},
   "outputs": [],
   "source": [
    "#write or copy csv files\n",
    "\n",
    "import csv\n",
    "with open(\"employee.csv\", \"r\") as data:\n",
    "    records = csv.reader(data)\n",
    "    with open(\"copyemployee.csv\", \"a\", newline='') as csv_new:\n",
    "        writer = csv.writer(csv_new)\n",
    "        for record in records:\n",
    "            writer.writerow(record)\n"
   ]
  },
  {
   "cell_type": "code",
   "execution_count": 46,
   "id": "37c03f1f-70e7-48f1-85f5-7fa7c1a8b4cf",
   "metadata": {},
   "outputs": [
    {
     "name": "stdout",
     "output_type": "stream",
     "text": [
      "{\n",
      "  \"name\": \"John Doe\",\n",
      "  \"age\": 30,\n",
      "  \"email\": \"john.doe@example.com\",\n",
      "  \"skills\": [\"Python\", \"JavaScript\", \"HTML\"],\n",
      "  \"address\": {\n",
      "    \"street\": \"123 Main St\",\n",
      "    \"city\": \"Anytown\",\n",
      "    \"zipcode\": \"12345\"\n",
      "  }\n",
      "}\n",
      "\n"
     ]
    }
   ],
   "source": [
    "with open(\"file_1.json\" , \"r\") as f:\n",
    "    print(f.read())"
   ]
  },
  {
   "cell_type": "code",
   "execution_count": 48,
   "id": "ea3a01f3-9edb-49c5-afe0-eb8a873ef852",
   "metadata": {},
   "outputs": [
    {
     "name": "stdout",
     "output_type": "stream",
     "text": [
      "{\n",
      "  \"name\": \"John Doe\",\n",
      "  \"age\": 30,\n",
      "  \"email\": \"john.doe@example.com\",\n",
      "  \"skills\": [\"Python\", \"JavaScript\", \"HTML\"],\n",
      "  \"address\": {\n",
      "    \"street\": \"123 Main St\",\n",
      "    \"city\": \"Anytown\",\n",
      "    \"zipcode\": \"12345\"\n",
      "  }\n",
      "}\n",
      "\n"
     ]
    }
   ],
   "source": [
    "file_obj = open(\"file_1.json\", \"r\")\n",
    "print(file_obj.read())"
   ]
  },
  {
   "cell_type": "code",
   "execution_count": 49,
   "id": "bd040a37-e49d-4265-b66a-f9122a46246e",
   "metadata": {},
   "outputs": [
    {
     "data": {
      "text/plain": [
       "{'name': 'John Doe',\n",
       " 'age': 30,\n",
       " 'email': 'john.doe@example.com',\n",
       " 'skills': ['Python', 'JavaScript', 'HTML'],\n",
       " 'address': {'street': '123 Main St', 'city': 'Anytown', 'zipcode': '12345'}}"
      ]
     },
     "execution_count": 49,
     "metadata": {},
     "output_type": "execute_result"
    }
   ],
   "source": [
    "import json\n",
    "\n",
    "data = open(\"file_1.json\")\n",
    "json.load(data)"
   ]
  },
  {
   "cell_type": "code",
   "execution_count": null,
   "id": "6b1986e4-d41a-436b-b431-5a9a8eae8670",
   "metadata": {},
   "outputs": [],
   "source": [
    "#25/03/25\n",
    "\n",
    "# copying json \n",
    "#try except and finally\n"
   ]
  },
  {
   "cell_type": "code",
   "execution_count": 50,
   "id": "ed7f79cd-f9fe-499c-8928-f308f6a8f8d0",
   "metadata": {},
   "outputs": [
    {
     "name": "stdout",
     "output_type": "stream",
     "text": [
      "python execution\n",
      "error handled\n",
      "hello world\n"
     ]
    }
   ],
   "source": [
    "#try and except\n",
    "\n",
    "\n",
    "print(\"python execution\")\n",
    "try:\n",
    "    4/0\n",
    "except:\n",
    "    print(\"error handled\")\n",
    "print(\"hello world\")"
   ]
  },
  {
   "cell_type": "code",
   "execution_count": 64,
   "id": "c15feb5b-6d99-43fa-b8a9-b58532a138fd",
   "metadata": {},
   "outputs": [
    {
     "name": "stdin",
     "output_type": "stream",
     "text": [
      "enter the first val 35\n",
      "enter the second val 7\n"
     ]
    },
    {
     "name": "stdout",
     "output_type": "stream",
     "text": [
      "you have enter 35 and 7 so 35/7 is 5.0\n",
      "I always run irrespective of any errors\n"
     ]
    }
   ],
   "source": [
    "try:\n",
    "    a = eval(input(\"enter the first val\"))\n",
    "    b = eval(input(\"enter the second val\"))\n",
    "    if(a>0 and b > 0 and a>=b):\n",
    "        print(f\"you have enter {a} and {b} so {a}/{b} is {a/b}\" )\n",
    "    else:\n",
    "        raise ZeroDivisionError \n",
    "    \n",
    "except ZeroDivisionError:\n",
    "    if(a == 0):\n",
    "        print(f\"Even though if numerator {a} is zero it is not a good practice.\")\n",
    "    elif(b == 0):\n",
    "        print(f\"if {b} is 0 it leads zerodivison error.\")\n",
    "    else:\n",
    "        print(\"please enter the numerator larger than denominator and denominator not zero\")\n",
    "    print(\"error handled\")\n",
    "\n",
    "finally:\n",
    "    print (\"I always run irrespective of any errors\")\n",
    "    "
   ]
  },
  {
   "cell_type": "code",
   "execution_count": 65,
   "id": "b325f797-92b8-477b-9f4e-fd67a5735dba",
   "metadata": {},
   "outputs": [
    {
     "name": "stdout",
     "output_type": "stream",
     "text": [
      "1. learn python basics\n",
      "2. practice simple codes for every topic \n",
      "3.practice in platforms like leetcode ,hackerrank etc\n"
     ]
    }
   ],
   "source": [
    "#24 and 25 my try\n",
    "\n",
    "with open('sample.txt.txt','r') as f:\n",
    "    data = f.read()\n",
    "    print(data)"
   ]
  },
  {
   "cell_type": "code",
   "execution_count": 67,
   "id": "0ef87a92-a198-4ef7-ac6b-9ab116b79e82",
   "metadata": {},
   "outputs": [
    {
     "name": "stdout",
     "output_type": "stream",
     "text": [
      "1. learn python basics\n",
      "\n"
     ]
    }
   ],
   "source": [
    "with open('sample.txt.txt' ,'r') as f:\n",
    "    line = f.readline()\n",
    "    print(line)"
   ]
  },
  {
   "cell_type": "code",
   "execution_count": 68,
   "id": "4fc5082a-489b-4c2f-9d92-d77490d45e3d",
   "metadata": {},
   "outputs": [
    {
     "name": "stdout",
     "output_type": "stream",
     "text": [
      "1. learn python basics\n",
      "\n",
      "2. practice simple codes for every topic \n",
      "\n",
      "3.practice in platforms like leetcode ,hackerrank etc\n"
     ]
    }
   ],
   "source": [
    "with open('sample.txt.txt' ,'r') as f:\n",
    "    lines = f.readlines()\n",
    "    for line in lines:\n",
    "        print(line)"
   ]
  },
  {
   "cell_type": "code",
   "execution_count": 72,
   "id": "26e096a3-f4a4-4483-859f-92599a0ce80d",
   "metadata": {},
   "outputs": [],
   "source": [
    "with open('example.txt', 'w') as file:\n",
    "    file.write(\"Hello, this is a new text file.\")\n"
   ]
  },
  {
   "cell_type": "code",
   "execution_count": 75,
   "id": "c3d02dbb-807a-4de2-99af-57c28acbf0da",
   "metadata": {},
   "outputs": [],
   "source": [
    "lines =[\"Hello Everyone!\\n\" , \"My name is Senthil Kumar.B\\n\", \"I am a Computer Engineer\"]\n",
    "with open('example.txt', 'w') as file:\n",
    "    file.writelines(lines)\n",
    "    "
   ]
  },
  {
   "cell_type": "code",
   "execution_count": 77,
   "id": "5e10c94f-0161-49e2-8016-2fdcfa90b442",
   "metadata": {},
   "outputs": [],
   "source": [
    "with open('example.txt', 'a') as file:\n",
    "    file.write(\"\\nAnd I am a fresher currently looking for job as a data analyst\")"
   ]
  },
  {
   "cell_type": "code",
   "execution_count": 78,
   "id": "110e4a00-9e57-4fa2-abfa-b439e2f23c34",
   "metadata": {},
   "outputs": [],
   "source": [
    "with open('example.txt', 'r') as src:\n",
    "    with open('copyexample.txt' , 'w' ) as dst:\n",
    "        dst.write(src.read())"
   ]
  },
  {
   "cell_type": "code",
   "execution_count": 85,
   "id": "331ef96b-a12b-45c4-861e-7a1a696b42d8",
   "metadata": {},
   "outputs": [
    {
     "name": "stdout",
     "output_type": "stream",
     "text": [
      "['name', 'salary', 'exp', 'city', 'age', 'Gender']\n",
      "['john', '3000', '4', 'losvegas', '30', 'Male']\n",
      "['doe', '4000', '5', ' dc', '25', 'Female']\n",
      "['robert', '8000', '6', ' paris', '27', 'Male']\n",
      "['chris', '9000', '7', 'newyork', '24', 'Female']\n",
      "['', '3000', '', 'losvegas', '35', 'Male']\n",
      "['john', '3000', '4', 'losvegas', '33', 'Female']\n",
      "['evans', '', '4', 'losvegas', '31', 'Male']\n",
      "['tom', '3000', '4', '', '37', 'Female']\n"
     ]
    }
   ],
   "source": [
    "import csv \n",
    "\n",
    "file =  open('employee.csv', 'r')\n",
    "reader = csv.reader(file)\n",
    "for i in reader:\n",
    "    print(i)\n"
   ]
  },
  {
   "cell_type": "code",
   "execution_count": 86,
   "id": "e3c24072-586a-4043-97b9-ce7662771687",
   "metadata": {},
   "outputs": [
    {
     "name": "stdout",
     "output_type": "stream",
     "text": [
      "{'name': 'john', 'salary': '3000', 'exp': '4', 'city': 'losvegas', 'age': '30', 'Gender': 'Male'}\n",
      "{'name': 'doe', 'salary': '4000', 'exp': '5', 'city': ' dc', 'age': '25', 'Gender': 'Female'}\n",
      "{'name': 'robert', 'salary': '8000', 'exp': '6', 'city': ' paris', 'age': '27', 'Gender': 'Male'}\n",
      "{'name': 'chris', 'salary': '9000', 'exp': '7', 'city': 'newyork', 'age': '24', 'Gender': 'Female'}\n",
      "{'name': '', 'salary': '3000', 'exp': '', 'city': 'losvegas', 'age': '35', 'Gender': 'Male'}\n",
      "{'name': 'john', 'salary': '3000', 'exp': '4', 'city': 'losvegas', 'age': '33', 'Gender': 'Female'}\n",
      "{'name': 'evans', 'salary': '', 'exp': '4', 'city': 'losvegas', 'age': '31', 'Gender': 'Male'}\n",
      "{'name': 'tom', 'salary': '3000', 'exp': '4', 'city': '', 'age': '37', 'Gender': 'Female'}\n"
     ]
    }
   ],
   "source": [
    "import csv \n",
    "\n",
    "file =  open('employee.csv', 'r')\n",
    "dictreader = csv.DictReader(file)\n",
    "for j in dictreader:\n",
    "    print(j)"
   ]
  },
  {
   "cell_type": "code",
   "execution_count": 87,
   "id": "03c298fa-5dee-420a-851b-777bfe2315f7",
   "metadata": {},
   "outputs": [],
   "source": [
    "import csv\n",
    "data = [['Name','age','job', 'experience' ,'status'],['senthil',22,'data analyst','fresher','single'],['thiru',21,'developer', 'intern', 'single']]\n",
    "with open ('newtry.csv', 'w', newline='') as file:\n",
    "    writer = csv.writer(file)\n",
    "    writer.writerows(data)"
   ]
  },
  {
   "cell_type": "code",
   "execution_count": 88,
   "id": "9b9f2bf0-3e32-4dfa-9c3c-3d449d1fe19b",
   "metadata": {},
   "outputs": [],
   "source": [
    "import csv\n",
    "data = [{'Name': 'John', 'Age': 25}, {'Name': 'Alice', 'Age': 30}]\n",
    "with open('newtrydict.csv', 'w', newline='') as file:\n",
    "    fieldnames = ['Name', 'Age']\n",
    "    writer = csv.DictWriter(file, fieldnames=fieldnames)\n",
    "    writer.writeheader()\n",
    "    writer.writerows(data)\n"
   ]
  },
  {
   "cell_type": "code",
   "execution_count": 90,
   "id": "97ede201-66a7-4ed8-8062-f00bf6717cc7",
   "metadata": {},
   "outputs": [],
   "source": [
    "import csv\n",
    "newdata = [['bob', 22],['sam', 27]]\n",
    "with open ('newtrydict.csv', 'a', newline='') as file:\n",
    "    writer = csv.writer(file)\n",
    "    writer.writerows(newdata)"
   ]
  },
  {
   "cell_type": "code",
   "execution_count": 92,
   "id": "b5c8ecd1-eacc-4956-8f8a-b691167daa19",
   "metadata": {},
   "outputs": [],
   "source": [
    "import csv\n",
    "with open('newtrydict.csv' , 'r') as src:\n",
    "    reader = csv.reader(src)\n",
    "    with open ('copytrydictm.csv' ,'w',newline='') as dst:\n",
    "        writer = csv.writer(dst)\n",
    "        for row in reader:\n",
    "            writer.writerow(row)"
   ]
  },
  {
   "cell_type": "code",
   "execution_count": 93,
   "id": "83329eef-5bd9-4c38-8ff4-493ff333d460",
   "metadata": {},
   "outputs": [],
   "source": [
    "import json\n",
    "data = {\"name\": \"John\", \"age\": 30, \"city\": \"New York\"}\n",
    "with open('example.json', 'w') as file:\n",
    "    json.dump(data, file)\n"
   ]
  },
  {
   "cell_type": "code",
   "execution_count": 94,
   "id": "e988c81c-c5e9-4b61-83ea-16022fb5df7a",
   "metadata": {},
   "outputs": [
    {
     "name": "stdout",
     "output_type": "stream",
     "text": [
      "{'name': 'John', 'age': 30, 'city': 'New York'}\n"
     ]
    }
   ],
   "source": [
    "import json\n",
    "with open('example.json', 'r') as file:\n",
    "    data = json.load(file)\n",
    "    print(data)\n"
   ]
  },
  {
   "cell_type": "code",
   "execution_count": 98,
   "id": "85ed4f66-925b-4a99-92ec-c1e3338665fc",
   "metadata": {},
   "outputs": [],
   "source": [
    "import json\n",
    "with open('example.json', 'r') as file:\n",
    "    data = json.load(file)\n",
    "new_data = {\"name\": \"Alice\", \"age\": 25}\n",
    "data[\"new_user\"] = new_data\n",
    "with open('example.json', 'w') as file:\n",
    "    json.dump(data, file, indent=4)\n"
   ]
  },
  {
   "cell_type": "code",
   "execution_count": 99,
   "id": "546c54a3-c5fa-4a70-ad93-8588fef3e534",
   "metadata": {},
   "outputs": [],
   "source": [
    "import json\n",
    "\n",
    "with open('example.json', 'r' ) as src:\n",
    "    data = json.load(src)\n",
    "\n",
    "with open ('copyexaple.json', 'w' ) as dst:\n",
    "    json.dump(data,dst)"
   ]
  },
  {
   "cell_type": "code",
   "execution_count": null,
   "id": "f24f7377-5bfa-43b5-a916-a1fec6ec4e4c",
   "metadata": {},
   "outputs": [],
   "source": [
    "#26-03-2025\n",
    "# user defined exception\n",
    "# class\n"
   ]
  },
  {
   "cell_type": "code",
   "execution_count": 17,
   "id": "59d99118-9d61-47e6-bce7-2f63ccd48357",
   "metadata": {},
   "outputs": [
    {
     "name": "stdin",
     "output_type": "stream",
     "text": [
      "enter the first val: 5\n",
      "enter the second val: 5\n"
     ]
    },
    {
     "name": "stdout",
     "output_type": "stream",
     "text": [
      "1.0\n"
     ]
    }
   ],
   "source": [
    "#user defined exception\n",
    "\n",
    "class Bigvalue(Exception):\n",
    "    def __init__(self):\n",
    "        self.warning = f\"given second value {b}  is big than first value\"\n",
    "\n",
    "try:\n",
    "    a = eval(input(\"enter the first val:\"))\n",
    "    b= eval(input(\"enter the second val:\"))\n",
    "\n",
    "    if type(a) == int and type(b) == int and a >= b:\n",
    "        print(a/b)\n",
    "    elif b > a:\n",
    "        raise Bigvalue\n",
    "except ZeroDivisionError:\n",
    "    print(f\"the error occured because value is {a}/{b}\")\n",
    "except TypeError:\n",
    "    print(f\"the type of first values is {type(a)} and second value is {type(b)}\")\n",
    "except Bigvalue as e:\n",
    "    print (e.warning)"
   ]
  },
  {
   "cell_type": "code",
   "execution_count": 6,
   "id": "d3b6d966-1aae-4359-81d5-d93eac6920c8",
   "metadata": {},
   "outputs": [
    {
     "name": "stdin",
     "output_type": "stream",
     "text": [
      "Enter the first value:  3\n",
      "Enter the second value:  15\n"
     ]
    },
    {
     "name": "stdout",
     "output_type": "stream",
     "text": [
      "Given second value 15 is bigger than first value 3\n"
     ]
    }
   ],
   "source": [
    "# user-defined exception\n",
    "\n",
    "class Bigvalue(Exception):\n",
    "    def __init__(self, a, b):\n",
    "        self.warning = f\"Given second value {b} is bigger than first value {a}\"\n",
    "\n",
    "    def __str__(self):\n",
    "        return self.warning\n",
    "\n",
    "\n",
    "class Smallvalue(Exception):\n",
    "    def __init__(self, a, b):\n",
    "        self.warning = f\"Given first value {a} is smaller than second value {b}\"\n",
    "\n",
    "    def __str__(self):\n",
    "        return self.warning\n",
    "\n",
    "\n",
    "try:\n",
    "    a = eval(input(\"Enter the first value: \"))\n",
    "    b = eval(input(\"Enter the second value: \"))\n",
    "\n",
    "    if type(a) == int and type(b) == int:\n",
    "        if a >= b:\n",
    "            print(a / b)\n",
    "        elif b > a:\n",
    "            raise Bigvalue(a, b)\n",
    "        elif a < b:\n",
    "            raise Smallvalue(a, b)\n",
    "    else:\n",
    "        raise TypeError(\"Both values should be integers.\")\n",
    "\n",
    "except ZeroDivisionError:\n",
    "    print(f\"The error occurred because the second value is {b}, and division by zero is not allowed.\")\n",
    "except TypeError as e:\n",
    "    print(f\"Error: {e}\")\n",
    "except Bigvalue as e:\n",
    "    print(e)\n",
    "except Smallvalue as e:\n",
    "    print(e)\n"
   ]
  },
  {
   "cell_type": "code",
   "execution_count": 31,
   "id": "98423743-9877-4536-8440-16dd43d21dc0",
   "metadata": {},
   "outputs": [
    {
     "name": "stdout",
     "output_type": "stream",
     "text": [
      "hello world\n",
      "8\n",
      "4\n",
      "20\n",
      "8\n"
     ]
    }
   ],
   "source": [
    "#class\n",
    "\n",
    "class test:\n",
    "    print(\"hello world\")\n",
    "    x = 8\n",
    "    y = 4\n",
    "    def add(self, z):\n",
    "        self.z = z\n",
    "        return self.x +  self.y + z\n",
    "\n",
    "obj = test()\n",
    "print(obj.x)\n",
    "print(obj.y)\n",
    "print(obj.add(8))\n",
    "print(obj.z)"
   ]
  },
  {
   "cell_type": "code",
   "execution_count": null,
   "id": "c2d1da8c-5c66-4df5-9bec-9869b8f8f007",
   "metadata": {},
   "outputs": [],
   "source": [
    "#27/03/2025\n",
    "# class continuation\n",
    "# static method - class\n",
    "# class method - class\n",
    "# outer and inner class\n"
   ]
  },
  {
   "cell_type": "code",
   "execution_count": 8,
   "id": "8743ae3c-8aeb-47f8-953f-39c8257c9b01",
   "metadata": {},
   "outputs": [
    {
     "data": {
      "text/plain": [
       "5"
      ]
     },
     "execution_count": 8,
     "metadata": {},
     "output_type": "execute_result"
    }
   ],
   "source": [
    "class Test:\n",
    "    def __init__(self, p1,p2):\n",
    "        self.x = p1\n",
    "        self.y = p2\n",
    "    def add(self):\n",
    "        return self.x + self.y\n",
    "\n",
    "obj = Test(2,3)\n",
    "obj.add()"
   ]
  },
  {
   "cell_type": "code",
   "execution_count": 9,
   "id": "134279bb-6515-4a3d-97c5-5b4bc019bbb8",
   "metadata": {},
   "outputs": [
    {
     "name": "stdout",
     "output_type": "stream",
     "text": [
      "5\n",
      "2\n",
      "3\n"
     ]
    }
   ],
   "source": [
    "class Test:\n",
    "    def __init__(self, p1,p2):\n",
    "        self.x = p1\n",
    "        self.y = p2\n",
    "    def add(self):\n",
    "        return self.x + self.y\n",
    "\n",
    "obj = Test(2,3)\n",
    "print(obj.add())\n",
    "print(obj.x)\n",
    "print(obj.y)"
   ]
  },
  {
   "cell_type": "code",
   "execution_count": 31,
   "id": "697b6855-33a3-4cc6-891c-207321eee702",
   "metadata": {},
   "outputs": [
    {
     "name": "stdout",
     "output_type": "stream",
     "text": [
      "5\n",
      "2\n",
      "3\n",
      "hello world\n"
     ]
    },
    {
     "data": {
      "text/plain": [
       "45"
      ]
     },
     "execution_count": 31,
     "metadata": {},
     "output_type": "execute_result"
    }
   ],
   "source": [
    "class Test:\n",
    "    a = 45\n",
    "    def __init__(self, p1,p2):\n",
    "        self.x = p1\n",
    "        self.y = p2\n",
    "    def add(self):\n",
    "        return self.x + self.y\n",
    "\n",
    "    @staticmethod\n",
    "    def hello():\n",
    "        return \"hello world\"\n",
    "\n",
    "    @classmethod\n",
    "    def world(cls):\n",
    "        return cls.a\n",
    "\n",
    "    \n",
    "obj = Test(2,3)\n",
    "print(obj.add())\n",
    "print(obj.x)\n",
    "print(obj.y)\n",
    "print(obj.hello())\n",
    "obj.world()"
   ]
  },
  {
   "cell_type": "code",
   "execution_count": 22,
   "id": "6894075b-c768-4361-8874-bf1e0677160c",
   "metadata": {},
   "outputs": [
    {
     "name": "stdout",
     "output_type": "stream",
     "text": [
      "5\n",
      "2\n",
      "7\n",
      "10\n",
      "4\n",
      "14\n"
     ]
    }
   ],
   "source": [
    "class Test:\n",
    "    a = 45\n",
    "    def __init__(self, p1,p2):\n",
    "        self.x = p1\n",
    "        self.y = p2\n",
    "    def add(self):\n",
    "        return self.x + self.y\n",
    "\n",
    "obj = Test(5,2)\n",
    "print(obj.x)\n",
    "print(obj.y)\n",
    "print(obj.add())\n",
    "\n",
    "obj.x = 10\n",
    "obj.y = 4\n",
    "print(obj.x)\n",
    "print(obj.y)\n",
    "print(obj.add())"
   ]
  },
  {
   "cell_type": "code",
   "execution_count": 29,
   "id": "2dc3e242-e1b1-4a5b-86de-f501b32fbef7",
   "metadata": {},
   "outputs": [
    {
     "name": "stdout",
     "output_type": "stream",
     "text": [
      "Senthil Kumar.B\n",
      "Chennai, Tamil Nadu\n"
     ]
    }
   ],
   "source": [
    "class Test:\n",
    "    a = 45\n",
    "    def __init__(self, name,city):\n",
    "        self.name = name\n",
    "        self.city = city\n",
    "    def fullname(self, lastname):\n",
    "        self.name = self.name + lastname\n",
    "        return self.name\n",
    "\n",
    "    def address(self, state):\n",
    "        self.city = self.city + state\n",
    "        return self.city\n",
    "\n",
    "obj = Test(\"Senthil\", \"Chennai,\")\n",
    "print(obj.fullname(\" Kumar.B\"))\n",
    "print(obj.address(\" Tamil Nadu\"))"
   ]
  },
  {
   "cell_type": "code",
   "execution_count": 1,
   "id": "20dbc146-a87b-41d6-9af8-78ab3fd8c837",
   "metadata": {},
   "outputs": [
    {
     "name": "stdout",
     "output_type": "stream",
     "text": [
      "outer class instance method\n",
      "5\n",
      "inner class instance method\n",
      "67\n"
     ]
    }
   ],
   "source": [
    "class outer:\n",
    "    def __init__(self, p1):\n",
    "        self.x = p1\n",
    "    def add(self):\n",
    "        print(\"outer class instance method\")\n",
    "        return self.x\n",
    "   \n",
    "    class inner:\n",
    "        def __init__(self, p1):\n",
    "            self.x = p1\n",
    "        def show(self):\n",
    "            print(\"inner class instance method\")\n",
    "            return self.x\n",
    "\n",
    "outerobj = outer(5)\n",
    "print(outerobj.add())\n",
    "\n",
    "innerobj = outerobj.inner(67)\n",
    "print(innerobj.show())"
   ]
  }
 ],
 "metadata": {
  "kernelspec": {
   "display_name": "Python 3 (ipykernel)",
   "language": "python",
   "name": "python3"
  },
  "language_info": {
   "codemirror_mode": {
    "name": "ipython",
    "version": 3
   },
   "file_extension": ".py",
   "mimetype": "text/x-python",
   "name": "python",
   "nbconvert_exporter": "python",
   "pygments_lexer": "ipython3",
   "version": "3.13.2"
  }
 },
 "nbformat": 4,
 "nbformat_minor": 5
}

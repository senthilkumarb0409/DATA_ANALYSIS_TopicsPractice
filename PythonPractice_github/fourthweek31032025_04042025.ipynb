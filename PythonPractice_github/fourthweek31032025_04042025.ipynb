{
 "cells": [
  {
   "cell_type": "code",
   "execution_count": 1,
   "id": "b3ffc6ad-2603-468f-adab-bb2f31f1798e",
   "metadata": {},
   "outputs": [],
   "source": [
    "# 31/03/2025\n",
    "# overriding\n",
    "# overloading\n"
   ]
  },
  {
   "cell_type": "code",
   "execution_count": 2,
   "id": "38fadf90-97d2-4adb-b93c-51282938adc6",
   "metadata": {},
   "outputs": [
    {
     "name": "stdout",
     "output_type": "stream",
     "text": [
      "Animal makes a sound.\n",
      "Dog barks.\n"
     ]
    }
   ],
   "source": [
    "#overriding\n",
    "\n",
    "class Animal:\n",
    "    def speak(self):\n",
    "        print(\"Animal makes a sound.\")\n",
    "\n",
    "class Dog(Animal):\n",
    "    def speak(self): \n",
    "        print(\"Dog barks.\")\n",
    "\n",
    "\n",
    "animal = Animal()\n",
    "dog = Dog()\n",
    "\n",
    "\n",
    "animal.speak()  \n",
    "dog.speak()    \n"
   ]
  },
  {
   "cell_type": "code",
   "execution_count": 3,
   "id": "25294fd5-1f99-4d0d-81b3-3407eda236f5",
   "metadata": {},
   "outputs": [
    {
     "name": "stdout",
     "output_type": "stream",
     "text": [
      "9\n",
      "16\n"
     ]
    }
   ],
   "source": [
    "#overloading\n",
    "def add(a,b):\n",
    "    return a + b\n",
    "def add(a,b,c=0):\n",
    "    return a + b + c\n",
    "\n",
    "print(add(4,5))\n",
    "print(add(4,5,7))"
   ]
  },
  {
   "cell_type": "code",
   "execution_count": 4,
   "id": "7da36718-3a2b-405a-a9ab-4e8c0fb5574d",
   "metadata": {},
   "outputs": [
    {
     "name": "stdout",
     "output_type": "stream",
     "text": [
      "9\n",
      "16\n"
     ]
    }
   ],
   "source": [
    "def plussum(*args):\n",
    "    return sum(args)\n",
    "\n",
    "print(plussum(4,5))\n",
    "print(plussum(4,5,7))"
   ]
  },
  {
   "cell_type": "code",
   "execution_count": 7,
   "id": "78f2b7b6-2447-4b72-ba9c-3ae01a948a2b",
   "metadata": {},
   "outputs": [
    {
     "data": {
      "text/plain": [
       "15"
      ]
     },
     "execution_count": 7,
     "metadata": {},
     "output_type": "execute_result"
    }
   ],
   "source": [
    "from multipledispatch import dispatch\n",
    "\n",
    "@dispatch(int, int)\n",
    "def plus(a,b):\n",
    "    return a + b\n",
    "\n",
    "@dispatch(int, int, int)\n",
    "def plus(a,b,c):\n",
    "    return a + b + c\n",
    "\n",
    "plus(4,5)\n",
    "plus(4,5,6)\n"
   ]
  },
  {
   "cell_type": "code",
   "execution_count": 16,
   "id": "c35a6912-4165-48df-8834-8bf01adb7e5a",
   "metadata": {},
   "outputs": [
    {
     "name": "stdout",
     "output_type": "stream",
     "text": [
      "There are marine, aquatic, land and amphibious creatures.\n",
      "Tiger is a predator, It is known for ambush assualts and extraordinary strength among predators.\n"
     ]
    }
   ],
   "source": [
    "class Animal:\n",
    "    def __init__(self):\n",
    "        print(\"There are marine, aquatic, land and amphibious creatures.\")\n",
    "    def info(self):\n",
    "        print(\"Some of the are predetors and some are preys\")\n",
    "\n",
    "class Tiger(Animal):\n",
    "    def info(self):\n",
    "        print(\"Tiger is a predator, It is known for ambush assualts and extraordinary strength among predators.\")\n",
    "\n",
    "class Dolphin(Animal):\n",
    "    def info(self):\n",
    "        print(\"A marine creature that has no legs and friendly with humans.\")\n",
    "\n",
    "obj = Tiger()\n",
    "obj.info()"
   ]
  },
  {
   "cell_type": "code",
   "execution_count": 22,
   "id": "90ad0a90-5f67-4232-857c-83babcccb471",
   "metadata": {},
   "outputs": [
    {
     "ename": "TypeError",
     "evalue": "unsupported operand type(s) for +: 'A' and 'A'",
     "output_type": "error",
     "traceback": [
      "\u001b[31m---------------------------------------------------------------------------\u001b[39m",
      "\u001b[31mTypeError\u001b[39m                                 Traceback (most recent call last)",
      "\u001b[36mCell\u001b[39m\u001b[36m \u001b[39m\u001b[32mIn[22]\u001b[39m\u001b[32m, line 6\u001b[39m\n\u001b[32m      4\u001b[39m obj1 = A(\u001b[32m2\u001b[39m)\n\u001b[32m      5\u001b[39m obj2 = A(\u001b[32m3\u001b[39m)\n\u001b[32m----> \u001b[39m\u001b[32m6\u001b[39m \u001b[43mobj1\u001b[49m\u001b[43m \u001b[49m\u001b[43m+\u001b[49m\u001b[43m \u001b[49m\u001b[43mobj2\u001b[49m\n",
      "\u001b[31mTypeError\u001b[39m: unsupported operand type(s) for +: 'A' and 'A'"
     ]
    }
   ],
   "source": [
    "class A:\n",
    "    def __init__(self,x):\n",
    "        self.x = x\n",
    "obj1 = A(2)\n",
    "obj2 = A(3)\n",
    "obj1 + obj2"
   ]
  },
  {
   "cell_type": "code",
   "execution_count": 25,
   "id": "b4a800ba-dd98-43cc-82d1-fe61103bef1e",
   "metadata": {},
   "outputs": [
    {
     "data": {
      "text/plain": [
       "5"
      ]
     },
     "execution_count": 25,
     "metadata": {},
     "output_type": "execute_result"
    }
   ],
   "source": [
    "class A:\n",
    "    def __init__(self,x):\n",
    "        self.x = x\n",
    "    def __add__(self, other):\n",
    "        return self.x + other.x\n",
    "        \n",
    "obj1 = A(2)\n",
    "obj2 = A(3)\n",
    "obj1 + obj2"
   ]
  },
  {
   "cell_type": "code",
   "execution_count": 26,
   "id": "baf79815-f77c-49e7-97c1-5a4dc9dbf291",
   "metadata": {},
   "outputs": [
    {
     "name": "stdout",
     "output_type": "stream",
     "text": [
      "14\n",
      "6\n",
      "4\n"
     ]
    }
   ],
   "source": [
    "#eg\n",
    "class A:\n",
    "    def add(self, a=None, b=None, c=None):\n",
    "        if a != None and b != None and c != None:\n",
    "            return a+b+c\n",
    "        elif a != None and b != None :\n",
    "            return a+b\n",
    "        else:\n",
    "            return a\n",
    "obj = A()\n",
    "print(obj.add(4,2,8))\n",
    "print(obj.add(4,2))\n",
    "print(obj.add(4))"
   ]
  }
 ],
 "metadata": {
  "kernelspec": {
   "display_name": "Python 3 (ipykernel)",
   "language": "python",
   "name": "python3"
  },
  "language_info": {
   "codemirror_mode": {
    "name": "ipython",
    "version": 3
   },
   "file_extension": ".py",
   "mimetype": "text/x-python",
   "name": "python",
   "nbconvert_exporter": "python",
   "pygments_lexer": "ipython3",
   "version": "3.13.2"
  }
 },
 "nbformat": 4,
 "nbformat_minor": 5
}

{
 "cells": [
  {
   "cell_type": "code",
   "execution_count": 1,
   "id": "b3ffc6ad-2603-468f-adab-bb2f31f1798e",
   "metadata": {},
   "outputs": [],
   "source": [
    "# 31/03/2025\n",
    "# overriding\n",
    "# overloading\n"
   ]
  },
  {
   "cell_type": "code",
   "execution_count": 2,
   "id": "38fadf90-97d2-4adb-b93c-51282938adc6",
   "metadata": {},
   "outputs": [
    {
     "name": "stdout",
     "output_type": "stream",
     "text": [
      "Animal makes a sound.\n",
      "Dog barks.\n"
     ]
    }
   ],
   "source": [
    "#overriding\n",
    "\n",
    "class Animal:\n",
    "    def speak(self):\n",
    "        print(\"Animal makes a sound.\")\n",
    "\n",
    "class Dog(Animal):\n",
    "    def speak(self): \n",
    "        print(\"Dog barks.\")\n",
    "\n",
    "\n",
    "animal = Animal()\n",
    "dog = Dog()\n",
    "\n",
    "\n",
    "animal.speak()  \n",
    "dog.speak()    \n"
   ]
  },
  {
   "cell_type": "code",
   "execution_count": 3,
   "id": "25294fd5-1f99-4d0d-81b3-3407eda236f5",
   "metadata": {},
   "outputs": [
    {
     "name": "stdout",
     "output_type": "stream",
     "text": [
      "9\n",
      "16\n"
     ]
    }
   ],
   "source": [
    "#overloading\n",
    "def add(a,b):\n",
    "    return a + b\n",
    "def add(a,b,c=0):\n",
    "    return a + b + c\n",
    "\n",
    "print(add(4,5))\n",
    "print(add(4,5,7))"
   ]
  },
  {
   "cell_type": "code",
   "execution_count": 4,
   "id": "7da36718-3a2b-405a-a9ab-4e8c0fb5574d",
   "metadata": {},
   "outputs": [
    {
     "name": "stdout",
     "output_type": "stream",
     "text": [
      "9\n",
      "16\n"
     ]
    }
   ],
   "source": [
    "def plussum(*args):\n",
    "    return sum(args)\n",
    "\n",
    "print(plussum(4,5))\n",
    "print(plussum(4,5,7))"
   ]
  },
  {
   "cell_type": "code",
   "execution_count": 7,
   "id": "78f2b7b6-2447-4b72-ba9c-3ae01a948a2b",
   "metadata": {},
   "outputs": [
    {
     "data": {
      "text/plain": [
       "15"
      ]
     },
     "execution_count": 7,
     "metadata": {},
     "output_type": "execute_result"
    }
   ],
   "source": [
    "from multipledispatch import dispatch\n",
    "\n",
    "@dispatch(int, int)\n",
    "def plus(a,b):\n",
    "    return a + b\n",
    "\n",
    "@dispatch(int, int, int)\n",
    "def plus(a,b,c):\n",
    "    return a + b + c\n",
    "\n",
    "plus(4,5)\n",
    "plus(4,5,6)\n"
   ]
  },
  {
   "cell_type": "code",
   "execution_count": 16,
   "id": "c35a6912-4165-48df-8834-8bf01adb7e5a",
   "metadata": {},
   "outputs": [
    {
     "name": "stdout",
     "output_type": "stream",
     "text": [
      "There are marine, aquatic, land and amphibious creatures.\n",
      "Tiger is a predator, It is known for ambush assualts and extraordinary strength among predators.\n"
     ]
    }
   ],
   "source": [
    "class Animal:\n",
    "    def __init__(self):\n",
    "        print(\"There are marine, aquatic, land and amphibious creatures.\")\n",
    "    def info(self):\n",
    "        print(\"Some of the are predetors and some are preys\")\n",
    "\n",
    "class Tiger(Animal):\n",
    "    def info(self):\n",
    "        print(\"Tiger is a predator, It is known for ambush assualts and extraordinary strength among predators.\")\n",
    "\n",
    "class Dolphin(Animal):\n",
    "    def info(self):\n",
    "        print(\"A marine creature that has no legs and friendly with humans.\")\n",
    "\n",
    "obj = Tiger()\n",
    "obj.info()"
   ]
  },
  {
   "cell_type": "code",
   "execution_count": 22,
   "id": "90ad0a90-5f67-4232-857c-83babcccb471",
   "metadata": {},
   "outputs": [
    {
     "ename": "TypeError",
     "evalue": "unsupported operand type(s) for +: 'A' and 'A'",
     "output_type": "error",
     "traceback": [
      "\u001b[31m---------------------------------------------------------------------------\u001b[39m",
      "\u001b[31mTypeError\u001b[39m                                 Traceback (most recent call last)",
      "\u001b[36mCell\u001b[39m\u001b[36m \u001b[39m\u001b[32mIn[22]\u001b[39m\u001b[32m, line 6\u001b[39m\n\u001b[32m      4\u001b[39m obj1 = A(\u001b[32m2\u001b[39m)\n\u001b[32m      5\u001b[39m obj2 = A(\u001b[32m3\u001b[39m)\n\u001b[32m----> \u001b[39m\u001b[32m6\u001b[39m \u001b[43mobj1\u001b[49m\u001b[43m \u001b[49m\u001b[43m+\u001b[49m\u001b[43m \u001b[49m\u001b[43mobj2\u001b[49m\n",
      "\u001b[31mTypeError\u001b[39m: unsupported operand type(s) for +: 'A' and 'A'"
     ]
    }
   ],
   "source": [
    "class A:\n",
    "    def __init__(self,x):\n",
    "        self.x = x\n",
    "obj1 = A(2)\n",
    "obj2 = A(3)\n",
    "obj1 + obj2"
   ]
  },
  {
   "cell_type": "code",
   "execution_count": 25,
   "id": "b4a800ba-dd98-43cc-82d1-fe61103bef1e",
   "metadata": {},
   "outputs": [
    {
     "data": {
      "text/plain": [
       "5"
      ]
     },
     "execution_count": 25,
     "metadata": {},
     "output_type": "execute_result"
    }
   ],
   "source": [
    "class A:\n",
    "    def __init__(self,x):\n",
    "        self.x = x\n",
    "    def __add__(self, other):\n",
    "        return self.x + other.x\n",
    "        \n",
    "obj1 = A(2)\n",
    "obj2 = A(3)\n",
    "obj1 + obj2"
   ]
  },
  {
   "cell_type": "code",
   "execution_count": 26,
   "id": "baf79815-f77c-49e7-97c1-5a4dc9dbf291",
   "metadata": {},
   "outputs": [
    {
     "name": "stdout",
     "output_type": "stream",
     "text": [
      "14\n",
      "6\n",
      "4\n"
     ]
    }
   ],
   "source": [
    "#eg\n",
    "class A:\n",
    "    def add(self, a=None, b=None, c=None):\n",
    "        if a != None and b != None and c != None:\n",
    "            return a+b+c\n",
    "        elif a != None and b != None :\n",
    "            return a+b\n",
    "        else:\n",
    "            return a\n",
    "obj = A()\n",
    "print(obj.add(4,2,8))\n",
    "print(obj.add(4,2))\n",
    "print(obj.add(4))"
   ]
  },
  {
   "cell_type": "code",
   "execution_count": null,
   "id": "856d0e9c-4ca6-4316-a32e-dd6701f739f9",
   "metadata": {},
   "outputs": [],
   "source": [
    "#01-04-2025\n",
    "#duck typing\n",
    "#next(),iter()\n",
    "#generators\n",
    "#any() & all()\n",
    "#collections :namedtuple,ordereddictionary"
   ]
  },
  {
   "cell_type": "code",
   "execution_count": 1,
   "id": "68fb1f17-0e84-4f39-971a-be0e6096f6d8",
   "metadata": {},
   "outputs": [
    {
     "name": "stdout",
     "output_type": "stream",
     "text": [
      "duck have 2 legs\n",
      "tiger have 4 legs\n",
      "fish has no legs\n",
      "spider has 8 legs\n"
     ]
    }
   ],
   "source": [
    "class Duck:\n",
    "    def legs(self):\n",
    "        print(\"duck have 2 legs\")\n",
    "\n",
    "class Tiger:\n",
    "    def legs(self):\n",
    "        print(\"tiger have 4 legs\")\n",
    "\n",
    "class Spider:\n",
    "    def legs(self):\n",
    "        print(\"spider has 8 legs\")\n",
    "\n",
    "class Fish:\n",
    "    def legs(self):\n",
    "        print(\"fish has no legs\")\n",
    "\n",
    "\n",
    "for obj in (Duck(), Tiger(), Fish(), Spider()):\n",
    "    obj.legs()"
   ]
  },
  {
   "cell_type": "code",
   "execution_count": 8,
   "id": "4b102f53-3745-41c4-ad6f-4a4c4f9cac85",
   "metadata": {},
   "outputs": [
    {
     "data": {
      "text/plain": [
       "'h'"
      ]
     },
     "execution_count": 8,
     "metadata": {},
     "output_type": "execute_result"
    }
   ],
   "source": [
    "#inbuilt function to access elements one after the other\n",
    "a = \"hello\"\n",
    "a = iter(a)\n",
    "next(a)"
   ]
  },
  {
   "cell_type": "code",
   "execution_count": 9,
   "id": "e0447866-40fa-48b2-8396-fb8aa0b58cb9",
   "metadata": {},
   "outputs": [
    {
     "data": {
      "text/plain": [
       "'e'"
      ]
     },
     "execution_count": 9,
     "metadata": {},
     "output_type": "execute_result"
    }
   ],
   "source": [
    "next(a)"
   ]
  },
  {
   "cell_type": "code",
   "execution_count": 10,
   "id": "1e1aad0d-2b64-4981-afa1-fa0a2b7ab989",
   "metadata": {},
   "outputs": [
    {
     "data": {
      "text/plain": [
       "'l'"
      ]
     },
     "execution_count": 10,
     "metadata": {},
     "output_type": "execute_result"
    }
   ],
   "source": [
    "next(a)"
   ]
  },
  {
   "cell_type": "code",
   "execution_count": 11,
   "id": "5e6d646c-e9ec-46f6-be08-770a985230fc",
   "metadata": {},
   "outputs": [
    {
     "data": {
      "text/plain": [
       "1"
      ]
     },
     "execution_count": 11,
     "metadata": {},
     "output_type": "execute_result"
    }
   ],
   "source": [
    "l1 = [1,2,3]\n",
    "l1 = iter(l1)\n",
    "next(l1)"
   ]
  },
  {
   "cell_type": "code",
   "execution_count": 12,
   "id": "1203ba87-9314-49e9-a0de-0dcbda8f64d4",
   "metadata": {},
   "outputs": [
    {
     "data": {
      "text/plain": [
       "2"
      ]
     },
     "execution_count": 12,
     "metadata": {},
     "output_type": "execute_result"
    }
   ],
   "source": [
    "next(l1)"
   ]
  },
  {
   "cell_type": "code",
   "execution_count": 13,
   "id": "c311a9e4-f151-475b-b13c-902e033c123d",
   "metadata": {},
   "outputs": [
    {
     "data": {
      "text/plain": [
       "3"
      ]
     },
     "execution_count": 13,
     "metadata": {},
     "output_type": "execute_result"
    }
   ],
   "source": [
    "next(l1)"
   ]
  },
  {
   "cell_type": "code",
   "execution_count": 14,
   "id": "358d1d8a-6400-45eb-9f01-deb0d350d364",
   "metadata": {},
   "outputs": [
    {
     "name": "stdout",
     "output_type": "stream",
     "text": [
      "4\n",
      "5\n",
      "11\n"
     ]
    }
   ],
   "source": [
    "#generators \n",
    "\n",
    "def fun():\n",
    "    yield 4\n",
    "    yield 5\n",
    "    yield 11\n",
    "\n",
    "for value in fun():\n",
    "    print(value)"
   ]
  },
  {
   "cell_type": "code",
   "execution_count": null,
   "id": "15d4fdcb-15f4-4b20-8202-40882a8733fb",
   "metadata": {},
   "outputs": [],
   "source": [
    "# yield is used to create a generator, which allows you to return multiple values lazily.\n",
    "# return is used to return a single value, and when it’s used, the function execution terminates immediately.\n"
   ]
  },
  {
   "cell_type": "code",
   "execution_count": 15,
   "id": "124d71fe-4f21-4ed3-a56e-57cc523dad57",
   "metadata": {},
   "outputs": [
    {
     "ename": "TypeError",
     "evalue": "'int' object is not iterable",
     "output_type": "error",
     "traceback": [
      "\u001b[31m---------------------------------------------------------------------------\u001b[39m",
      "\u001b[31mTypeError\u001b[39m                                 Traceback (most recent call last)",
      "\u001b[36mCell\u001b[39m\u001b[36m \u001b[39m\u001b[32mIn[15]\u001b[39m\u001b[32m, line 6\u001b[39m\n\u001b[32m      3\u001b[39m     \u001b[38;5;28;01mreturn\u001b[39;00m \u001b[32m5\u001b[39m\n\u001b[32m      4\u001b[39m     \u001b[38;5;28;01mreturn\u001b[39;00m \u001b[32m11\u001b[39m\n\u001b[32m----> \u001b[39m\u001b[32m6\u001b[39m \u001b[38;5;28;43;01mfor\u001b[39;49;00m\u001b[43m \u001b[49m\u001b[43mvalue\u001b[49m\u001b[43m \u001b[49m\u001b[38;5;129;43;01min\u001b[39;49;00m\u001b[43m \u001b[49m\u001b[43mfun\u001b[49m\u001b[43m(\u001b[49m\u001b[43m)\u001b[49m\u001b[43m:\u001b[49m\n\u001b[32m      7\u001b[39m \u001b[43m    \u001b[49m\u001b[38;5;28;43mprint\u001b[39;49m\u001b[43m(\u001b[49m\u001b[43mvalue\u001b[49m\u001b[43m)\u001b[49m\n",
      "\u001b[31mTypeError\u001b[39m: 'int' object is not iterable"
     ]
    }
   ],
   "source": [
    "def fun():\n",
    "    return 4\n",
    "    return 5\n",
    "    return 11\n",
    "\n",
    "for value in fun():\n",
    "    print(value)"
   ]
  },
  {
   "cell_type": "code",
   "execution_count": 16,
   "id": "341c3024-7e28-4b9b-83e0-f367786c7083",
   "metadata": {},
   "outputs": [
    {
     "name": "stdout",
     "output_type": "stream",
     "text": [
      "4\n",
      "5\n",
      "11\n"
     ]
    }
   ],
   "source": [
    "def fun():\n",
    "    return [4, 5, 11]\n",
    "\n",
    "for value in fun():\n",
    "    print(value) "
   ]
  },
  {
   "cell_type": "code",
   "execution_count": 17,
   "id": "1bd4ca11-cc80-417a-9ed5-dede312d7848",
   "metadata": {},
   "outputs": [
    {
     "name": "stdout",
     "output_type": "stream",
     "text": [
      "4\n",
      "5\n",
      "11\n"
     ]
    }
   ],
   "source": [
    "def fun():\n",
    "    return iter([4, 5, 11]) \n",
    "\n",
    "for value in fun():\n",
    "    print(value) "
   ]
  },
  {
   "cell_type": "code",
   "execution_count": 27,
   "id": "204b233c-131d-47bd-ae15-cea069cdf032",
   "metadata": {},
   "outputs": [
    {
     "name": "stdout",
     "output_type": "stream",
     "text": [
      "4\n",
      "5\n",
      "11\n"
     ]
    }
   ],
   "source": [
    "def fun():\n",
    "    numbers = [4, 5, 11]\n",
    "    return numbers \n",
    "for i in fun():\n",
    "    print(i)"
   ]
  },
  {
   "cell_type": "code",
   "execution_count": 28,
   "id": "05d4af1e-dbee-4f6f-bff2-ced5800051f3",
   "metadata": {},
   "outputs": [
    {
     "name": "stdout",
     "output_type": "stream",
     "text": [
      "4\n",
      "5\n",
      "11\n"
     ]
    }
   ],
   "source": [
    "def fun():\n",
    "    numbers = [4, 5, 11]\n",
    "    for num in numbers:\n",
    "        yield num \n",
    "\n",
    "for value in fun():\n",
    "    print(value)"
   ]
  },
  {
   "cell_type": "code",
   "execution_count": null,
   "id": "25da2cb2-5209-4fbb-8cf0-4f98c61fa797",
   "metadata": {},
   "outputs": [],
   "source": [
    "# any(): Use when you want to check if at least one condition is true in an iterable.\n",
    "# all(): Use when you want to check if every condition is true in an iterable."
   ]
  },
  {
   "cell_type": "code",
   "execution_count": 29,
   "id": "216372a3-1fb5-42f2-b2bd-a6e45c67b5bd",
   "metadata": {},
   "outputs": [
    {
     "data": {
      "text/plain": [
       "True"
      ]
     },
     "execution_count": 29,
     "metadata": {},
     "output_type": "execute_result"
    }
   ],
   "source": [
    "#any()\n",
    "\n",
    "any([6,12,0,56,\"\"])"
   ]
  },
  {
   "cell_type": "code",
   "execution_count": 30,
   "id": "32a61e3c-3491-4da6-a781-12b0931f47c3",
   "metadata": {},
   "outputs": [
    {
     "data": {
      "text/plain": [
       "False"
      ]
     },
     "execution_count": 30,
     "metadata": {},
     "output_type": "execute_result"
    }
   ],
   "source": [
    "any([0,0,0,0])"
   ]
  },
  {
   "cell_type": "code",
   "execution_count": 31,
   "id": "a05d2d39-c43e-486b-98e3-b189829ef965",
   "metadata": {},
   "outputs": [
    {
     "data": {
      "text/plain": [
       "False"
      ]
     },
     "execution_count": 31,
     "metadata": {},
     "output_type": "execute_result"
    }
   ],
   "source": [
    "#all()\n",
    "all([6,12,0,56,\"\"])"
   ]
  },
  {
   "cell_type": "code",
   "execution_count": 32,
   "id": "a80ddb97-cca8-48fa-a7c4-114f22ac7a06",
   "metadata": {},
   "outputs": [
    {
     "data": {
      "text/plain": [
       "True"
      ]
     },
     "execution_count": 32,
     "metadata": {},
     "output_type": "execute_result"
    }
   ],
   "source": [
    "all([21,23,45])"
   ]
  },
  {
   "cell_type": "code",
   "execution_count": null,
   "id": "2175e598-ef58-422f-9c2f-382a80a274f2",
   "metadata": {},
   "outputs": [],
   "source": [
    "#collections\n",
    "\n",
    "# namedtuple: Immutable objects with named fields (like a lightweight class).\n",
    "# OrderedDict: Dictionary that preserves the insertion order.\n",
    "# defaultdict: Dictionary with a default value for missing keys.\n",
    "# deque: Efficient double-ended queue for fast appends and pops.\n",
    "# Counter: For counting hashable objects and their frequencies.\n",
    "# ChainMap: Combines multiple dictionaries into one view without merging them."
   ]
  },
  {
   "cell_type": "code",
   "execution_count": 34,
   "id": "5427bd43-a373-4bc5-a89a-840cf846b18e",
   "metadata": {},
   "outputs": [
    {
     "data": {
      "text/plain": [
       "5"
      ]
     },
     "execution_count": 34,
     "metadata": {},
     "output_type": "execute_result"
    }
   ],
   "source": [
    "tuple = (1,2,3,5,6)\n",
    "tuple[0]\n",
    "tuple[3]"
   ]
  },
  {
   "cell_type": "code",
   "execution_count": 36,
   "id": "79b2e714-48bf-4bd0-bbd9-2108827673d6",
   "metadata": {},
   "outputs": [
    {
     "name": "stdout",
     "output_type": "stream",
     "text": [
      "90\n",
      "90\n"
     ]
    }
   ],
   "source": [
    "#collections\n",
    "\n",
    "import collections as c\n",
    "\n",
    "s1 = c.namedtuple(\"s1\", [\"v1\",\"v2\",\"v3\",\"v4\"])\n",
    "s2 = s1(4,12,90,\"hello\")\n",
    "print(s2[2])\n",
    "print(s2.v3)"
   ]
  },
  {
   "cell_type": "code",
   "execution_count": 40,
   "id": "5e3a0a3e-8538-4eb3-b714-1f6467a040db",
   "metadata": {},
   "outputs": [
    {
     "data": {
      "text/plain": [
       "OrderedDict([('apple', 23), ('orange', 34), ('banana', 89)])"
      ]
     },
     "execution_count": 40,
     "metadata": {},
     "output_type": "execute_result"
    }
   ],
   "source": [
    "od = c.OrderedDict({\"apple\":23,\"orange\":34,\"banana\":89})\n",
    "\n",
    "od"
   ]
  },
  {
   "cell_type": "code",
   "execution_count": 39,
   "id": "b8b64eeb-f413-4f59-86e1-05e9e6d84847",
   "metadata": {},
   "outputs": [
    {
     "ename": "AttributeError",
     "evalue": "'collections.OrderedDict' object has no attribute 'apple'",
     "output_type": "error",
     "traceback": [
      "\u001b[31m---------------------------------------------------------------------------\u001b[39m",
      "\u001b[31mAttributeError\u001b[39m                            Traceback (most recent call last)",
      "\u001b[36mCell\u001b[39m\u001b[36m \u001b[39m\u001b[32mIn[39]\u001b[39m\u001b[32m, line 1\u001b[39m\n\u001b[32m----> \u001b[39m\u001b[32m1\u001b[39m \u001b[43mod\u001b[49m\u001b[43m.\u001b[49m\u001b[43mapple\u001b[49m\n",
      "\u001b[31mAttributeError\u001b[39m: 'collections.OrderedDict' object has no attribute 'apple'"
     ]
    }
   ],
   "source": [
    "od.apple"
   ]
  },
  {
   "cell_type": "code",
   "execution_count": 43,
   "id": "1624d23f-9109-460b-94ef-023245ee96f0",
   "metadata": {},
   "outputs": [
    {
     "name": "stdout",
     "output_type": "stream",
     "text": [
      "23\n"
     ]
    }
   ],
   "source": [
    "import collections as c\n",
    "\n",
    "od = c.OrderedDict({\"apple\": 23, \"orange\": 34, \"banana\": 89})\n",
    "\n",
    "print(od[\"apple\"])  "
   ]
  },
  {
   "cell_type": "code",
   "execution_count": 41,
   "id": "b7a41c02-8c6d-4634-b17d-a9117acb105a",
   "metadata": {},
   "outputs": [
    {
     "data": {
      "text/plain": [
       "23"
      ]
     },
     "execution_count": 41,
     "metadata": {},
     "output_type": "execute_result"
    }
   ],
   "source": [
    "from types import SimpleNamespace\n",
    "\n",
    "od = SimpleNamespace(**{\"apple\": 23, \"orange\": 34, \"banana\": 89})\n",
    "\n",
    "od.apple"
   ]
  },
  {
   "cell_type": "code",
   "execution_count": 44,
   "id": "0dd620e0-51c0-41d9-b745-a1bb5fc6ff03",
   "metadata": {},
   "outputs": [
    {
     "data": {
      "text/plain": [
       "23"
      ]
     },
     "execution_count": 44,
     "metadata": {},
     "output_type": "execute_result"
    }
   ],
   "source": [
    "od.pop(\"apple\")"
   ]
  },
  {
   "cell_type": "code",
   "execution_count": 45,
   "id": "a61d3f66-0a73-45bf-82e6-c58a3c2c7241",
   "metadata": {},
   "outputs": [
    {
     "data": {
      "text/plain": [
       "OrderedDict([('orange', 34), ('banana', 89)])"
      ]
     },
     "execution_count": 45,
     "metadata": {},
     "output_type": "execute_result"
    }
   ],
   "source": [
    "od"
   ]
  },
  {
   "cell_type": "code",
   "execution_count": null,
   "id": "8800462f-9ac7-49a9-bc10-2b9b300e8ba3",
   "metadata": {},
   "outputs": [],
   "source": [
    "#02-04-2025\n",
    "# collections: default dict,\n",
    "# counter,\n",
    "# deque,\n",
    "# chainmap\n",
    "\n"
   ]
  },
  {
   "cell_type": "code",
   "execution_count": 4,
   "id": "a4b05c1e-c18c-48c1-b7a5-3ea8d9690cb5",
   "metadata": {},
   "outputs": [
    {
     "name": "stdout",
     "output_type": "stream",
     "text": [
      "67\n",
      "350\n",
      "350\n"
     ]
    }
   ],
   "source": [
    "import collections as c\n",
    "\n",
    "d1 = c.defaultdict(lambda: 350)\n",
    "\n",
    "d1[\"apple\"] = 67\n",
    "d1[\"orange\"] = 90\n",
    "d1[\"banana\"] = 45\n",
    "\n",
    "print(d1[\"apple\"])\n",
    "print(d1[\"berry\"])\n",
    "print(d1[\"cherry\"])"
   ]
  },
  {
   "cell_type": "code",
   "execution_count": 17,
   "id": "53773449-7075-46c9-b0a4-ac1c12f212e1",
   "metadata": {},
   "outputs": [
    {
     "data": {
      "text/plain": [
       "Counter({1: 4, 2: 4, 3: 4, 4: 3, 5: 3, 6: 2})"
      ]
     },
     "execution_count": 17,
     "metadata": {},
     "output_type": "execute_result"
    }
   ],
   "source": [
    "#counter\n",
    "a = [1,1,2,2,3,4,2,3,1,4,5,5,4,3,2,1,5,6,3,6]\n",
    "c.Counter(a)\n"
   ]
  },
  {
   "cell_type": "code",
   "execution_count": 16,
   "id": "22427917-44cc-468e-b4e5-02a227c38c1b",
   "metadata": {},
   "outputs": [
    {
     "name": "stdout",
     "output_type": "stream",
     "text": [
      "value : count\n",
      "   1  :   4\n",
      "   2  :   4\n",
      "   3  :   4\n",
      "   4  :   3\n",
      "   5  :   3\n",
      "   6  :   2\n"
     ]
    }
   ],
   "source": [
    "\n",
    "a = [1,1,2,2,3,4,2,3,1,4,5,5,4,3,2,1,5,6,3,6]\n",
    "counter = c.Counter(a)\n",
    "print(\"value : count\")\n",
    "for i, j in counter.items(): \n",
    "    print(f\"   {i}  :   {j}\")"
   ]
  },
  {
   "cell_type": "code",
   "execution_count": 28,
   "id": "adb5e07b-ba6a-4621-ad9c-4f843a362268",
   "metadata": {},
   "outputs": [
    {
     "name": "stdout",
     "output_type": "stream",
     "text": [
      "[90, 25, 73, 45, 32]\n"
     ]
    }
   ],
   "source": [
    "#deque\n",
    "\n",
    "l1 = c.deque([25,73,45,32,])\n",
    "l1.appendleft(90)\n",
    "list = []\n",
    "for i in l1:\n",
    "    list.append(i)\n",
    "print(list)\n",
    "\n"
   ]
  },
  {
   "cell_type": "code",
   "execution_count": 32,
   "id": "e2d3158a-5d93-4dfe-93f7-6c463571162c",
   "metadata": {},
   "outputs": [
    {
     "name": "stdout",
     "output_type": "stream",
     "text": [
      "ChainMap({1: 6, 2: 6, 3: 5}, {'yellow': 6, 'green': 6, 'red': 5})\n"
     ]
    }
   ],
   "source": [
    "#chainmap\n",
    "\n",
    "d1 = {1:6, 2:6, 3:5}\n",
    "d2 = {\"yellow\":6,\"green\":6,\"red\":5}\n",
    "\n",
    "ans = c.ChainMap(d1,d2)\n",
    "print(ans)"
   ]
  },
  {
   "cell_type": "code",
   "execution_count": 35,
   "id": "c61f33e8-e241-43d0-88f9-be4bee4a5fdd",
   "metadata": {},
   "outputs": [
    {
     "name": "stdout",
     "output_type": "stream",
     "text": [
      "6\n",
      "6\n"
     ]
    }
   ],
   "source": [
    "print(ans['yellow'])\n",
    "print(ans[1])"
   ]
  },
  {
   "cell_type": "code",
   "execution_count": 38,
   "id": "ff35050c-d860-422c-9b6e-472fdb74344a",
   "metadata": {},
   "outputs": [
    {
     "ename": "RuntimeError",
     "evalue": "append method restricted",
     "output_type": "error",
     "traceback": [
      "\u001b[31m---------------------------------------------------------------------------\u001b[39m",
      "\u001b[31mRuntimeError\u001b[39m                              Traceback (most recent call last)",
      "\u001b[36mCell\u001b[39m\u001b[36m \u001b[39m\u001b[32mIn[38]\u001b[39m\u001b[32m, line 14\u001b[39m\n\u001b[32m     11\u001b[39m         \u001b[38;5;28;01mreturn\u001b[39;00m result\n\u001b[32m     13\u001b[39m obj = Customlist([\u001b[32m3\u001b[39m,\u001b[32m2\u001b[39m,\u001b[32m6\u001b[39m,\u001b[32m5\u001b[39m,\u001b[32m4\u001b[39m])\n\u001b[32m---> \u001b[39m\u001b[32m14\u001b[39m \u001b[43mobj\u001b[49m\u001b[43m.\u001b[49m\u001b[43mappend\u001b[49m\u001b[43m(\u001b[49m\u001b[43m)\u001b[49m\n",
      "\u001b[36mCell\u001b[39m\u001b[36m \u001b[39m\u001b[32mIn[38]\u001b[39m\u001b[32m, line 5\u001b[39m, in \u001b[36mCustomlist.append\u001b[39m\u001b[34m(self, a)\u001b[39m\n\u001b[32m      4\u001b[39m \u001b[38;5;28;01mdef\u001b[39;00m\u001b[38;5;250m \u001b[39m\u001b[34mappend\u001b[39m(\u001b[38;5;28mself\u001b[39m, a = \u001b[38;5;28;01mNone\u001b[39;00m):\n\u001b[32m----> \u001b[39m\u001b[32m5\u001b[39m     \u001b[38;5;28;01mraise\u001b[39;00m \u001b[38;5;167;01mRuntimeError\u001b[39;00m(\u001b[33m\"\u001b[39m\u001b[33mappend method restricted\u001b[39m\u001b[33m\"\u001b[39m)\n",
      "\u001b[31mRuntimeError\u001b[39m: append method restricted"
     ]
    }
   ],
   "source": [
    "#userlist\n",
    "\n",
    "class Customlist(c.UserList):\n",
    "    def append(self, a = None):\n",
    "        raise RuntimeError(\"append method restricted\")\n",
    "\n",
    "    def square(self):\n",
    "        result = []\n",
    "        for value in self:\n",
    "            result.append(value*value)\n",
    "        return result\n",
    "\n",
    "obj = Customlist([3,2,6,5,4])\n",
    "obj.append()"
   ]
  },
  {
   "cell_type": "code",
   "execution_count": 41,
   "id": "e3b86947-11b4-4138-a719-fa237f93c345",
   "metadata": {},
   "outputs": [
    {
     "data": {
      "text/plain": [
       "[9, 4, 36, 25, 16]"
      ]
     },
     "execution_count": 41,
     "metadata": {},
     "output_type": "execute_result"
    }
   ],
   "source": [
    "obj.square()"
   ]
  },
  {
   "cell_type": "code",
   "execution_count": 44,
   "id": "c4d59694-538e-43d2-b988-3a772415feb8",
   "metadata": {},
   "outputs": [
    {
     "ename": "RuntimeError",
     "evalue": "pop method disabled",
     "output_type": "error",
     "traceback": [
      "\u001b[31m---------------------------------------------------------------------------\u001b[39m",
      "\u001b[31mRuntimeError\u001b[39m                              Traceback (most recent call last)",
      "\u001b[36mCell\u001b[39m\u001b[36m \u001b[39m\u001b[32mIn[44]\u001b[39m\u001b[32m, line 15\u001b[39m\n\u001b[32m     11\u001b[39m         \u001b[38;5;28;01mreturn\u001b[39;00m \u001b[38;5;28msum\u001b[39m(result)\n\u001b[32m     14\u001b[39m obj = CustomDict({\u001b[33m'\u001b[39m\u001b[33myellow\u001b[39m\u001b[33m'\u001b[39m: \u001b[32m6\u001b[39m, \u001b[33m'\u001b[39m\u001b[33mgreen\u001b[39m\u001b[33m'\u001b[39m: \u001b[32m6\u001b[39m, \u001b[33m'\u001b[39m\u001b[33mred\u001b[39m\u001b[33m'\u001b[39m: \u001b[32m5\u001b[39m})\n\u001b[32m---> \u001b[39m\u001b[32m15\u001b[39m \u001b[43mobj\u001b[49m\u001b[43m.\u001b[49m\u001b[43mpop\u001b[49m\u001b[43m(\u001b[49m\u001b[43m)\u001b[49m\n",
      "\u001b[36mCell\u001b[39m\u001b[36m \u001b[39m\u001b[32mIn[44]\u001b[39m\u001b[32m, line 5\u001b[39m, in \u001b[36mCustomDict.pop\u001b[39m\u001b[34m(self, a)\u001b[39m\n\u001b[32m      4\u001b[39m \u001b[38;5;28;01mdef\u001b[39;00m\u001b[38;5;250m \u001b[39m\u001b[34mpop\u001b[39m(\u001b[38;5;28mself\u001b[39m, a = \u001b[38;5;28;01mNone\u001b[39;00m):\n\u001b[32m----> \u001b[39m\u001b[32m5\u001b[39m     \u001b[38;5;28;01mraise\u001b[39;00m \u001b[38;5;167;01mRuntimeError\u001b[39;00m(\u001b[33m\"\u001b[39m\u001b[33mpop method disabled\u001b[39m\u001b[33m\"\u001b[39m)\n",
      "\u001b[31mRuntimeError\u001b[39m: pop method disabled"
     ]
    }
   ],
   "source": [
    "#userdict\n",
    "\n",
    "class CustomDict(c.UserDict):\n",
    "    def pop(self, a = None):\n",
    "        raise RuntimeError(\"pop method disabled\")\n",
    "\n",
    "    def totalsum(self):\n",
    "        result = []\n",
    "        for value in self:\n",
    "            result.append(self[value])\n",
    "        return sum(result)\n",
    "\n",
    "\n",
    "obj = CustomDict({'yellow': 6, 'green': 6, 'red': 5})\n",
    "obj.pop()"
   ]
  },
  {
   "cell_type": "code",
   "execution_count": 45,
   "id": "bae145c7-aaa3-4761-ba02-418bf63e9a26",
   "metadata": {},
   "outputs": [
    {
     "data": {
      "text/plain": [
       "17"
      ]
     },
     "execution_count": 45,
     "metadata": {},
     "output_type": "execute_result"
    }
   ],
   "source": [
    "obj.totalsum()"
   ]
  }
 ],
 "metadata": {
  "kernelspec": {
   "display_name": "Python 3 (ipykernel)",
   "language": "python",
   "name": "python3"
  },
  "language_info": {
   "codemirror_mode": {
    "name": "ipython",
    "version": 3
   },
   "file_extension": ".py",
   "mimetype": "text/x-python",
   "name": "python",
   "nbconvert_exporter": "python",
   "pygments_lexer": "ipython3",
   "version": "3.13.2"
  }
 },
 "nbformat": 4,
 "nbformat_minor": 5
}

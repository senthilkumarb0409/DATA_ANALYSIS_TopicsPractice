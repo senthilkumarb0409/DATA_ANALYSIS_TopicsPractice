{
 "cells": [
  {
   "cell_type": "code",
   "execution_count": 1,
   "id": "529e885f-7c87-4b58-8854-f300d65feb20",
   "metadata": {},
   "outputs": [
    {
     "name": "stdout",
     "output_type": "stream",
     "text": [
      "Hello World\n"
     ]
    }
   ],
   "source": [
    "# 10/03/2025\n",
    "#introduction to python(installing python & setting up jupyter)\n",
    "#comments, documentation String\n",
    "#variables\n",
    "#rules to define variable\n",
    "\n",
    "#datatypes should be started 11/03/2025\n",
    "\n",
    "print(\"Hello World\")"
   ]
  },
  {
   "cell_type": "code",
   "execution_count": 5,
   "id": "96a0fe4b-b974-4143-a81d-b4e83b144688",
   "metadata": {},
   "outputs": [],
   "source": [
    "import pandas as pd"
   ]
  },
  {
   "cell_type": "code",
   "execution_count": 6,
   "id": "9d855c6d-a2f8-4788-ba1e-6bf640f21020",
   "metadata": {},
   "outputs": [],
   "source": [
    "data = {'Name': ['Alice', 'Bob', 'Charlie'], 'Age': [25, 30, 35]}\n",
    "df = pd.DataFrame(data)"
   ]
  },
  {
   "cell_type": "code",
   "execution_count": 7,
   "id": "47c2d846-6736-4f59-9457-a198b726d1e8",
   "metadata": {},
   "outputs": [
    {
     "name": "stdout",
     "output_type": "stream",
     "text": [
      "      Name  Age\n",
      "0    Alice   25\n",
      "1      Bob   30\n",
      "2  Charlie   35\n"
     ]
    }
   ],
   "source": [
    "print(df)"
   ]
  },
  {
   "cell_type": "code",
   "execution_count": 8,
   "id": "128d9282-c876-4184-9bcc-3222357f4151",
   "metadata": {},
   "outputs": [
    {
     "name": "stdout",
     "output_type": "stream",
     "text": [
      "0    1\n",
      "1    7\n",
      "2    2\n",
      "dtype: int64\n"
     ]
    }
   ],
   "source": [
    "a = [1, 7, 2]\n",
    "\n",
    "myvar = pd.Series(a)\n",
    "\n",
    "print(myvar)"
   ]
  },
  {
   "cell_type": "code",
   "execution_count": 9,
   "id": "f0a959e8-1cbf-4463-8110-5237555a23a2",
   "metadata": {},
   "outputs": [
    {
     "name": "stdout",
     "output_type": "stream",
     "text": [
      "1    1\n",
      "2    7\n",
      "3    2\n",
      "dtype: int64\n"
     ]
    }
   ],
   "source": [
    "myvar2 = pd.Series(a, index = [\"1\", \"2\", \"3\"])\n",
    "\n",
    "print(myvar2)"
   ]
  },
  {
   "cell_type": "code",
   "execution_count": 4,
   "id": "74e09ef2-9f06-4884-a319-5550ba918dbb",
   "metadata": {},
   "outputs": [
    {
     "name": "stdout",
     "output_type": "stream",
     "text": [
      "Hello World\n"
     ]
    }
   ],
   "source": [
    "print(\"Hello World\")\n",
    "\n",
    "#it is embedded programming language\n",
    "\n",
    "# \"# - single line command \"\"\" \"\"\" - documentation string\""
   ]
  },
  {
   "cell_type": "code",
   "execution_count": null,
   "id": "2475d9af-e71d-4399-81a3-af0cd48b4ade",
   "metadata": {},
   "outputs": [],
   "source": [
    "1. a variable can start with upper or lowercase or undercases.\n",
    "2.should not start with integer.\n",
    "3.should not contain any special character.\n",
    "4.keywords should not be used as variables as they have their unique meanings.\n",
    "5.variables are case sensitive (means  Apple and apple are different)"
   ]
  },
  {
   "cell_type": "code",
   "execution_count": 10,
   "id": "d5b94e7a-aafa-477f-8209-bf82e710c7ee",
   "metadata": {},
   "outputs": [
    {
     "name": "stdout",
     "output_type": "stream",
     "text": [
      "45 46 47 \n",
      "each have their own value if they means the same name\n"
     ]
    }
   ],
   "source": [
    "apple = 45\n",
    "Apple = 46\n",
    "APPLE = 47\n",
    "ApPlE = \"\\neach have their own value if they means the same name\"\n",
    "print(apple,Apple,APPLE,ApPlE)"
   ]
  },
  {
   "cell_type": "code",
   "execution_count": null,
   "id": "55ce1094-a87c-499c-aec8-23bf1cfb34e1",
   "metadata": {},
   "outputs": [],
   "source": [
    "# 11/03/2025\n",
    "#datatypes skipped\n",
    "# indexing slicing"
   ]
  },
  {
   "cell_type": "code",
   "execution_count": 17,
   "id": "a7045bb6-8ac9-4a03-86d6-01c49b417250",
   "metadata": {},
   "outputs": [
    {
     "data": {
      "text/plain": [
       "' types of indexing\\n    1. positive indexing - starts from 0 to end -1 (left to right)\\n    2. negative indexing - starts from -1 to end - start (right to left)'"
      ]
     },
     "execution_count": 17,
     "metadata": {},
     "output_type": "execute_result"
    }
   ],
   "source": [
    "#indexing \n",
    "\"\"\" types of indexing\n",
    "    1. positive indexing - starts from 0 to end -1 (left to right)\n",
    "    2. negative indexing - starts from -1 to end - start (right to left)\"\"\"\n"
   ]
  },
  {
   "cell_type": "code",
   "execution_count": 18,
   "id": "db407907-7a6b-425b-be7a-ce378927d14a",
   "metadata": {},
   "outputs": [
    {
     "name": "stdout",
     "output_type": "stream",
     "text": [
      "r\n"
     ]
    },
    {
     "data": {
      "text/plain": [
       "'t'"
      ]
     },
     "execution_count": 18,
     "metadata": {},
     "output_type": "execute_result"
    }
   ],
   "source": [
    "a = \"HelloWorld\"\n",
    "b = \"Welcometopracticesession\"\n",
    "print(a[7])\n",
    "b[7]"
   ]
  },
  {
   "cell_type": "code",
   "execution_count": 29,
   "id": "c81838a2-d2bc-4844-bfcc-6b72e926be9d",
   "metadata": {},
   "outputs": [
    {
     "name": "stdout",
     "output_type": "stream",
     "text": [
      "Welcome to practice session \n",
      "ession \n"
     ]
    }
   ],
   "source": [
    "s = \"Welcome to practice session \"\n",
    "a = s[0:]\n",
    "b = s[-7:]\n",
    "\n",
    "print(a)\n",
    "print(b)"
   ]
  },
  {
   "cell_type": "code",
   "execution_count": 28,
   "id": "8f20e787-7802-45d2-9667-ab7572686394",
   "metadata": {},
   "outputs": [
    {
     "data": {
      "text/plain": [
       "'practice'"
      ]
     },
     "execution_count": 28,
     "metadata": {},
     "output_type": "execute_result"
    }
   ],
   "source": [
    "s[11:19]"
   ]
  },
  {
   "cell_type": "code",
   "execution_count": 30,
   "id": "e0818a9c-7792-4a54-bd92-43f512981446",
   "metadata": {},
   "outputs": [
    {
     "data": {
      "text/plain": [
       "'Welcome to practice session'"
      ]
     },
     "execution_count": 30,
     "metadata": {},
     "output_type": "execute_result"
    }
   ],
   "source": [
    "s[:-1]"
   ]
  },
  {
   "cell_type": "code",
   "execution_count": null,
   "id": "0300898a-220d-46e0-8613-5ca418c83f1d",
   "metadata": {},
   "outputs": [],
   "source": [
    "#12/03/2025\n",
    "#input function\n",
    "#eval keyword\n",
    "#string formatting\n",
    "#DataStructure-(list,tuple,set,dictionary,range)"
   ]
  },
  {
   "cell_type": "code",
   "execution_count": 31,
   "id": "215e6c22-35b5-4520-a831-677f2edfeb5e",
   "metadata": {},
   "outputs": [
    {
     "name": "stdin",
     "output_type": "stream",
     "text": [
      "Enter a input Senthil Kumar.B\n"
     ]
    },
    {
     "data": {
      "text/plain": [
       "str"
      ]
     },
     "execution_count": 31,
     "metadata": {},
     "output_type": "execute_result"
    }
   ],
   "source": [
    "a = input(\"Enter a input\")\n",
    "type(a)"
   ]
  },
  {
   "cell_type": "code",
   "execution_count": 37,
   "id": "7fb53ecc-0828-457e-8d9a-1f4250748252",
   "metadata": {},
   "outputs": [
    {
     "name": "stdin",
     "output_type": "stream",
     "text": [
      "enter a input(string) \"Senthil Kumar .B\"\n",
      "enter a input(integer) 23\n",
      "enter a input(float) 78.89898988\n"
     ]
    },
    {
     "name": "stdout",
     "output_type": "stream",
     "text": [
      "<class 'str'>\n",
      "<class 'int'>\n",
      "<class 'float'>\n"
     ]
    }
   ],
   "source": [
    "a1 = eval(input(\"enter a input(string)\"))\n",
    "a2 = eval(input(\"enter a input(integer)\"))\n",
    "a3 = eval(input(\"enter a input(float)\"))\n",
    "print(type (a1))\n",
    "print(type (a2))\n",
    "print(type (a3))\n",
    "\n"
   ]
  },
  {
   "cell_type": "code",
   "execution_count": 39,
   "id": "a5258cd7-de50-4561-a1e4-163d5a3c4016",
   "metadata": {},
   "outputs": [
    {
     "name": "stdout",
     "output_type": "stream",
     "text": [
      "My name is Senthil Kumar .B and I am 23 years old and my cgpa is 78.898990\n"
     ]
    }
   ],
   "source": [
    "#string formatting\n",
    "\n",
    "#Using %\n",
    "#%s- string, %d- integer , %f - float\n",
    "\n",
    "print(\"My name is %s and I am %d years old and my cgpa is %f\"%(a1,a2,a3))"
   ]
  },
  {
   "cell_type": "code",
   "execution_count": 40,
   "id": "60bf7886-b6f1-4c33-96ad-442c388e5b2e",
   "metadata": {},
   "outputs": [
    {
     "name": "stdout",
     "output_type": "stream",
     "text": [
      "My name is Senthil Kumar .B and I am 23 years old and my cgpa is 78.89898988\n"
     ]
    }
   ],
   "source": [
    "#Using .format\n",
    "\n",
    "print(\"My name is {} and I am {} years old and my cgpa is {}\".format(a1,a2,a3))"
   ]
  },
  {
   "cell_type": "code",
   "execution_count": 41,
   "id": "97d019ee-7809-4b5b-94ea-2a10a3b5d3e2",
   "metadata": {},
   "outputs": [
    {
     "name": "stdout",
     "output_type": "stream",
     "text": [
      "My name is Senthil Kumar .B and I am 23 years old and my cgpa is 78.89898988\n"
     ]
    }
   ],
   "source": [
    "#Using f string\n",
    "\n",
    "print(f\"My name is {a1} and I am {a2} years old and my cgpa is {a3}\")"
   ]
  },
  {
   "cell_type": "code",
   "execution_count": 73,
   "id": "26dcf762-0ca8-4a1e-be48-8ce92fc0f572",
   "metadata": {},
   "outputs": [
    {
     "name": "stdout",
     "output_type": "stream",
     "text": [
      "[4, 2.1, 'Senthil', True]\n",
      "[1, 2, 3, 4, 5]\n",
      "['hi', 'hello', 'greetings', 'welcome', 'good day']\n"
     ]
    }
   ],
   "source": [
    "#list - mutable,have duplicates, heterogeneous(different datatypes)\n",
    "# append - add value at end , insert - specific position\n",
    "# merging list using 1. + operator 2. extend - multiple values or another list at the end\n",
    "# 3. += operator.\n",
    "\n",
    "# del to delete entire list use with slice concept to delete a sequence of values\n",
    "# pop to delete a specific values from a postion if not mentioned last position will be removed\n",
    "# remove delete based on value if duplicate is there it will delete the first occurenece\n",
    "# clear will remove the values but empty list will be there.\n",
    "\n",
    "#sort\n",
    "#reverse\n",
    "\n",
    "\n",
    "\n",
    "l1 = [4, 2.1, 'Senthil', True]\n",
    "l2 = [1,2,3,4,5]\n",
    "l3 = ['hi', 'hello', 'greetings', 'welcome', 'good day']\n",
    "print(l1)\n",
    "print(l2)\n",
    "print(l3)"
   ]
  },
  {
   "cell_type": "code",
   "execution_count": 46,
   "id": "ed153d48-83f1-4c57-a6d1-459965138009",
   "metadata": {},
   "outputs": [
    {
     "name": "stdout",
     "output_type": "stream",
     "text": [
      "[4, 2.1, 'Senthil', True] [2.1, 'Senthil']\n"
     ]
    }
   ],
   "source": [
    "print(l1[0:],\n",
    "l1[1:3])"
   ]
  },
  {
   "cell_type": "code",
   "execution_count": 69,
   "id": "2e5e0519-a179-4548-8b3f-cf84e8aa168e",
   "metadata": {},
   "outputs": [],
   "source": [
    "l1.clear()\n",
    "l2.clear()\n",
    "l3.clear()"
   ]
  },
  {
   "cell_type": "code",
   "execution_count": 71,
   "id": "9b07845a-650f-4fc6-bb35-1976e000d2aa",
   "metadata": {},
   "outputs": [
    {
     "name": "stdout",
     "output_type": "stream",
     "text": [
      "[4, 2.1, 'Senthil', True, 6]\n",
      "[1, 2, 3, 4, 'Kumar', 5]\n",
      "['hi', 'hello', 'greetings', 'welcome', 'good day', 1, 2, 3, 4, 'Kumar', 5]\n"
     ]
    }
   ],
   "source": [
    "\n",
    "l1.append(6)\n",
    "print(l1)\n",
    "l2.insert(4, 'Kumar')\n",
    "print(l2)\n",
    "l3.extend(l2)\n",
    "print(l3)"
   ]
  },
  {
   "cell_type": "code",
   "execution_count": 72,
   "id": "1be52268-8c06-493a-9df6-093c8f8d5966",
   "metadata": {},
   "outputs": [
    {
     "name": "stdout",
     "output_type": "stream",
     "text": [
      "[4, 2.1, 'Senthil', True, 6]\n",
      "[1, 2, 3, 4, 'Kumar', 5]\n",
      "['hi', 'hello', 'greetings', 'welcome', 'good day', 1, 2, 3, 4, 'Kumar', 5]\n"
     ]
    }
   ],
   "source": [
    "print(l1)\n",
    "print(l2)\n",
    "print(l3)"
   ]
  },
  {
   "cell_type": "code",
   "execution_count": 75,
   "id": "07c570fc-d4e3-4410-9c2c-f14e1dd49eee",
   "metadata": {},
   "outputs": [
    {
     "name": "stdout",
     "output_type": "stream",
     "text": [
      "[4, 5, 6, 7, 8, 9, 10]\n",
      "[4, 5, 6, 7, 8, 9, 10]\n",
      "2425314107072\n",
      "2425314107072\n"
     ]
    }
   ],
   "source": [
    "#duplicating\n",
    "list1 = [4,5,6,7,8,9,10]\n",
    "list2 = list1\n",
    "print(list1)\n",
    "print(list2)\n",
    "print(id(list1))\n",
    "print(id(list2))"
   ]
  },
  {
   "cell_type": "code",
   "execution_count": 76,
   "id": "c0e2967b-60a6-40a4-b25c-a421589ff7b1",
   "metadata": {},
   "outputs": [
    {
     "name": "stdout",
     "output_type": "stream",
     "text": [
      "[4, 5, 6, 7, 8, 9, 10]\n",
      "[4, 5, 6, 7, 8, 9, 10]\n",
      "2425314103808\n",
      "2425313971200\n"
     ]
    }
   ],
   "source": [
    "#renaming\n",
    "list1 = [4,5,6,7,8,9,10]\n",
    "list2 = list1.copy()\n",
    "print(list1)\n",
    "print(list2)\n",
    "print(id(list1))\n",
    "print(id(list2))"
   ]
  },
  {
   "cell_type": "code",
   "execution_count": 86,
   "id": "135e313e-af0c-4e7c-88ac-8a7961e20207",
   "metadata": {},
   "outputs": [
    {
     "data": {
      "text/plain": [
       "2"
      ]
     },
     "execution_count": 86,
     "metadata": {},
     "output_type": "execute_result"
    }
   ],
   "source": [
    "#unpacking\n",
    "\n",
    "[hi, hello] = [1,2]\n",
    "hello"
   ]
  },
  {
   "cell_type": "code",
   "execution_count": 85,
   "id": "fb19cd3d-1b1d-4637-acc6-a7917619284e",
   "metadata": {},
   "outputs": [
    {
     "data": {
      "text/plain": [
       "1"
      ]
     },
     "execution_count": 85,
     "metadata": {},
     "output_type": "execute_result"
    }
   ],
   "source": [
    "hi"
   ]
  },
  {
   "cell_type": "code",
   "execution_count": 87,
   "id": "34d70f13-8c4c-453f-a82c-954c53efec09",
   "metadata": {},
   "outputs": [
    {
     "name": "stdout",
     "output_type": "stream",
     "text": [
      "1\n",
      "6\n",
      "11\n",
      "37\n",
      "3\n"
     ]
    }
   ],
   "source": [
    "#commom methods or functions used with in built data structure(list,tuple,set,dict)\n",
    "list = [2,3,4,4,5,6,5,3,2,1,2]\n",
    "print(min(list))\n",
    "print(max(list))\n",
    "print(len(list))\n",
    "print(sum(list))\n",
    "print(list.count(2))\n"
   ]
  },
  {
   "cell_type": "code",
   "execution_count": 103,
   "id": "f85eac33-e45d-4f7b-918c-040f141178ee",
   "metadata": {},
   "outputs": [
    {
     "name": "stdout",
     "output_type": "stream",
     "text": [
      "(2, 3, 4, 4, 5, 6, 5, 3, 2, 1, 2)\n",
      "1\n",
      "6\n",
      "11\n",
      "37\n",
      "3\n"
     ]
    }
   ],
   "source": [
    "#tuple - immutable (we cannot perform insert,delete, append, extend directly)\n",
    "#it is enclosed within paranthesis.\n",
    "\n",
    " \n",
    "#Functions you can use directly with tuples (immutable):\n",
    "\n",
    "#Access elements (indexing, slicing)\n",
    "#len()\n",
    "#count()\n",
    "#index()\n",
    "#Concatenation (+)\n",
    "#Repetition (*)\n",
    "#Membership (in)\n",
    "\n",
    "#Functions requiring conversion to a list:\n",
    "\n",
    "#sort()\n",
    "#append()\n",
    "#insert()\n",
    "#remove()\n",
    "#extend()\n",
    "#pop()\n",
    "\n",
    "\n",
    "\n",
    "\n",
    "mytuple = tuple(list)\n",
    "\n",
    "print(mytuple)\n",
    "\n",
    "print(min(mytuple))\n",
    "print(max(mytuple))\n",
    "print(len(mytuple))\n",
    "print(sum(mytuple))\n",
    "print(mytuple.count(2))\n",
    "\n",
    "\n"
   ]
  },
  {
   "cell_type": "code",
   "execution_count": 111,
   "id": "41b25368-b8fd-4e26-9481-923c3409a27f",
   "metadata": {},
   "outputs": [
    {
     "name": "stdout",
     "output_type": "stream",
     "text": [
      "{'a': 98, 'b': 100, 'c': 97}\n",
      "{'a': 98, 'b': 100, 'c': 99}\n",
      "{'a': 98, 'b': 100, 'c': 99, 'd': 101}\n"
     ]
    }
   ],
   "source": [
    "#dictionary - mutable , no indexing because it isunordered , no duplicate key are allowed\n",
    "#if try add a key that already exists it just update with new value\n",
    "# or else it add the key : value at the end of the dictionary.\n",
    "\n",
    "\n",
    "#Functions common to dictionaries, lists, and tuples:\n",
    "\n",
    "#len()\n",
    "#in\n",
    "#max() and min()\n",
    "#sorted()\n",
    "\n",
    "#Unique to dictionaries:\n",
    "\n",
    "#keys()\n",
    "#values()\n",
    "#items()\n",
    "#get()\n",
    "#pop()\n",
    "#update()\n",
    "#setdefault()\n",
    "\n",
    "dis = {\"a\" : 98, \"b\":100, \"c\": 97 }\n",
    "\n",
    "print (dis)\n",
    "\n",
    "dis[\"c\"] = 99\n",
    "\n",
    "print (dis)\n",
    "\n",
    "dis[\"d\"] = 101\n",
    "\n",
    "print(dis)\n",
    "\n",
    "\n"
   ]
  },
  {
   "cell_type": "code",
   "execution_count": 112,
   "id": "92aa2066-908a-4570-8467-9625b74c743f",
   "metadata": {},
   "outputs": [
    {
     "name": "stdout",
     "output_type": "stream",
     "text": [
      "{'a': 98, 'b': 100, 'c': 99, 'd': 101}\n",
      "{'e': 100, 'f': 103, 'g': 102}\n",
      "{'a': 98, 'b': 100, 'c': 99, 'd': 101, 'e': 100, 'f': 103, 'g': 102}\n"
     ]
    }
   ],
   "source": [
    "#merging - update\n",
    "dis2 = {\"e\": 100, \"f\":103, \"g\": 102}\n",
    "\n",
    "print (dis)\n",
    "print(dis2)\n",
    "\n",
    "dis.update(dis2)\n",
    "\n",
    "print(dis)\n"
   ]
  },
  {
   "cell_type": "code",
   "execution_count": 113,
   "id": "37d653e1-ed69-4be7-b03c-ae6b0b74f2ae",
   "metadata": {},
   "outputs": [
    {
     "name": "stdout",
     "output_type": "stream",
     "text": [
      "{True, 2, 3, 34, 5, 'hi'}\n"
     ]
    }
   ],
   "source": [
    "# set - do not allow duplicates , unordered data structure, heterogenous\n",
    "#discard - remove using value and not show error if value not present\n",
    "#union, intersection, difference, symmentric diffrence\n",
    "\n",
    "\n",
    "\n",
    "s1 = {2,3,34,5,3,\"hi\",True}\n",
    "\n",
    "print(s1)"
   ]
  },
  {
   "cell_type": "code",
   "execution_count": null,
   "id": "dac8d2c6-1790-4ef7-b322-fe2e7ae47085",
   "metadata": {},
   "outputs": [],
   "source": []
  },
  {
   "cell_type": "code",
   "execution_count": null,
   "id": "3b80ae1e-bfd5-4b00-bba4-905ed736e2df",
   "metadata": {},
   "outputs": [],
   "source": [
    "#13/03/2025\n",
    "#range - iterable object\n",
    "#mutable and immutable operators\n",
    "#1.arthmetic operators\n",
    "#2.assignment operators\n",
    "#3.comparison operators\n",
    "\n"
   ]
  },
  {
   "cell_type": "code",
   "execution_count": 6,
   "id": "b8365041-2738-43d4-b468-56402fa8c654",
   "metadata": {},
   "outputs": [
    {
     "name": "stdout",
     "output_type": "stream",
     "text": [
      "0\n",
      "1\n",
      "2\n",
      "3\n",
      "4\n",
      "5\n",
      "6\n",
      "7\n",
      "8\n",
      "9\n",
      "[0, 1, 2, 3, 4, 5, 6, 7, 8, 9]\n",
      "(0, 1, 2, 3, 4, 5, 6, 7, 8, 9)\n",
      "0\n",
      "1\n",
      "2\n",
      "3\n",
      "4\n",
      "5\n",
      "6\n",
      "7\n",
      "8\n",
      "9\n"
     ]
    }
   ],
   "source": [
    "# range\n",
    "\n",
    "a = range(10)\n",
    "\n",
    "for i in a:\n",
    "    print(i)\n",
    "\n",
    "print(list(a))\n",
    "print(tuple(a))\n",
    "\n",
    "for i in list(a):\n",
    "    print(i)"
   ]
  },
  {
   "cell_type": "code",
   "execution_count": 7,
   "id": "8fca4b80-dc84-490f-8886-3504be02a913",
   "metadata": {},
   "outputs": [
    {
     "name": "stdout",
     "output_type": "stream",
     "text": [
      "[10, 12, 14, 16, 18, 20, 22, 24, 26, 28]\n"
     ]
    }
   ],
   "source": [
    "c = range(10, 30, 2)\n",
    "\n",
    "print(list(c))"
   ]
  },
  {
   "cell_type": "code",
   "execution_count": 14,
   "id": "6d06cc1a-e981-45d1-b65d-f1d5eb3f9ad8",
   "metadata": {},
   "outputs": [
    {
     "name": "stdout",
     "output_type": "stream",
     "text": [
      "10\n",
      "20\n",
      "2\n",
      "3\n",
      "\n",
      "30\n",
      "10\n",
      "200\n",
      "6.666666666666667\n",
      "2\n",
      "6\n",
      "8\n",
      "\n",
      "10\n",
      "20\n",
      "2\n",
      "3\n"
     ]
    }
   ],
   "source": [
    "#arthmetic operators - immutable operator\n",
    "\n",
    "a = 10 \n",
    "b = 20\n",
    "c = 2\n",
    "d = 3\n",
    "\n",
    "print(a)\n",
    "print(b)\n",
    "print(c)\n",
    "print(d)\n",
    "print()\n",
    "print(a+b)\n",
    "print(b-a)\n",
    "print(a*b)\n",
    "print(b/d)\n",
    "print(b%d)\n",
    "print(b//d)\n",
    "print(c**d)\n",
    "print()\n",
    "print(a)\n",
    "print(b)\n",
    "print(c)\n",
    "print(d)"
   ]
  },
  {
   "cell_type": "code",
   "execution_count": 18,
   "id": "bc2956f5-4805-4b11-9e23-6753b3f26795",
   "metadata": {},
   "outputs": [
    {
     "name": "stdout",
     "output_type": "stream",
     "text": [
      "10\n",
      "20\n",
      "2\n",
      "3\n",
      "\n",
      "12\n",
      "18\n",
      "4\n",
      "1.5\n",
      "\n"
     ]
    }
   ],
   "source": [
    "#assignment operators - mutable operators\n",
    "\n",
    "a = 10 \n",
    "b = 20\n",
    "c = 2\n",
    "d = 3\n",
    "\n",
    "print(a)\n",
    "print(b)\n",
    "print(c)\n",
    "print(d)\n",
    "print()\n",
    "\n",
    "a += 2\n",
    "b -= 2\n",
    "c *= 2\n",
    "d /= 2\n",
    "\n",
    "\n",
    "print(a)\n",
    "print(b)\n",
    "print(c)\n",
    "print(d)\n",
    "print()\n"
   ]
  },
  {
   "cell_type": "code",
   "execution_count": 22,
   "id": "dbfe6efd-de4b-4d92-acfe-7b48010e8c84",
   "metadata": {},
   "outputs": [
    {
     "name": "stdout",
     "output_type": "stream",
     "text": [
      "True\n",
      "True\n",
      "True\n",
      "True\n",
      "False\n",
      "False\n"
     ]
    }
   ],
   "source": [
    "#comparison operator - immutable operator\n",
    "\n",
    "a = 10 \n",
    "b = 20\n",
    "c = 2\n",
    "d = 3\n",
    "e = 20 \n",
    "\n",
    "print (a<b)\n",
    "print (b>c)\n",
    "print (b<=e)\n",
    "print (b >= c)\n",
    "print(b != e)\n",
    "print ( c == d)\n",
    "\n",
    "\n",
    "\n",
    "\n",
    "\n"
   ]
  },
  {
   "cell_type": "code",
   "execution_count": null,
   "id": "bce608b3-36df-46b8-9b5b-103d920c61c6",
   "metadata": {},
   "outputs": [],
   "source": [
    "#14/03/2025\n",
    "#4.logical operators\n",
    "#5. identical operators\n",
    "#6.membership operators\n",
    "#7.bitwise operator\n",
    "#8.right shift and left shift"
   ]
  },
  {
   "cell_type": "code",
   "execution_count": null,
   "id": "8252140d-873f-4ce7-9003-62267071985e",
   "metadata": {},
   "outputs": [],
   "source": [
    "#logical operator - immutable operators"
   ]
  },
  {
   "cell_type": "code",
   "execution_count": 30,
   "id": "d0440dbd-60df-4393-ad56-3b185b15af6f",
   "metadata": {},
   "outputs": [
    {
     "name": "stdout",
     "output_type": "stream",
     "text": [
      "0\n",
      "1\n",
      "0\n",
      "0\n",
      "\n",
      "1\n",
      "1\n",
      "0\n",
      "1\n",
      "\n",
      "True\n",
      "False\n",
      "False\n",
      "True\n"
     ]
    }
   ],
   "source": [
    "print(1 and 0)\n",
    "print(1 and 1)\n",
    "print(0 and 0)\n",
    "print(0 and 1)\n",
    "print()\n",
    "print(1 or 0)\n",
    "print(1 or 1)\n",
    "print(0 or 0)\n",
    "print(0 or 1)\n",
    "print()\n",
    "\n",
    "print(not 0)\n",
    "print(not 1)\n",
    "print(not True)\n",
    "print(not False)"
   ]
  },
  {
   "cell_type": "code",
   "execution_count": 43,
   "id": "7fab0377-8317-43a0-b206-1d90c4aee0b9",
   "metadata": {},
   "outputs": [
    {
     "name": "stdout",
     "output_type": "stream",
     "text": [
      "8\n",
      "8\n",
      "140708167353480\n",
      "140708167353480\n",
      "140708167353480\n",
      "True\n",
      "True\n",
      "10\n",
      "140708167353544\n"
     ]
    }
   ],
   "source": [
    "\n",
    "\n",
    "a = 8\n",
    "b = 8\n",
    "\n",
    "print(a)\n",
    "print(b)\n",
    "\n",
    "print(id(a))\n",
    "print(id(b))\n",
    "\n",
    "c = a\n",
    "\n",
    "print(id(c))\n",
    "\n",
    "print(a == b)\n",
    "print( c == a)\n",
    "\n",
    "c += 2\n",
    "\n",
    "print (c)\n",
    "print(id(c))\n",
    "\n"
   ]
  },
  {
   "cell_type": "code",
   "execution_count": 41,
   "id": "c460480e-8940-42ba-be02-260c2f519ee9",
   "metadata": {},
   "outputs": [
    {
     "data": {
      "text/plain": [
       "True"
      ]
     },
     "execution_count": 41,
     "metadata": {},
     "output_type": "execute_result"
    }
   ],
   "source": [
    "#identical operator - checks memory address\n",
    "a is b"
   ]
  },
  {
   "cell_type": "code",
   "execution_count": 42,
   "id": "49be0de2-a542-4bb2-9853-83bb6b4d90f2",
   "metadata": {},
   "outputs": [
    {
     "name": "stdout",
     "output_type": "stream",
     "text": [
      "True\n",
      "False\n",
      "True\n"
     ]
    }
   ],
   "source": [
    "l1 = [1,2,3]\n",
    "l2 = [1,2,3]\n",
    "\n",
    "print(l1 == l2) # comparison - checks values\n",
    "print (l1 is l2) #identity - checks memory\n",
    "print(l1 is not l2)"
   ]
  },
  {
   "cell_type": "code",
   "execution_count": 46,
   "id": "ddddadaa-ba3f-423a-bf43-42f44be9654e",
   "metadata": {},
   "outputs": [
    {
     "name": "stdout",
     "output_type": "stream",
     "text": [
      "True\n",
      "False\n",
      "False\n",
      "False\n"
     ]
    }
   ],
   "source": [
    "#membership operators\n",
    "\n",
    "mem = [23 , 45, 66, 89, 67]\n",
    "\n",
    "print(23 in mem)\n",
    "print(56 in mem)\n",
    "print(89 not in mem)\n",
    "print(100 in mem)"
   ]
  },
  {
   "cell_type": "code",
   "execution_count": 49,
   "id": "66abae0c-f704-4936-996d-76e8f4425d4a",
   "metadata": {},
   "outputs": [
    {
     "name": "stdout",
     "output_type": "stream",
     "text": [
      "0b1000\n",
      "0o10\n",
      "0x8\n",
      "8\n",
      "8.0\n",
      "(8+0j)\n",
      "True\n"
     ]
    }
   ],
   "source": [
    "a = 8\n",
    "print(bin(a))\n",
    "print(oct(a))\n",
    "print(hex(a))\n",
    "print(str(a))\n",
    "print(float(a))\n",
    "print(complex(a))\n",
    "print(bool(a))"
   ]
  },
  {
   "cell_type": "code",
   "execution_count": 52,
   "id": "714569ab-f0c6-40aa-886b-54fad76130ba",
   "metadata": {},
   "outputs": [
    {
     "name": "stdout",
     "output_type": "stream",
     "text": [
      "4\n",
      "7\n",
      "4\n"
     ]
    }
   ],
   "source": [
    "#bitwise operator\n",
    "\n",
    "print(5 & 6)\n",
    "print(5 | 6)\n",
    "print(~-5)\n",
    "\n",
    "# 5  = 101\n",
    "# 6  = 110\n",
    "\n",
    "#AND = 100 = 4\n",
    "# OR = 111 = 7\n",
    "# ~-5 = (-n-1) = -(-5) -1 = 5 - 1 = 4\n",
    "\n",
    "\n",
    "\n"
   ]
  },
  {
   "cell_type": "code",
   "execution_count": 55,
   "id": "44ec44ce-153b-484d-b2bf-40b838160e7f",
   "metadata": {},
   "outputs": [
    {
     "name": "stdout",
     "output_type": "stream",
     "text": [
      "0b1000\n",
      "2\n",
      "0b10\n",
      "0b1000\n",
      "32\n",
      "0b100000\n"
     ]
    }
   ],
   "source": [
    "#right shfit & left shfit\n",
    "\n",
    "#right shfit - remove last mentioned number of bits\n",
    "\n",
    "print(bin(8))\n",
    "print( 8 >> 2)\n",
    "print(bin(8 >> 2))\n",
    "\n",
    "#left shfit - add  number of 0  mentioned number of bits to the last\n",
    "\n",
    "print(bin(8))\n",
    "print( 8 << 2)\n",
    "print(bin(8 << 2))"
   ]
  }
 ],
 "metadata": {
  "kernelspec": {
   "display_name": "Python 3 (ipykernel)",
   "language": "python",
   "name": "python3"
  },
  "language_info": {
   "codemirror_mode": {
    "name": "ipython",
    "version": 3
   },
   "file_extension": ".py",
   "mimetype": "text/x-python",
   "name": "python",
   "nbconvert_exporter": "python",
   "pygments_lexer": "ipython3",
   "version": "3.13.2"
  }
 },
 "nbformat": 4,
 "nbformat_minor": 5
}
